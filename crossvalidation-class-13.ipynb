{
 "cells": [
  {
   "cell_type": "markdown",
   "id": "738332cd",
   "metadata": {
    "papermill": {
     "duration": 0.024722,
     "end_time": "2023-05-28T14:21:11.892715",
     "exception": false,
     "start_time": "2023-05-28T14:21:11.867993",
     "status": "completed"
    },
    "tags": []
   },
   "source": [
    "# Class 13"
   ]
  },
  {
   "cell_type": "code",
   "execution_count": 1,
   "id": "542e7523",
   "metadata": {
    "execution": {
     "iopub.execute_input": "2023-05-28T14:21:11.942320Z",
     "iopub.status.busy": "2023-05-28T14:21:11.941823Z",
     "iopub.status.idle": "2023-05-28T14:21:13.312671Z",
     "shell.execute_reply": "2023-05-28T14:21:13.311958Z"
    },
    "papermill": {
     "duration": 1.397593,
     "end_time": "2023-05-28T14:21:13.314906",
     "exception": false,
     "start_time": "2023-05-28T14:21:11.917313",
     "status": "completed"
    },
    "tags": []
   },
   "outputs": [],
   "source": [
    "import pandas as pd\n",
    "import numpy as np\n",
    "import seaborn as sns\n",
    "import matplotlib.pyplot as plt"
   ]
  },
  {
   "cell_type": "code",
   "execution_count": 2,
   "id": "14023419",
   "metadata": {
    "execution": {
     "iopub.execute_input": "2023-05-28T14:21:13.360233Z",
     "iopub.status.busy": "2023-05-28T14:21:13.359884Z",
     "iopub.status.idle": "2023-05-28T14:21:13.417861Z",
     "shell.execute_reply": "2023-05-28T14:21:13.416412Z"
    },
    "papermill": {
     "duration": 0.083601,
     "end_time": "2023-05-28T14:21:13.420218",
     "exception": false,
     "start_time": "2023-05-28T14:21:13.336617",
     "status": "completed"
    },
    "tags": []
   },
   "outputs": [],
   "source": [
    "df =pd.read_csv(\"/kaggle/input/customer-churn-prediction-datasets/Customer-Churn-Prediction.csv\")"
   ]
  },
  {
   "cell_type": "code",
   "execution_count": 3,
   "id": "efa12d1c",
   "metadata": {
    "execution": {
     "iopub.execute_input": "2023-05-28T14:21:13.464077Z",
     "iopub.status.busy": "2023-05-28T14:21:13.463774Z",
     "iopub.status.idle": "2023-05-28T14:21:13.471203Z",
     "shell.execute_reply": "2023-05-28T14:21:13.469652Z"
    },
    "papermill": {
     "duration": 0.032151,
     "end_time": "2023-05-28T14:21:13.473577",
     "exception": false,
     "start_time": "2023-05-28T14:21:13.441426",
     "status": "completed"
    },
    "tags": []
   },
   "outputs": [],
   "source": [
    "df1 = df.copy()\n",
    "df2 = df.copy()\n",
    "df3 = df.copy()"
   ]
  },
  {
   "cell_type": "code",
   "execution_count": 4,
   "id": "1e43d68a",
   "metadata": {
    "execution": {
     "iopub.execute_input": "2023-05-28T14:21:13.518711Z",
     "iopub.status.busy": "2023-05-28T14:21:13.518383Z",
     "iopub.status.idle": "2023-05-28T14:21:13.560862Z",
     "shell.execute_reply": "2023-05-28T14:21:13.560081Z"
    },
    "papermill": {
     "duration": 0.067245,
     "end_time": "2023-05-28T14:21:13.562602",
     "exception": false,
     "start_time": "2023-05-28T14:21:13.495357",
     "status": "completed"
    },
    "tags": []
   },
   "outputs": [
    {
     "data": {
      "text/html": [
       "<div>\n",
       "<style scoped>\n",
       "    .dataframe tbody tr th:only-of-type {\n",
       "        vertical-align: middle;\n",
       "    }\n",
       "\n",
       "    .dataframe tbody tr th {\n",
       "        vertical-align: top;\n",
       "    }\n",
       "\n",
       "    .dataframe thead th {\n",
       "        text-align: right;\n",
       "    }\n",
       "</style>\n",
       "<table border=\"1\" class=\"dataframe\">\n",
       "  <thead>\n",
       "    <tr style=\"text-align: right;\">\n",
       "      <th></th>\n",
       "      <th>customerID</th>\n",
       "      <th>gender</th>\n",
       "      <th>SeniorCitizen</th>\n",
       "      <th>Partner</th>\n",
       "      <th>Dependents</th>\n",
       "      <th>tenure</th>\n",
       "      <th>PhoneService</th>\n",
       "      <th>MultipleLines</th>\n",
       "      <th>InternetService</th>\n",
       "      <th>OnlineSecurity</th>\n",
       "      <th>...</th>\n",
       "      <th>DeviceProtection</th>\n",
       "      <th>TechSupport</th>\n",
       "      <th>StreamingTV</th>\n",
       "      <th>StreamingMovies</th>\n",
       "      <th>Contract</th>\n",
       "      <th>PaperlessBilling</th>\n",
       "      <th>PaymentMethod</th>\n",
       "      <th>MonthlyCharges</th>\n",
       "      <th>TotalCharges</th>\n",
       "      <th>Churn</th>\n",
       "    </tr>\n",
       "  </thead>\n",
       "  <tbody>\n",
       "    <tr>\n",
       "      <th>0</th>\n",
       "      <td>7590-VHVEG</td>\n",
       "      <td>Female</td>\n",
       "      <td>0</td>\n",
       "      <td>Yes</td>\n",
       "      <td>No</td>\n",
       "      <td>1</td>\n",
       "      <td>No</td>\n",
       "      <td>No phone service</td>\n",
       "      <td>DSL</td>\n",
       "      <td>No</td>\n",
       "      <td>...</td>\n",
       "      <td>No</td>\n",
       "      <td>No</td>\n",
       "      <td>No</td>\n",
       "      <td>No</td>\n",
       "      <td>Month-to-month</td>\n",
       "      <td>Yes</td>\n",
       "      <td>Electronic check</td>\n",
       "      <td>29.85</td>\n",
       "      <td>29.85</td>\n",
       "      <td>No</td>\n",
       "    </tr>\n",
       "    <tr>\n",
       "      <th>1</th>\n",
       "      <td>5575-GNVDE</td>\n",
       "      <td>Male</td>\n",
       "      <td>0</td>\n",
       "      <td>No</td>\n",
       "      <td>No</td>\n",
       "      <td>34</td>\n",
       "      <td>Yes</td>\n",
       "      <td>No</td>\n",
       "      <td>DSL</td>\n",
       "      <td>Yes</td>\n",
       "      <td>...</td>\n",
       "      <td>Yes</td>\n",
       "      <td>No</td>\n",
       "      <td>No</td>\n",
       "      <td>No</td>\n",
       "      <td>One year</td>\n",
       "      <td>No</td>\n",
       "      <td>Mailed check</td>\n",
       "      <td>56.95</td>\n",
       "      <td>1889.5</td>\n",
       "      <td>No</td>\n",
       "    </tr>\n",
       "    <tr>\n",
       "      <th>2</th>\n",
       "      <td>3668-QPYBK</td>\n",
       "      <td>Male</td>\n",
       "      <td>0</td>\n",
       "      <td>No</td>\n",
       "      <td>No</td>\n",
       "      <td>2</td>\n",
       "      <td>Yes</td>\n",
       "      <td>No</td>\n",
       "      <td>DSL</td>\n",
       "      <td>Yes</td>\n",
       "      <td>...</td>\n",
       "      <td>No</td>\n",
       "      <td>No</td>\n",
       "      <td>No</td>\n",
       "      <td>No</td>\n",
       "      <td>Month-to-month</td>\n",
       "      <td>Yes</td>\n",
       "      <td>Mailed check</td>\n",
       "      <td>53.85</td>\n",
       "      <td>108.15</td>\n",
       "      <td>Yes</td>\n",
       "    </tr>\n",
       "    <tr>\n",
       "      <th>3</th>\n",
       "      <td>7795-CFOCW</td>\n",
       "      <td>Male</td>\n",
       "      <td>0</td>\n",
       "      <td>No</td>\n",
       "      <td>No</td>\n",
       "      <td>45</td>\n",
       "      <td>No</td>\n",
       "      <td>No phone service</td>\n",
       "      <td>DSL</td>\n",
       "      <td>Yes</td>\n",
       "      <td>...</td>\n",
       "      <td>Yes</td>\n",
       "      <td>Yes</td>\n",
       "      <td>No</td>\n",
       "      <td>No</td>\n",
       "      <td>One year</td>\n",
       "      <td>No</td>\n",
       "      <td>Bank transfer (automatic)</td>\n",
       "      <td>42.30</td>\n",
       "      <td>1840.75</td>\n",
       "      <td>No</td>\n",
       "    </tr>\n",
       "    <tr>\n",
       "      <th>4</th>\n",
       "      <td>9237-HQITU</td>\n",
       "      <td>Female</td>\n",
       "      <td>0</td>\n",
       "      <td>No</td>\n",
       "      <td>No</td>\n",
       "      <td>2</td>\n",
       "      <td>Yes</td>\n",
       "      <td>No</td>\n",
       "      <td>Fiber optic</td>\n",
       "      <td>No</td>\n",
       "      <td>...</td>\n",
       "      <td>No</td>\n",
       "      <td>No</td>\n",
       "      <td>No</td>\n",
       "      <td>No</td>\n",
       "      <td>Month-to-month</td>\n",
       "      <td>Yes</td>\n",
       "      <td>Electronic check</td>\n",
       "      <td>70.70</td>\n",
       "      <td>151.65</td>\n",
       "      <td>Yes</td>\n",
       "    </tr>\n",
       "  </tbody>\n",
       "</table>\n",
       "<p>5 rows × 21 columns</p>\n",
       "</div>"
      ],
      "text/plain": [
       "   customerID  gender  SeniorCitizen Partner Dependents  tenure PhoneService  \\\n",
       "0  7590-VHVEG  Female              0     Yes         No       1           No   \n",
       "1  5575-GNVDE    Male              0      No         No      34          Yes   \n",
       "2  3668-QPYBK    Male              0      No         No       2          Yes   \n",
       "3  7795-CFOCW    Male              0      No         No      45           No   \n",
       "4  9237-HQITU  Female              0      No         No       2          Yes   \n",
       "\n",
       "      MultipleLines InternetService OnlineSecurity  ... DeviceProtection  \\\n",
       "0  No phone service             DSL             No  ...               No   \n",
       "1                No             DSL            Yes  ...              Yes   \n",
       "2                No             DSL            Yes  ...               No   \n",
       "3  No phone service             DSL            Yes  ...              Yes   \n",
       "4                No     Fiber optic             No  ...               No   \n",
       "\n",
       "  TechSupport StreamingTV StreamingMovies        Contract PaperlessBilling  \\\n",
       "0          No          No              No  Month-to-month              Yes   \n",
       "1          No          No              No        One year               No   \n",
       "2          No          No              No  Month-to-month              Yes   \n",
       "3         Yes          No              No        One year               No   \n",
       "4          No          No              No  Month-to-month              Yes   \n",
       "\n",
       "               PaymentMethod MonthlyCharges  TotalCharges Churn  \n",
       "0           Electronic check          29.85         29.85    No  \n",
       "1               Mailed check          56.95        1889.5    No  \n",
       "2               Mailed check          53.85        108.15   Yes  \n",
       "3  Bank transfer (automatic)          42.30       1840.75    No  \n",
       "4           Electronic check          70.70        151.65   Yes  \n",
       "\n",
       "[5 rows x 21 columns]"
      ]
     },
     "execution_count": 4,
     "metadata": {},
     "output_type": "execute_result"
    }
   ],
   "source": [
    "df.head()"
   ]
  },
  {
   "cell_type": "code",
   "execution_count": 5,
   "id": "fc49e53e",
   "metadata": {
    "execution": {
     "iopub.execute_input": "2023-05-28T14:21:13.609037Z",
     "iopub.status.busy": "2023-05-28T14:21:13.607928Z",
     "iopub.status.idle": "2023-05-28T14:21:13.613629Z",
     "shell.execute_reply": "2023-05-28T14:21:13.612606Z"
    },
    "papermill": {
     "duration": 0.030581,
     "end_time": "2023-05-28T14:21:13.615220",
     "exception": false,
     "start_time": "2023-05-28T14:21:13.584639",
     "status": "completed"
    },
    "tags": []
   },
   "outputs": [
    {
     "data": {
      "text/plain": [
       "(7043, 21)"
      ]
     },
     "execution_count": 5,
     "metadata": {},
     "output_type": "execute_result"
    }
   ],
   "source": [
    "df.shape"
   ]
  },
  {
   "cell_type": "code",
   "execution_count": 6,
   "id": "a0f34eb0",
   "metadata": {
    "execution": {
     "iopub.execute_input": "2023-05-28T14:21:13.660464Z",
     "iopub.status.busy": "2023-05-28T14:21:13.659903Z",
     "iopub.status.idle": "2023-05-28T14:21:13.686009Z",
     "shell.execute_reply": "2023-05-28T14:21:13.685018Z"
    },
    "papermill": {
     "duration": 0.05141,
     "end_time": "2023-05-28T14:21:13.688420",
     "exception": false,
     "start_time": "2023-05-28T14:21:13.637010",
     "status": "completed"
    },
    "tags": []
   },
   "outputs": [
    {
     "data": {
      "text/plain": [
       "customerID          0\n",
       "gender              0\n",
       "SeniorCitizen       0\n",
       "Partner             0\n",
       "Dependents          0\n",
       "tenure              0\n",
       "PhoneService        0\n",
       "MultipleLines       0\n",
       "InternetService     0\n",
       "OnlineSecurity      0\n",
       "OnlineBackup        0\n",
       "DeviceProtection    0\n",
       "TechSupport         0\n",
       "StreamingTV         0\n",
       "StreamingMovies     0\n",
       "Contract            0\n",
       "PaperlessBilling    0\n",
       "PaymentMethod       0\n",
       "MonthlyCharges      0\n",
       "TotalCharges        0\n",
       "Churn               0\n",
       "dtype: int64"
      ]
     },
     "execution_count": 6,
     "metadata": {},
     "output_type": "execute_result"
    }
   ],
   "source": [
    "df.isnull().sum()"
   ]
  },
  {
   "cell_type": "code",
   "execution_count": 7,
   "id": "e090c31a",
   "metadata": {
    "execution": {
     "iopub.execute_input": "2023-05-28T14:21:13.736378Z",
     "iopub.status.busy": "2023-05-28T14:21:13.735980Z",
     "iopub.status.idle": "2023-05-28T14:21:13.747823Z",
     "shell.execute_reply": "2023-05-28T14:21:13.746619Z"
    },
    "papermill": {
     "duration": 0.038422,
     "end_time": "2023-05-28T14:21:13.750323",
     "exception": false,
     "start_time": "2023-05-28T14:21:13.711901",
     "status": "completed"
    },
    "tags": []
   },
   "outputs": [
    {
     "data": {
      "text/plain": [
       "No     5174\n",
       "Yes    1869\n",
       "Name: Churn, dtype: int64"
      ]
     },
     "execution_count": 7,
     "metadata": {},
     "output_type": "execute_result"
    }
   ],
   "source": [
    "df['Churn'].value_counts()"
   ]
  },
  {
   "cell_type": "code",
   "execution_count": 8,
   "id": "9604fae8",
   "metadata": {
    "execution": {
     "iopub.execute_input": "2023-05-28T14:21:13.803453Z",
     "iopub.status.busy": "2023-05-28T14:21:13.803102Z",
     "iopub.status.idle": "2023-05-28T14:21:13.809449Z",
     "shell.execute_reply": "2023-05-28T14:21:13.807935Z"
    },
    "papermill": {
     "duration": 0.036018,
     "end_time": "2023-05-28T14:21:13.811580",
     "exception": false,
     "start_time": "2023-05-28T14:21:13.775562",
     "status": "completed"
    },
    "tags": []
   },
   "outputs": [
    {
     "data": {
      "text/plain": [
       "0.2653698707936959"
      ]
     },
     "execution_count": 8,
     "metadata": {},
     "output_type": "execute_result"
    }
   ],
   "source": [
    "1869/(5174+1869)"
   ]
  },
  {
   "cell_type": "code",
   "execution_count": 9,
   "id": "571d58cf",
   "metadata": {
    "execution": {
     "iopub.execute_input": "2023-05-28T14:21:13.859385Z",
     "iopub.status.busy": "2023-05-28T14:21:13.859045Z",
     "iopub.status.idle": "2023-05-28T14:21:14.034804Z",
     "shell.execute_reply": "2023-05-28T14:21:14.033891Z"
    },
    "papermill": {
     "duration": 0.202275,
     "end_time": "2023-05-28T14:21:14.037152",
     "exception": false,
     "start_time": "2023-05-28T14:21:13.834877",
     "status": "completed"
    },
    "tags": []
   },
   "outputs": [
    {
     "data": {
      "text/plain": [
       "<Axes: xlabel='Churn', ylabel='count'>"
      ]
     },
     "execution_count": 9,
     "metadata": {},
     "output_type": "execute_result"
    },
    {
     "data": {
      "image/png": "[encoded data removed]",
      "text/plain": [
       "<Figure size 640x480 with 1 Axes>"
      ]
     },
     "metadata": {},
     "output_type": "display_data"
    }
   ],
   "source": [
    "sns.countplot(x=df['Churn'],color='green')"
   ]
  },
  {
   "cell_type": "code",
   "execution_count": 10,
   "id": "f82524a8",
   "metadata": {
    "execution": {
     "iopub.execute_input": "2023-05-28T14:21:14.084001Z",
     "iopub.status.busy": "2023-05-28T14:21:14.083653Z",
     "iopub.status.idle": "2023-05-28T14:21:14.107611Z",
     "shell.execute_reply": "2023-05-28T14:21:14.106535Z"
    },
    "papermill": {
     "duration": 0.049605,
     "end_time": "2023-05-28T14:21:14.109384",
     "exception": false,
     "start_time": "2023-05-28T14:21:14.059779",
     "status": "completed"
    },
    "tags": []
   },
   "outputs": [],
   "source": [
    "df = df.dropna()"
   ]
  },
  {
   "cell_type": "code",
   "execution_count": 11,
   "id": "e55766b8",
   "metadata": {
    "execution": {
     "iopub.execute_input": "2023-05-28T14:21:14.156759Z",
     "iopub.status.busy": "2023-05-28T14:21:14.155427Z",
     "iopub.status.idle": "2023-05-28T14:21:14.180343Z",
     "shell.execute_reply": "2023-05-28T14:21:14.179048Z"
    },
    "papermill": {
     "duration": 0.050647,
     "end_time": "2023-05-28T14:21:14.182707",
     "exception": false,
     "start_time": "2023-05-28T14:21:14.132060",
     "status": "completed"
    },
    "tags": []
   },
   "outputs": [],
   "source": [
    "df.drop_duplicates(inplace = True)"
   ]
  },
  {
   "cell_type": "code",
   "execution_count": 12,
   "id": "76899bb5",
   "metadata": {
    "execution": {
     "iopub.execute_input": "2023-05-28T14:21:14.231103Z",
     "iopub.status.busy": "2023-05-28T14:21:14.230732Z",
     "iopub.status.idle": "2023-05-28T14:21:14.237157Z",
     "shell.execute_reply": "2023-05-28T14:21:14.236195Z"
    },
    "papermill": {
     "duration": 0.033858,
     "end_time": "2023-05-28T14:21:14.239624",
     "exception": false,
     "start_time": "2023-05-28T14:21:14.205766",
     "status": "completed"
    },
    "tags": []
   },
   "outputs": [
    {
     "data": {
      "text/plain": [
       "(7043, 21)"
      ]
     },
     "execution_count": 12,
     "metadata": {},
     "output_type": "execute_result"
    }
   ],
   "source": [
    "df.shape"
   ]
  },
  {
   "cell_type": "code",
   "execution_count": 13,
   "id": "45a018eb",
   "metadata": {
    "execution": {
     "iopub.execute_input": "2023-05-28T14:21:14.288171Z",
     "iopub.status.busy": "2023-05-28T14:21:14.286921Z",
     "iopub.status.idle": "2023-05-28T14:21:14.301591Z",
     "shell.execute_reply": "2023-05-28T14:21:14.300553Z"
    },
    "papermill": {
     "duration": 0.040923,
     "end_time": "2023-05-28T14:21:14.303577",
     "exception": false,
     "start_time": "2023-05-28T14:21:14.262654",
     "status": "completed"
    },
    "tags": []
   },
   "outputs": [
    {
     "name": "stderr",
     "output_type": "stream",
     "text": [
      "/tmp/ipykernel_20/1134722465.py:1: FutureWarning: The default value of numeric_only in DataFrame.corr is deprecated. In a future version, it will default to False. Select only valid columns or specify the value of numeric_only to silence this warning.\n",
      "  df.corr()\n"
     ]
    },
    {
     "data": {
      "text/html": [
       "<div>\n",
       "<style scoped>\n",
       "    .dataframe tbody tr th:only-of-type {\n",
       "        vertical-align: middle;\n",
       "    }\n",
       "\n",
       "    .dataframe tbody tr th {\n",
       "        vertical-align: top;\n",
       "    }\n",
       "\n",
       "    .dataframe thead th {\n",
       "        text-align: right;\n",
       "    }\n",
       "</style>\n",
       "<table border=\"1\" class=\"dataframe\">\n",
       "  <thead>\n",
       "    <tr style=\"text-align: right;\">\n",
       "      <th></th>\n",
       "      <th>SeniorCitizen</th>\n",
       "      <th>tenure</th>\n",
       "      <th>MonthlyCharges</th>\n",
       "    </tr>\n",
       "  </thead>\n",
       "  <tbody>\n",
       "    <tr>\n",
       "      <th>SeniorCitizen</th>\n",
       "      <td>1.000000</td>\n",
       "      <td>0.01609</td>\n",
       "      <td>0.219856</td>\n",
       "    </tr>\n",
       "    <tr>\n",
       "      <th>tenure</th>\n",
       "      <td>0.016090</td>\n",
       "      <td>1.00000</td>\n",
       "      <td>0.247890</td>\n",
       "    </tr>\n",
       "    <tr>\n",
       "      <th>MonthlyCharges</th>\n",
       "      <td>0.219856</td>\n",
       "      <td>0.24789</td>\n",
       "      <td>1.000000</td>\n",
       "    </tr>\n",
       "  </tbody>\n",
       "</table>\n",
       "</div>"
      ],
      "text/plain": [
       "                SeniorCitizen   tenure  MonthlyCharges\n",
       "SeniorCitizen        1.000000  0.01609        0.219856\n",
       "tenure               0.016090  1.00000        0.247890\n",
       "MonthlyCharges       0.219856  0.24789        1.000000"
      ]
     },
     "execution_count": 13,
     "metadata": {},
     "output_type": "execute_result"
    }
   ],
   "source": [
    "df.corr()"
   ]
  },
  {
   "cell_type": "code",
   "execution_count": 14,
   "id": "dc4f65d9",
   "metadata": {
    "execution": {
     "iopub.execute_input": "2023-05-28T14:21:14.352217Z",
     "iopub.status.busy": "2023-05-28T14:21:14.351630Z",
     "iopub.status.idle": "2023-05-28T14:21:14.612809Z",
     "shell.execute_reply": "2023-05-28T14:21:14.611804Z"
    },
    "papermill": {
     "duration": 0.288372,
     "end_time": "2023-05-28T14:21:14.614998",
     "exception": false,
     "start_time": "2023-05-28T14:21:14.326626",
     "status": "completed"
    },
    "tags": []
   },
   "outputs": [
    {
     "name": "stderr",
     "output_type": "stream",
     "text": [
      "/tmp/ipykernel_20/1515604522.py:2: FutureWarning: The default value of numeric_only in DataFrame.corr is deprecated. In a future version, it will default to False. Select only valid columns or specify the value of numeric_only to silence this warning.\n",
      "  sns.heatmap(df.corr(),annot=True)\n"
     ]
    },
    {
     "data": {
      "text/plain": [
       "<Axes: >"
      ]
     },
     "execution_count": 14,
     "metadata": {},
     "output_type": "execute_result"
    },
    {
     "data": {
      "image/png": "[encoded data removed]",
      "text/plain": [
       "<Figure size 1200x800 with 2 Axes>"
      ]
     },
     "metadata": {},
     "output_type": "display_data"
    }
   ],
   "source": [
    "plt.figure(figsize=(12,8))\n",
    "sns.heatmap(df.corr(),annot=True)"
   ]
  },
  {
   "cell_type": "markdown",
   "id": "5ba1c993",
   "metadata": {
    "papermill": {
     "duration": 0.023342,
     "end_time": "2023-05-28T14:21:14.662008",
     "exception": false,
     "start_time": "2023-05-28T14:21:14.638666",
     "status": "completed"
    },
    "tags": []
   },
   "source": [
    "## Data Visualization"
   ]
  },
  {
   "cell_type": "code",
   "execution_count": 15,
   "id": "f5f39442",
   "metadata": {
    "execution": {
     "iopub.execute_input": "2023-05-28T14:21:14.711722Z",
     "iopub.status.busy": "2023-05-28T14:21:14.710796Z",
     "iopub.status.idle": "2023-05-28T14:21:14.904169Z",
     "shell.execute_reply": "2023-05-28T14:21:14.902628Z"
    },
    "papermill": {
     "duration": 0.220622,
     "end_time": "2023-05-28T14:21:14.906629",
     "exception": false,
     "start_time": "2023-05-28T14:21:14.686007",
     "status": "completed"
    },
    "tags": []
   },
   "outputs": [
    {
     "data": {
      "text/plain": [
       "<Axes: xlabel='count', ylabel='gender'>"
      ]
     },
     "execution_count": 15,
     "metadata": {},
     "output_type": "execute_result"
    },
    {
     "data": {
      "image/png": "[encoded data removed]",
      "text/plain": [
       "<Figure size 640x480 with 1 Axes>"
      ]
     },
     "metadata": {},
     "output_type": "display_data"
    }
   ],
   "source": [
    "sns.countplot(y = 'gender', hue= 'Churn', data=df)"
   ]
  },
  {
   "cell_type": "code",
   "execution_count": 16,
   "id": "b2920454",
   "metadata": {
    "execution": {
     "iopub.execute_input": "2023-05-28T14:21:14.957351Z",
     "iopub.status.busy": "2023-05-28T14:21:14.956105Z",
     "iopub.status.idle": "2023-05-28T14:21:15.142399Z",
     "shell.execute_reply": "2023-05-28T14:21:15.141083Z"
    },
    "papermill": {
     "duration": 0.213512,
     "end_time": "2023-05-28T14:21:15.145050",
     "exception": false,
     "start_time": "2023-05-28T14:21:14.931538",
     "status": "completed"
    },
    "tags": []
   },
   "outputs": [
    {
     "data": {
      "text/plain": [
       "<Axes: xlabel='gender', ylabel='count'>"
      ]
     },
     "execution_count": 16,
     "metadata": {},
     "output_type": "execute_result"
    },
    {
     "data": {
      "image/png": "[encoded data removed]",
      "text/plain": [
       "<Figure size 640x480 with 1 Axes>"
      ]
     },
     "metadata": {},
     "output_type": "display_data"
    }
   ],
   "source": [
    "sns.countplot(x = 'gender', hue= 'Churn', data=df)"
   ]
  },
  {
   "cell_type": "code",
   "execution_count": 17,
   "id": "f9f0abf1",
   "metadata": {
    "execution": {
     "iopub.execute_input": "2023-05-28T14:21:15.194969Z",
     "iopub.status.busy": "2023-05-28T14:21:15.194600Z",
     "iopub.status.idle": "2023-05-28T14:21:15.413397Z",
     "shell.execute_reply": "2023-05-28T14:21:15.412161Z"
    },
    "papermill": {
     "duration": 0.246232,
     "end_time": "2023-05-28T14:21:15.415488",
     "exception": false,
     "start_time": "2023-05-28T14:21:15.169256",
     "status": "completed"
    },
    "tags": []
   },
   "outputs": [
    {
     "data": {
      "text/plain": [
       "<Axes: xlabel='InternetService', ylabel='count'>"
      ]
     },
     "execution_count": 17,
     "metadata": {},
     "output_type": "execute_result"
    },
    {
     "data": {
      "image/png": "[encoded data removed]",
      "text/plain": [
       "<Figure size 640x480 with 1 Axes>"
      ]
     },
     "metadata": {},
     "output_type": "display_data"
    }
   ],
   "source": [
    "sns.countplot(x = 'InternetService', hue= 'Churn', data=df)"
   ]
  },
  {
   "cell_type": "code",
   "execution_count": 18,
   "id": "869cb482",
   "metadata": {
    "execution": {
     "iopub.execute_input": "2023-05-28T14:21:15.466358Z",
     "iopub.status.busy": "2023-05-28T14:21:15.465978Z",
     "iopub.status.idle": "2023-05-28T14:21:15.648857Z",
     "shell.execute_reply": "2023-05-28T14:21:15.647798Z"
    },
    "papermill": {
     "duration": 0.211198,
     "end_time": "2023-05-28T14:21:15.651486",
     "exception": false,
     "start_time": "2023-05-28T14:21:15.440288",
     "status": "completed"
    },
    "tags": []
   },
   "outputs": [
    {
     "data": {
      "text/plain": [
       "<Axes: xlabel='PhoneService', ylabel='count'>"
      ]
     },
     "execution_count": 18,
     "metadata": {},
     "output_type": "execute_result"
    },
    {
     "data": {
      "image/png": "[encoded data removed]",
      "text/plain": [
       "<Figure size 640x480 with 1 Axes>"
      ]
     },
     "metadata": {},
     "output_type": "display_data"
    }
   ],
   "source": [
    "sns.countplot(x = 'PhoneService', hue= 'Churn', data=df)"
   ]
  },
  {
   "cell_type": "code",
   "execution_count": 19,
   "id": "781df364",
   "metadata": {
    "execution": {
     "iopub.execute_input": "2023-05-28T14:21:15.703843Z",
     "iopub.status.busy": "2023-05-28T14:21:15.703484Z",
     "iopub.status.idle": "2023-05-28T14:21:15.927782Z",
     "shell.execute_reply": "2023-05-28T14:21:15.926505Z"
    },
    "papermill": {
     "duration": 0.252882,
     "end_time": "2023-05-28T14:21:15.929776",
     "exception": false,
     "start_time": "2023-05-28T14:21:15.676894",
     "status": "completed"
    },
    "tags": []
   },
   "outputs": [
    {
     "data": {
      "text/plain": [
       "<Axes: xlabel='OnlineSecurity', ylabel='count'>"
      ]
     },
     "execution_count": 19,
     "metadata": {},
     "output_type": "execute_result"
    },
    {
     "data": {
      "image/png": "[encoded data removed]",
      "text/plain": [
       "<Figure size 640x480 with 1 Axes>"
      ]
     },
     "metadata": {},
     "output_type": "display_data"
    }
   ],
   "source": [
    "sns.countplot(x = 'OnlineSecurity', hue= 'Churn', data=df)"
   ]
  },
  {
   "cell_type": "code",
   "execution_count": 20,
   "id": "ee2ee24c",
   "metadata": {
    "execution": {
     "iopub.execute_input": "2023-05-28T14:21:15.987204Z",
     "iopub.status.busy": "2023-05-28T14:21:15.986842Z",
     "iopub.status.idle": "2023-05-28T14:21:15.995944Z",
     "shell.execute_reply": "2023-05-28T14:21:15.994921Z"
    },
    "papermill": {
     "duration": 0.039899,
     "end_time": "2023-05-28T14:21:15.998217",
     "exception": false,
     "start_time": "2023-05-28T14:21:15.958318",
     "status": "completed"
    },
    "tags": []
   },
   "outputs": [
    {
     "data": {
      "text/plain": [
       "No                     3498\n",
       "Yes                    2019\n",
       "No internet service    1526\n",
       "Name: OnlineSecurity, dtype: int64"
      ]
     },
     "execution_count": 20,
     "metadata": {},
     "output_type": "execute_result"
    }
   ],
   "source": [
    "df['OnlineSecurity'].value_counts()"
   ]
  },
  {
   "cell_type": "code",
   "execution_count": 21,
   "id": "2a693e65",
   "metadata": {
    "execution": {
     "iopub.execute_input": "2023-05-28T14:21:16.051256Z",
     "iopub.status.busy": "2023-05-28T14:21:16.050888Z",
     "iopub.status.idle": "2023-05-28T14:21:16.290971Z",
     "shell.execute_reply": "2023-05-28T14:21:16.290270Z"
    },
    "papermill": {
     "duration": 0.268643,
     "end_time": "2023-05-28T14:21:16.292691",
     "exception": false,
     "start_time": "2023-05-28T14:21:16.024048",
     "status": "completed"
    },
    "tags": []
   },
   "outputs": [
    {
     "data": {
      "text/plain": [
       "<Axes: xlabel='PaymentMethod', ylabel='count'>"
      ]
     },
     "execution_count": 21,
     "metadata": {},
     "output_type": "execute_result"
    },
    {
     "data": {
      "image/png": "[encoded data removed]",
      "text/plain": [
       "<Figure size 1000x600 with 1 Axes>"
      ]
     },
     "metadata": {},
     "output_type": "display_data"
    }
   ],
   "source": [
    "plt.subplots(figsize=(10,6))\n",
    "sns.countplot(x = 'PaymentMethod', hue= 'Churn', data=df)"
   ]
  },
  {
   "cell_type": "code",
   "execution_count": 22,
   "id": "9e00259a",
   "metadata": {
    "execution": {
     "iopub.execute_input": "2023-05-28T14:21:16.346900Z",
     "iopub.status.busy": "2023-05-28T14:21:16.346561Z",
     "iopub.status.idle": "2023-05-28T14:21:16.606132Z",
     "shell.execute_reply": "2023-05-28T14:21:16.605040Z"
    },
    "papermill": {
     "duration": 0.288486,
     "end_time": "2023-05-28T14:21:16.608497",
     "exception": false,
     "start_time": "2023-05-28T14:21:16.320011",
     "status": "completed"
    },
    "tags": []
   },
   "outputs": [
    {
     "data": {
      "text/plain": [
       "<Axes: xlabel='count', ylabel='PaymentMethod'>"
      ]
     },
     "execution_count": 22,
     "metadata": {},
     "output_type": "execute_result"
    },
    {
     "data": {
      "image/png": "[encoded data removed]",
      "text/plain": [
       "<Figure size 1000x600 with 1 Axes>"
      ]
     },
     "metadata": {},
     "output_type": "display_data"
    }
   ],
   "source": [
    "plt.subplots(figsize=(10,6))\n",
    "sns.countplot(y = 'PaymentMethod', hue= 'Churn', data=df)"
   ]
  },
  {
   "cell_type": "markdown",
   "id": "8fda096a",
   "metadata": {
    "papermill": {
     "duration": 0.026105,
     "end_time": "2023-05-28T14:21:16.661494",
     "exception": false,
     "start_time": "2023-05-28T14:21:16.635389",
     "status": "completed"
    },
    "tags": []
   },
   "source": [
    "## Preprocessing"
   ]
  },
  {
   "cell_type": "code",
   "execution_count": 23,
   "id": "e079818c",
   "metadata": {
    "execution": {
     "iopub.execute_input": "2023-05-28T14:21:16.717010Z",
     "iopub.status.busy": "2023-05-28T14:21:16.716666Z",
     "iopub.status.idle": "2023-05-28T14:21:16.723665Z",
     "shell.execute_reply": "2023-05-28T14:21:16.722954Z"
    },
    "papermill": {
     "duration": 0.037315,
     "end_time": "2023-05-28T14:21:16.725825",
     "exception": false,
     "start_time": "2023-05-28T14:21:16.688510",
     "status": "completed"
    },
    "tags": []
   },
   "outputs": [],
   "source": [
    "df = df.drop('customerID',axis=1)"
   ]
  },
  {
   "cell_type": "code",
   "execution_count": 24,
   "id": "d577c142",
   "metadata": {
    "execution": {
     "iopub.execute_input": "2023-05-28T14:21:16.781482Z",
     "iopub.status.busy": "2023-05-28T14:21:16.780913Z",
     "iopub.status.idle": "2023-05-28T14:21:16.786356Z",
     "shell.execute_reply": "2023-05-28T14:21:16.785449Z"
    },
    "papermill": {
     "duration": 0.035117,
     "end_time": "2023-05-28T14:21:16.787989",
     "exception": false,
     "start_time": "2023-05-28T14:21:16.752872",
     "status": "completed"
    },
    "tags": []
   },
   "outputs": [
    {
     "data": {
      "text/plain": [
       "(7043, 20)"
      ]
     },
     "execution_count": 24,
     "metadata": {},
     "output_type": "execute_result"
    }
   ],
   "source": [
    "df.shape"
   ]
  },
  {
   "cell_type": "code",
   "execution_count": 25,
   "id": "9a3e11c3",
   "metadata": {
    "execution": {
     "iopub.execute_input": "2023-05-28T14:21:16.842161Z",
     "iopub.status.busy": "2023-05-28T14:21:16.841805Z",
     "iopub.status.idle": "2023-05-28T14:21:16.858790Z",
     "shell.execute_reply": "2023-05-28T14:21:16.858171Z"
    },
    "papermill": {
     "duration": 0.045858,
     "end_time": "2023-05-28T14:21:16.860399",
     "exception": false,
     "start_time": "2023-05-28T14:21:16.814541",
     "status": "completed"
    },
    "tags": []
   },
   "outputs": [
    {
     "data": {
      "text/html": [
       "<div>\n",
       "<style scoped>\n",
       "    .dataframe tbody tr th:only-of-type {\n",
       "        vertical-align: middle;\n",
       "    }\n",
       "\n",
       "    .dataframe tbody tr th {\n",
       "        vertical-align: top;\n",
       "    }\n",
       "\n",
       "    .dataframe thead th {\n",
       "        text-align: right;\n",
       "    }\n",
       "</style>\n",
       "<table border=\"1\" class=\"dataframe\">\n",
       "  <thead>\n",
       "    <tr style=\"text-align: right;\">\n",
       "      <th></th>\n",
       "      <th>gender</th>\n",
       "      <th>SeniorCitizen</th>\n",
       "      <th>Partner</th>\n",
       "      <th>Dependents</th>\n",
       "      <th>tenure</th>\n",
       "      <th>PhoneService</th>\n",
       "      <th>MultipleLines</th>\n",
       "      <th>InternetService</th>\n",
       "      <th>OnlineSecurity</th>\n",
       "      <th>OnlineBackup</th>\n",
       "      <th>DeviceProtection</th>\n",
       "      <th>TechSupport</th>\n",
       "      <th>StreamingTV</th>\n",
       "      <th>StreamingMovies</th>\n",
       "      <th>Contract</th>\n",
       "      <th>PaperlessBilling</th>\n",
       "      <th>PaymentMethod</th>\n",
       "      <th>MonthlyCharges</th>\n",
       "      <th>TotalCharges</th>\n",
       "      <th>Churn</th>\n",
       "    </tr>\n",
       "  </thead>\n",
       "  <tbody>\n",
       "    <tr>\n",
       "      <th>0</th>\n",
       "      <td>Female</td>\n",
       "      <td>0</td>\n",
       "      <td>Yes</td>\n",
       "      <td>No</td>\n",
       "      <td>1</td>\n",
       "      <td>No</td>\n",
       "      <td>No phone service</td>\n",
       "      <td>DSL</td>\n",
       "      <td>No</td>\n",
       "      <td>Yes</td>\n",
       "      <td>No</td>\n",
       "      <td>No</td>\n",
       "      <td>No</td>\n",
       "      <td>No</td>\n",
       "      <td>Month-to-month</td>\n",
       "      <td>Yes</td>\n",
       "      <td>Electronic check</td>\n",
       "      <td>29.85</td>\n",
       "      <td>29.85</td>\n",
       "      <td>No</td>\n",
       "    </tr>\n",
       "    <tr>\n",
       "      <th>1</th>\n",
       "      <td>Male</td>\n",
       "      <td>0</td>\n",
       "      <td>No</td>\n",
       "      <td>No</td>\n",
       "      <td>34</td>\n",
       "      <td>Yes</td>\n",
       "      <td>No</td>\n",
       "      <td>DSL</td>\n",
       "      <td>Yes</td>\n",
       "      <td>No</td>\n",
       "      <td>Yes</td>\n",
       "      <td>No</td>\n",
       "      <td>No</td>\n",
       "      <td>No</td>\n",
       "      <td>One year</td>\n",
       "      <td>No</td>\n",
       "      <td>Mailed check</td>\n",
       "      <td>56.95</td>\n",
       "      <td>1889.5</td>\n",
       "      <td>No</td>\n",
       "    </tr>\n",
       "    <tr>\n",
       "      <th>2</th>\n",
       "      <td>Male</td>\n",
       "      <td>0</td>\n",
       "      <td>No</td>\n",
       "      <td>No</td>\n",
       "      <td>2</td>\n",
       "      <td>Yes</td>\n",
       "      <td>No</td>\n",
       "      <td>DSL</td>\n",
       "      <td>Yes</td>\n",
       "      <td>Yes</td>\n",
       "      <td>No</td>\n",
       "      <td>No</td>\n",
       "      <td>No</td>\n",
       "      <td>No</td>\n",
       "      <td>Month-to-month</td>\n",
       "      <td>Yes</td>\n",
       "      <td>Mailed check</td>\n",
       "      <td>53.85</td>\n",
       "      <td>108.15</td>\n",
       "      <td>Yes</td>\n",
       "    </tr>\n",
       "    <tr>\n",
       "      <th>3</th>\n",
       "      <td>Male</td>\n",
       "      <td>0</td>\n",
       "      <td>No</td>\n",
       "      <td>No</td>\n",
       "      <td>45</td>\n",
       "      <td>No</td>\n",
       "      <td>No phone service</td>\n",
       "      <td>DSL</td>\n",
       "      <td>Yes</td>\n",
       "      <td>No</td>\n",
       "      <td>Yes</td>\n",
       "      <td>Yes</td>\n",
       "      <td>No</td>\n",
       "      <td>No</td>\n",
       "      <td>One year</td>\n",
       "      <td>No</td>\n",
       "      <td>Bank transfer (automatic)</td>\n",
       "      <td>42.30</td>\n",
       "      <td>1840.75</td>\n",
       "      <td>No</td>\n",
       "    </tr>\n",
       "    <tr>\n",
       "      <th>4</th>\n",
       "      <td>Female</td>\n",
       "      <td>0</td>\n",
       "      <td>No</td>\n",
       "      <td>No</td>\n",
       "      <td>2</td>\n",
       "      <td>Yes</td>\n",
       "      <td>No</td>\n",
       "      <td>Fiber optic</td>\n",
       "      <td>No</td>\n",
       "      <td>No</td>\n",
       "      <td>No</td>\n",
       "      <td>No</td>\n",
       "      <td>No</td>\n",
       "      <td>No</td>\n",
       "      <td>Month-to-month</td>\n",
       "      <td>Yes</td>\n",
       "      <td>Electronic check</td>\n",
       "      <td>70.70</td>\n",
       "      <td>151.65</td>\n",
       "      <td>Yes</td>\n",
       "    </tr>\n",
       "  </tbody>\n",
       "</table>\n",
       "</div>"
      ],
      "text/plain": [
       "   gender  SeniorCitizen Partner Dependents  tenure PhoneService  \\\n",
       "0  Female              0     Yes         No       1           No   \n",
       "1    Male              0      No         No      34          Yes   \n",
       "2    Male              0      No         No       2          Yes   \n",
       "3    Male              0      No         No      45           No   \n",
       "4  Female              0      No         No       2          Yes   \n",
       "\n",
       "      MultipleLines InternetService OnlineSecurity OnlineBackup  \\\n",
       "0  No phone service             DSL             No          Yes   \n",
       "1                No             DSL            Yes           No   \n",
       "2                No             DSL            Yes          Yes   \n",
       "3  No phone service             DSL            Yes           No   \n",
       "4                No     Fiber optic             No           No   \n",
       "\n",
       "  DeviceProtection TechSupport StreamingTV StreamingMovies        Contract  \\\n",
       "0               No          No          No              No  Month-to-month   \n",
       "1              Yes          No          No              No        One year   \n",
       "2               No          No          No              No  Month-to-month   \n",
       "3              Yes         Yes          No              No        One year   \n",
       "4               No          No          No              No  Month-to-month   \n",
       "\n",
       "  PaperlessBilling              PaymentMethod  MonthlyCharges TotalCharges  \\\n",
       "0              Yes           Electronic check           29.85        29.85   \n",
       "1               No               Mailed check           56.95       1889.5   \n",
       "2              Yes               Mailed check           53.85       108.15   \n",
       "3               No  Bank transfer (automatic)           42.30      1840.75   \n",
       "4              Yes           Electronic check           70.70       151.65   \n",
       "\n",
       "  Churn  \n",
       "0    No  \n",
       "1    No  \n",
       "2   Yes  \n",
       "3    No  \n",
       "4   Yes  "
      ]
     },
     "execution_count": 25,
     "metadata": {},
     "output_type": "execute_result"
    }
   ],
   "source": [
    "df.head()"
   ]
  },
  {
   "cell_type": "markdown",
   "id": "55775d51",
   "metadata": {
    "papermill": {
     "duration": 0.02635,
     "end_time": "2023-05-28T14:21:16.913924",
     "exception": false,
     "start_time": "2023-05-28T14:21:16.887574",
     "status": "completed"
    },
    "tags": []
   },
   "source": [
    "## Encoding"
   ]
  },
  {
   "cell_type": "code",
   "execution_count": 26,
   "id": "f398925b",
   "metadata": {
    "execution": {
     "iopub.execute_input": "2023-05-28T14:21:16.970564Z",
     "iopub.status.busy": "2023-05-28T14:21:16.969611Z",
     "iopub.status.idle": "2023-05-28T14:21:17.131099Z",
     "shell.execute_reply": "2023-05-28T14:21:17.129815Z"
    },
    "papermill": {
     "duration": 0.192723,
     "end_time": "2023-05-28T14:21:17.133457",
     "exception": false,
     "start_time": "2023-05-28T14:21:16.940734",
     "status": "completed"
    },
    "tags": []
   },
   "outputs": [],
   "source": [
    "from sklearn.preprocessing import LabelEncoder"
   ]
  },
  {
   "cell_type": "code",
   "execution_count": 27,
   "id": "032c000e",
   "metadata": {
    "execution": {
     "iopub.execute_input": "2023-05-28T14:21:17.188177Z",
     "iopub.status.busy": "2023-05-28T14:21:17.187731Z",
     "iopub.status.idle": "2023-05-28T14:21:17.191862Z",
     "shell.execute_reply": "2023-05-28T14:21:17.190997Z"
    },
    "papermill": {
     "duration": 0.034228,
     "end_time": "2023-05-28T14:21:17.194029",
     "exception": false,
     "start_time": "2023-05-28T14:21:17.159801",
     "status": "completed"
    },
    "tags": []
   },
   "outputs": [],
   "source": [
    "label = LabelEncoder()"
   ]
  },
  {
   "cell_type": "code",
   "execution_count": 28,
   "id": "739e0823",
   "metadata": {
    "execution": {
     "iopub.execute_input": "2023-05-28T14:21:17.249354Z",
     "iopub.status.busy": "2023-05-28T14:21:17.248998Z",
     "iopub.status.idle": "2023-05-28T14:21:17.254593Z",
     "shell.execute_reply": "2023-05-28T14:21:17.253982Z"
    },
    "papermill": {
     "duration": 0.035279,
     "end_time": "2023-05-28T14:21:17.256303",
     "exception": false,
     "start_time": "2023-05-28T14:21:17.221024",
     "status": "completed"
    },
    "tags": []
   },
   "outputs": [
    {
     "data": {
      "text/plain": [
       "Index(['gender', 'SeniorCitizen', 'Partner', 'Dependents', 'tenure',\n",
       "       'PhoneService', 'MultipleLines', 'InternetService', 'OnlineSecurity',\n",
       "       'OnlineBackup', 'DeviceProtection', 'TechSupport', 'StreamingTV',\n",
       "       'StreamingMovies', 'Contract', 'PaperlessBilling', 'PaymentMethod',\n",
       "       'MonthlyCharges', 'TotalCharges', 'Churn'],\n",
       "      dtype='object')"
      ]
     },
     "execution_count": 28,
     "metadata": {},
     "output_type": "execute_result"
    }
   ],
   "source": [
    "df.columns"
   ]
  },
  {
   "cell_type": "code",
   "execution_count": 29,
   "id": "f117a25a",
   "metadata": {
    "execution": {
     "iopub.execute_input": "2023-05-28T14:21:17.312001Z",
     "iopub.status.busy": "2023-05-28T14:21:17.311014Z",
     "iopub.status.idle": "2023-05-28T14:21:17.315848Z",
     "shell.execute_reply": "2023-05-28T14:21:17.315189Z"
    },
    "papermill": {
     "duration": 0.035107,
     "end_time": "2023-05-28T14:21:17.317925",
     "exception": false,
     "start_time": "2023-05-28T14:21:17.282818",
     "status": "completed"
    },
    "tags": []
   },
   "outputs": [],
   "source": [
    "from pandas.core.dtypes.common import is_numeric_dtype"
   ]
  },
  {
   "cell_type": "code",
   "execution_count": 30,
   "id": "e06513d3",
   "metadata": {
    "execution": {
     "iopub.execute_input": "2023-05-28T14:21:17.375135Z",
     "iopub.status.busy": "2023-05-28T14:21:17.374776Z",
     "iopub.status.idle": "2023-05-28T14:21:17.424758Z",
     "shell.execute_reply": "2023-05-28T14:21:17.423651Z"
    },
    "papermill": {
     "duration": 0.081237,
     "end_time": "2023-05-28T14:21:17.426963",
     "exception": false,
     "start_time": "2023-05-28T14:21:17.345726",
     "status": "completed"
    },
    "tags": []
   },
   "outputs": [],
   "source": [
    "for column in df.columns:\n",
    "    if is_numeric_dtype(df[column]):\n",
    "        continue\n",
    "    else:\n",
    "        df[column] = label.fit_transform(df[column])"
   ]
  },
  {
   "cell_type": "code",
   "execution_count": 31,
   "id": "d659a0d6",
   "metadata": {
    "execution": {
     "iopub.execute_input": "2023-05-28T14:21:17.482246Z",
     "iopub.status.busy": "2023-05-28T14:21:17.481906Z",
     "iopub.status.idle": "2023-05-28T14:21:17.496079Z",
     "shell.execute_reply": "2023-05-28T14:21:17.495280Z"
    },
    "papermill": {
     "duration": 0.043628,
     "end_time": "2023-05-28T14:21:17.497695",
     "exception": false,
     "start_time": "2023-05-28T14:21:17.454067",
     "status": "completed"
    },
    "tags": []
   },
   "outputs": [
    {
     "data": {
      "text/html": [
       "<div>\n",
       "<style scoped>\n",
       "    .dataframe tbody tr th:only-of-type {\n",
       "        vertical-align: middle;\n",
       "    }\n",
       "\n",
       "    .dataframe tbody tr th {\n",
       "        vertical-align: top;\n",
       "    }\n",
       "\n",
       "    .dataframe thead th {\n",
       "        text-align: right;\n",
       "    }\n",
       "</style>\n",
       "<table border=\"1\" class=\"dataframe\">\n",
       "  <thead>\n",
       "    <tr style=\"text-align: right;\">\n",
       "      <th></th>\n",
       "      <th>gender</th>\n",
       "      <th>SeniorCitizen</th>\n",
       "      <th>Partner</th>\n",
       "      <th>Dependents</th>\n",
       "      <th>tenure</th>\n",
       "      <th>PhoneService</th>\n",
       "      <th>MultipleLines</th>\n",
       "      <th>InternetService</th>\n",
       "      <th>OnlineSecurity</th>\n",
       "      <th>OnlineBackup</th>\n",
       "      <th>DeviceProtection</th>\n",
       "      <th>TechSupport</th>\n",
       "      <th>StreamingTV</th>\n",
       "      <th>StreamingMovies</th>\n",
       "      <th>Contract</th>\n",
       "      <th>PaperlessBilling</th>\n",
       "      <th>PaymentMethod</th>\n",
       "      <th>MonthlyCharges</th>\n",
       "      <th>TotalCharges</th>\n",
       "      <th>Churn</th>\n",
       "    </tr>\n",
       "  </thead>\n",
       "  <tbody>\n",
       "    <tr>\n",
       "      <th>0</th>\n",
       "      <td>0</td>\n",
       "      <td>0</td>\n",
       "      <td>1</td>\n",
       "      <td>0</td>\n",
       "      <td>1</td>\n",
       "      <td>0</td>\n",
       "      <td>1</td>\n",
       "      <td>0</td>\n",
       "      <td>0</td>\n",
       "      <td>2</td>\n",
       "      <td>0</td>\n",
       "      <td>0</td>\n",
       "      <td>0</td>\n",
       "      <td>0</td>\n",
       "      <td>0</td>\n",
       "      <td>1</td>\n",
       "      <td>2</td>\n",
       "      <td>29.85</td>\n",
       "      <td>2505</td>\n",
       "      <td>0</td>\n",
       "    </tr>\n",
       "    <tr>\n",
       "      <th>1</th>\n",
       "      <td>1</td>\n",
       "      <td>0</td>\n",
       "      <td>0</td>\n",
       "      <td>0</td>\n",
       "      <td>34</td>\n",
       "      <td>1</td>\n",
       "      <td>0</td>\n",
       "      <td>0</td>\n",
       "      <td>2</td>\n",
       "      <td>0</td>\n",
       "      <td>2</td>\n",
       "      <td>0</td>\n",
       "      <td>0</td>\n",
       "      <td>0</td>\n",
       "      <td>1</td>\n",
       "      <td>0</td>\n",
       "      <td>3</td>\n",
       "      <td>56.95</td>\n",
       "      <td>1466</td>\n",
       "      <td>0</td>\n",
       "    </tr>\n",
       "    <tr>\n",
       "      <th>2</th>\n",
       "      <td>1</td>\n",
       "      <td>0</td>\n",
       "      <td>0</td>\n",
       "      <td>0</td>\n",
       "      <td>2</td>\n",
       "      <td>1</td>\n",
       "      <td>0</td>\n",
       "      <td>0</td>\n",
       "      <td>2</td>\n",
       "      <td>2</td>\n",
       "      <td>0</td>\n",
       "      <td>0</td>\n",
       "      <td>0</td>\n",
       "      <td>0</td>\n",
       "      <td>0</td>\n",
       "      <td>1</td>\n",
       "      <td>3</td>\n",
       "      <td>53.85</td>\n",
       "      <td>157</td>\n",
       "      <td>1</td>\n",
       "    </tr>\n",
       "    <tr>\n",
       "      <th>3</th>\n",
       "      <td>1</td>\n",
       "      <td>0</td>\n",
       "      <td>0</td>\n",
       "      <td>0</td>\n",
       "      <td>45</td>\n",
       "      <td>0</td>\n",
       "      <td>1</td>\n",
       "      <td>0</td>\n",
       "      <td>2</td>\n",
       "      <td>0</td>\n",
       "      <td>2</td>\n",
       "      <td>2</td>\n",
       "      <td>0</td>\n",
       "      <td>0</td>\n",
       "      <td>1</td>\n",
       "      <td>0</td>\n",
       "      <td>0</td>\n",
       "      <td>42.30</td>\n",
       "      <td>1400</td>\n",
       "      <td>0</td>\n",
       "    </tr>\n",
       "    <tr>\n",
       "      <th>4</th>\n",
       "      <td>0</td>\n",
       "      <td>0</td>\n",
       "      <td>0</td>\n",
       "      <td>0</td>\n",
       "      <td>2</td>\n",
       "      <td>1</td>\n",
       "      <td>0</td>\n",
       "      <td>1</td>\n",
       "      <td>0</td>\n",
       "      <td>0</td>\n",
       "      <td>0</td>\n",
       "      <td>0</td>\n",
       "      <td>0</td>\n",
       "      <td>0</td>\n",
       "      <td>0</td>\n",
       "      <td>1</td>\n",
       "      <td>2</td>\n",
       "      <td>70.70</td>\n",
       "      <td>925</td>\n",
       "      <td>1</td>\n",
       "    </tr>\n",
       "  </tbody>\n",
       "</table>\n",
       "</div>"
      ],
      "text/plain": [
       "   gender  SeniorCitizen  Partner  Dependents  tenure  PhoneService  \\\n",
       "0       0              0        1           0       1             0   \n",
       "1       1              0        0           0      34             1   \n",
       "2       1              0        0           0       2             1   \n",
       "3       1              0        0           0      45             0   \n",
       "4       0              0        0           0       2             1   \n",
       "\n",
       "   MultipleLines  InternetService  OnlineSecurity  OnlineBackup  \\\n",
       "0              1                0               0             2   \n",
       "1              0                0               2             0   \n",
       "2              0                0               2             2   \n",
       "3              1                0               2             0   \n",
       "4              0                1               0             0   \n",
       "\n",
       "   DeviceProtection  TechSupport  StreamingTV  StreamingMovies  Contract  \\\n",
       "0                 0            0            0                0         0   \n",
       "1                 2            0            0                0         1   \n",
       "2                 0            0            0                0         0   \n",
       "3                 2            2            0                0         1   \n",
       "4                 0            0            0                0         0   \n",
       "\n",
       "   PaperlessBilling  PaymentMethod  MonthlyCharges  TotalCharges  Churn  \n",
       "0                 1              2           29.85          2505      0  \n",
       "1                 0              3           56.95          1466      0  \n",
       "2                 1              3           53.85           157      1  \n",
       "3                 0              0           42.30          1400      0  \n",
       "4                 1              2           70.70           925      1  "
      ]
     },
     "execution_count": 31,
     "metadata": {},
     "output_type": "execute_result"
    }
   ],
   "source": [
    "df.head()"
   ]
  },
  {
   "cell_type": "markdown",
   "id": "3c2e0f81",
   "metadata": {
    "papermill": {
     "duration": 0.026563,
     "end_time": "2023-05-28T14:21:17.550820",
     "exception": false,
     "start_time": "2023-05-28T14:21:17.524257",
     "status": "completed"
    },
    "tags": []
   },
   "source": [
    "## Define x and y"
   ]
  },
  {
   "cell_type": "code",
   "execution_count": 32,
   "id": "ca43993b",
   "metadata": {
    "execution": {
     "iopub.execute_input": "2023-05-28T14:21:17.606444Z",
     "iopub.status.busy": "2023-05-28T14:21:17.606103Z",
     "iopub.status.idle": "2023-05-28T14:21:17.611900Z",
     "shell.execute_reply": "2023-05-28T14:21:17.610695Z"
    },
    "papermill": {
     "duration": 0.036255,
     "end_time": "2023-05-28T14:21:17.613826",
     "exception": false,
     "start_time": "2023-05-28T14:21:17.577571",
     "status": "completed"
    },
    "tags": []
   },
   "outputs": [],
   "source": [
    "x = df.drop('Churn', axis=1)\n",
    "y = df['Churn']"
   ]
  },
  {
   "cell_type": "code",
   "execution_count": 33,
   "id": "7ed523ef",
   "metadata": {
    "execution": {
     "iopub.execute_input": "2023-05-28T14:21:17.670417Z",
     "iopub.status.busy": "2023-05-28T14:21:17.670051Z",
     "iopub.status.idle": "2023-05-28T14:21:17.685901Z",
     "shell.execute_reply": "2023-05-28T14:21:17.685025Z"
    },
    "papermill": {
     "duration": 0.047226,
     "end_time": "2023-05-28T14:21:17.687746",
     "exception": false,
     "start_time": "2023-05-28T14:21:17.640520",
     "status": "completed"
    },
    "tags": []
   },
   "outputs": [
    {
     "data": {
      "text/html": [
       "<div>\n",
       "<style scoped>\n",
       "    .dataframe tbody tr th:only-of-type {\n",
       "        vertical-align: middle;\n",
       "    }\n",
       "\n",
       "    .dataframe tbody tr th {\n",
       "        vertical-align: top;\n",
       "    }\n",
       "\n",
       "    .dataframe thead th {\n",
       "        text-align: right;\n",
       "    }\n",
       "</style>\n",
       "<table border=\"1\" class=\"dataframe\">\n",
       "  <thead>\n",
       "    <tr style=\"text-align: right;\">\n",
       "      <th></th>\n",
       "      <th>gender</th>\n",
       "      <th>SeniorCitizen</th>\n",
       "      <th>Partner</th>\n",
       "      <th>Dependents</th>\n",
       "      <th>tenure</th>\n",
       "      <th>PhoneService</th>\n",
       "      <th>MultipleLines</th>\n",
       "      <th>InternetService</th>\n",
       "      <th>OnlineSecurity</th>\n",
       "      <th>OnlineBackup</th>\n",
       "      <th>DeviceProtection</th>\n",
       "      <th>TechSupport</th>\n",
       "      <th>StreamingTV</th>\n",
       "      <th>StreamingMovies</th>\n",
       "      <th>Contract</th>\n",
       "      <th>PaperlessBilling</th>\n",
       "      <th>PaymentMethod</th>\n",
       "      <th>MonthlyCharges</th>\n",
       "      <th>TotalCharges</th>\n",
       "    </tr>\n",
       "  </thead>\n",
       "  <tbody>\n",
       "    <tr>\n",
       "      <th>0</th>\n",
       "      <td>0</td>\n",
       "      <td>0</td>\n",
       "      <td>1</td>\n",
       "      <td>0</td>\n",
       "      <td>1</td>\n",
       "      <td>0</td>\n",
       "      <td>1</td>\n",
       "      <td>0</td>\n",
       "      <td>0</td>\n",
       "      <td>2</td>\n",
       "      <td>0</td>\n",
       "      <td>0</td>\n",
       "      <td>0</td>\n",
       "      <td>0</td>\n",
       "      <td>0</td>\n",
       "      <td>1</td>\n",
       "      <td>2</td>\n",
       "      <td>29.85</td>\n",
       "      <td>2505</td>\n",
       "    </tr>\n",
       "    <tr>\n",
       "      <th>1</th>\n",
       "      <td>1</td>\n",
       "      <td>0</td>\n",
       "      <td>0</td>\n",
       "      <td>0</td>\n",
       "      <td>34</td>\n",
       "      <td>1</td>\n",
       "      <td>0</td>\n",
       "      <td>0</td>\n",
       "      <td>2</td>\n",
       "      <td>0</td>\n",
       "      <td>2</td>\n",
       "      <td>0</td>\n",
       "      <td>0</td>\n",
       "      <td>0</td>\n",
       "      <td>1</td>\n",
       "      <td>0</td>\n",
       "      <td>3</td>\n",
       "      <td>56.95</td>\n",
       "      <td>1466</td>\n",
       "    </tr>\n",
       "    <tr>\n",
       "      <th>2</th>\n",
       "      <td>1</td>\n",
       "      <td>0</td>\n",
       "      <td>0</td>\n",
       "      <td>0</td>\n",
       "      <td>2</td>\n",
       "      <td>1</td>\n",
       "      <td>0</td>\n",
       "      <td>0</td>\n",
       "      <td>2</td>\n",
       "      <td>2</td>\n",
       "      <td>0</td>\n",
       "      <td>0</td>\n",
       "      <td>0</td>\n",
       "      <td>0</td>\n",
       "      <td>0</td>\n",
       "      <td>1</td>\n",
       "      <td>3</td>\n",
       "      <td>53.85</td>\n",
       "      <td>157</td>\n",
       "    </tr>\n",
       "    <tr>\n",
       "      <th>3</th>\n",
       "      <td>1</td>\n",
       "      <td>0</td>\n",
       "      <td>0</td>\n",
       "      <td>0</td>\n",
       "      <td>45</td>\n",
       "      <td>0</td>\n",
       "      <td>1</td>\n",
       "      <td>0</td>\n",
       "      <td>2</td>\n",
       "      <td>0</td>\n",
       "      <td>2</td>\n",
       "      <td>2</td>\n",
       "      <td>0</td>\n",
       "      <td>0</td>\n",
       "      <td>1</td>\n",
       "      <td>0</td>\n",
       "      <td>0</td>\n",
       "      <td>42.30</td>\n",
       "      <td>1400</td>\n",
       "    </tr>\n",
       "    <tr>\n",
       "      <th>4</th>\n",
       "      <td>0</td>\n",
       "      <td>0</td>\n",
       "      <td>0</td>\n",
       "      <td>0</td>\n",
       "      <td>2</td>\n",
       "      <td>1</td>\n",
       "      <td>0</td>\n",
       "      <td>1</td>\n",
       "      <td>0</td>\n",
       "      <td>0</td>\n",
       "      <td>0</td>\n",
       "      <td>0</td>\n",
       "      <td>0</td>\n",
       "      <td>0</td>\n",
       "      <td>0</td>\n",
       "      <td>1</td>\n",
       "      <td>2</td>\n",
       "      <td>70.70</td>\n",
       "      <td>925</td>\n",
       "    </tr>\n",
       "  </tbody>\n",
       "</table>\n",
       "</div>"
      ],
      "text/plain": [
       "   gender  SeniorCitizen  Partner  Dependents  tenure  PhoneService  \\\n",
       "0       0              0        1           0       1             0   \n",
       "1       1              0        0           0      34             1   \n",
       "2       1              0        0           0       2             1   \n",
       "3       1              0        0           0      45             0   \n",
       "4       0              0        0           0       2             1   \n",
       "\n",
       "   MultipleLines  InternetService  OnlineSecurity  OnlineBackup  \\\n",
       "0              1                0               0             2   \n",
       "1              0                0               2             0   \n",
       "2              0                0               2             2   \n",
       "3              1                0               2             0   \n",
       "4              0                1               0             0   \n",
       "\n",
       "   DeviceProtection  TechSupport  StreamingTV  StreamingMovies  Contract  \\\n",
       "0                 0            0            0                0         0   \n",
       "1                 2            0            0                0         1   \n",
       "2                 0            0            0                0         0   \n",
       "3                 2            2            0                0         1   \n",
       "4                 0            0            0                0         0   \n",
       "\n",
       "   PaperlessBilling  PaymentMethod  MonthlyCharges  TotalCharges  \n",
       "0                 1              2           29.85          2505  \n",
       "1                 0              3           56.95          1466  \n",
       "2                 1              3           53.85           157  \n",
       "3                 0              0           42.30          1400  \n",
       "4                 1              2           70.70           925  "
      ]
     },
     "execution_count": 33,
     "metadata": {},
     "output_type": "execute_result"
    }
   ],
   "source": [
    "x.head()"
   ]
  },
  {
   "cell_type": "code",
   "execution_count": 34,
   "id": "15fac570",
   "metadata": {
    "execution": {
     "iopub.execute_input": "2023-05-28T14:21:17.747704Z",
     "iopub.status.busy": "2023-05-28T14:21:17.747183Z",
     "iopub.status.idle": "2023-05-28T14:21:17.752508Z",
     "shell.execute_reply": "2023-05-28T14:21:17.751698Z"
    },
    "papermill": {
     "duration": 0.039082,
     "end_time": "2023-05-28T14:21:17.754191",
     "exception": false,
     "start_time": "2023-05-28T14:21:17.715109",
     "status": "completed"
    },
    "tags": []
   },
   "outputs": [
    {
     "data": {
      "text/plain": [
       "(7043, 19)"
      ]
     },
     "execution_count": 34,
     "metadata": {},
     "output_type": "execute_result"
    }
   ],
   "source": [
    "x.shape"
   ]
  },
  {
   "cell_type": "code",
   "execution_count": 35,
   "id": "b71d287d",
   "metadata": {
    "execution": {
     "iopub.execute_input": "2023-05-28T14:21:17.809897Z",
     "iopub.status.busy": "2023-05-28T14:21:17.809399Z",
     "iopub.status.idle": "2023-05-28T14:21:17.815550Z",
     "shell.execute_reply": "2023-05-28T14:21:17.814845Z"
    },
    "papermill": {
     "duration": 0.036268,
     "end_time": "2023-05-28T14:21:17.817190",
     "exception": false,
     "start_time": "2023-05-28T14:21:17.780922",
     "status": "completed"
    },
    "tags": []
   },
   "outputs": [
    {
     "data": {
      "text/plain": [
       "0    0\n",
       "1    0\n",
       "2    1\n",
       "3    0\n",
       "4    1\n",
       "Name: Churn, dtype: int64"
      ]
     },
     "execution_count": 35,
     "metadata": {},
     "output_type": "execute_result"
    }
   ],
   "source": [
    "y.head()"
   ]
  },
  {
   "cell_type": "code",
   "execution_count": 36,
   "id": "c65898ba",
   "metadata": {
    "execution": {
     "iopub.execute_input": "2023-05-28T14:21:17.873400Z",
     "iopub.status.busy": "2023-05-28T14:21:17.872858Z",
     "iopub.status.idle": "2023-05-28T14:21:17.878055Z",
     "shell.execute_reply": "2023-05-28T14:21:17.877322Z"
    },
    "papermill": {
     "duration": 0.035803,
     "end_time": "2023-05-28T14:21:17.879857",
     "exception": false,
     "start_time": "2023-05-28T14:21:17.844054",
     "status": "completed"
    },
    "tags": []
   },
   "outputs": [
    {
     "data": {
      "text/plain": [
       "(7043,)"
      ]
     },
     "execution_count": 36,
     "metadata": {},
     "output_type": "execute_result"
    }
   ],
   "source": [
    "y.shape"
   ]
  },
  {
   "cell_type": "markdown",
   "id": "e2310c9e",
   "metadata": {
    "papermill": {
     "duration": 0.027489,
     "end_time": "2023-05-28T14:21:17.934940",
     "exception": false,
     "start_time": "2023-05-28T14:21:17.907451",
     "status": "completed"
    },
    "tags": []
   },
   "source": [
    "## Imbalance Data Handling"
   ]
  },
  {
   "cell_type": "code",
   "execution_count": 37,
   "id": "d7cb831c",
   "metadata": {
    "execution": {
     "iopub.execute_input": "2023-05-28T14:21:17.991535Z",
     "iopub.status.busy": "2023-05-28T14:21:17.990969Z",
     "iopub.status.idle": "2023-05-28T14:21:17.997694Z",
     "shell.execute_reply": "2023-05-28T14:21:17.996982Z"
    },
    "papermill": {
     "duration": 0.036901,
     "end_time": "2023-05-28T14:21:17.999336",
     "exception": false,
     "start_time": "2023-05-28T14:21:17.962435",
     "status": "completed"
    },
    "tags": []
   },
   "outputs": [
    {
     "data": {
      "text/plain": [
       "0    5174\n",
       "1    1869\n",
       "Name: Churn, dtype: int64"
      ]
     },
     "execution_count": 37,
     "metadata": {},
     "output_type": "execute_result"
    }
   ],
   "source": [
    "df.Churn.value_counts()"
   ]
  },
  {
   "cell_type": "code",
   "execution_count": 38,
   "id": "8b4397bd",
   "metadata": {
    "execution": {
     "iopub.execute_input": "2023-05-28T14:21:18.056987Z",
     "iopub.status.busy": "2023-05-28T14:21:18.056478Z",
     "iopub.status.idle": "2023-05-28T14:21:18.061150Z",
     "shell.execute_reply": "2023-05-28T14:21:18.060083Z"
    },
    "papermill": {
     "duration": 0.036552,
     "end_time": "2023-05-28T14:21:18.063395",
     "exception": false,
     "start_time": "2023-05-28T14:21:18.026843",
     "status": "completed"
    },
    "tags": []
   },
   "outputs": [],
   "source": [
    "not_churned = (5174/(5174+1869)) * 100\n",
    "churned = (1869/(5174+1869)) * 100"
   ]
  },
  {
   "cell_type": "code",
   "execution_count": 39,
   "id": "5db2ca16",
   "metadata": {
    "execution": {
     "iopub.execute_input": "2023-05-28T14:21:18.120662Z",
     "iopub.status.busy": "2023-05-28T14:21:18.120160Z",
     "iopub.status.idle": "2023-05-28T14:21:18.124961Z",
     "shell.execute_reply": "2023-05-28T14:21:18.124082Z"
    },
    "papermill": {
     "duration": 0.035828,
     "end_time": "2023-05-28T14:21:18.126643",
     "exception": false,
     "start_time": "2023-05-28T14:21:18.090815",
     "status": "completed"
    },
    "tags": []
   },
   "outputs": [
    {
     "name": "stdout",
     "output_type": "stream",
     "text": [
      "Not churned 73.4630129206304 percent of total people\n",
      "Churned 26.536987079369588 percent of total people\n"
     ]
    }
   ],
   "source": [
    "print(\"Not churned {} percent of total people\".format(not_churned))\n",
    "print(\"Churned {} percent of total people\".format(churned))"
   ]
  },
  {
   "cell_type": "markdown",
   "id": "0d688b5b",
   "metadata": {
    "papermill": {
     "duration": 0.027219,
     "end_time": "2023-05-28T14:21:18.180989",
     "exception": false,
     "start_time": "2023-05-28T14:21:18.153770",
     "status": "completed"
    },
    "tags": []
   },
   "source": [
    "## Synthetic Minority Oversampling Technique (SMOTETomek)"
   ]
  },
  {
   "cell_type": "code",
   "execution_count": 40,
   "id": "0a08a413",
   "metadata": {
    "execution": {
     "iopub.execute_input": "2023-05-28T14:21:18.237010Z",
     "iopub.status.busy": "2023-05-28T14:21:18.236690Z",
     "iopub.status.idle": "2023-05-28T14:21:19.085540Z",
     "shell.execute_reply": "2023-05-28T14:21:19.084166Z"
    },
    "papermill": {
     "duration": 0.879747,
     "end_time": "2023-05-28T14:21:19.088095",
     "exception": false,
     "start_time": "2023-05-28T14:21:18.208348",
     "status": "completed"
    },
    "tags": []
   },
   "outputs": [],
   "source": [
    "from imblearn.combine import SMOTETomek"
   ]
  },
  {
   "cell_type": "code",
   "execution_count": 41,
   "id": "63385ba8",
   "metadata": {
    "execution": {
     "iopub.execute_input": "2023-05-28T14:21:19.145999Z",
     "iopub.status.busy": "2023-05-28T14:21:19.145647Z",
     "iopub.status.idle": "2023-05-28T14:21:19.150861Z",
     "shell.execute_reply": "2023-05-28T14:21:19.149640Z"
    },
    "papermill": {
     "duration": 0.036691,
     "end_time": "2023-05-28T14:21:19.152607",
     "exception": false,
     "start_time": "2023-05-28T14:21:19.115916",
     "status": "completed"
    },
    "tags": []
   },
   "outputs": [],
   "source": [
    "sm = SMOTETomek(random_state=42)"
   ]
  },
  {
   "cell_type": "code",
   "execution_count": 42,
   "id": "285d2663",
   "metadata": {
    "execution": {
     "iopub.execute_input": "2023-05-28T14:21:19.208830Z",
     "iopub.status.busy": "2023-05-28T14:21:19.208505Z",
     "iopub.status.idle": "2023-05-28T14:21:19.215815Z",
     "shell.execute_reply": "2023-05-28T14:21:19.215147Z"
    },
    "papermill": {
     "duration": 0.037997,
     "end_time": "2023-05-28T14:21:19.218011",
     "exception": false,
     "start_time": "2023-05-28T14:21:19.180014",
     "status": "completed"
    },
    "tags": []
   },
   "outputs": [
    {
     "data": {
      "text/plain": [
       "0    5174\n",
       "1    1869\n",
       "Name: Churn, dtype: int64"
      ]
     },
     "execution_count": 42,
     "metadata": {},
     "output_type": "execute_result"
    }
   ],
   "source": [
    "y.value_counts() #before sampling"
   ]
  },
  {
   "cell_type": "code",
   "execution_count": 43,
   "id": "a9f6f0f0",
   "metadata": {
    "execution": {
     "iopub.execute_input": "2023-05-28T14:21:19.276899Z",
     "iopub.status.busy": "2023-05-28T14:21:19.276521Z",
     "iopub.status.idle": "2023-05-28T14:21:19.536377Z",
     "shell.execute_reply": "2023-05-28T14:21:19.535112Z"
    },
    "papermill": {
     "duration": 0.292055,
     "end_time": "2023-05-28T14:21:19.538702",
     "exception": false,
     "start_time": "2023-05-28T14:21:19.246647",
     "status": "completed"
    },
    "tags": []
   },
   "outputs": [],
   "source": [
    "X,Y = sm.fit_resample(x,y)"
   ]
  },
  {
   "cell_type": "code",
   "execution_count": 44,
   "id": "46b74d5c",
   "metadata": {
    "execution": {
     "iopub.execute_input": "2023-05-28T14:21:19.595183Z",
     "iopub.status.busy": "2023-05-28T14:21:19.594822Z",
     "iopub.status.idle": "2023-05-28T14:21:19.601627Z",
     "shell.execute_reply": "2023-05-28T14:21:19.600599Z"
    },
    "papermill": {
     "duration": 0.037358,
     "end_time": "2023-05-28T14:21:19.603420",
     "exception": false,
     "start_time": "2023-05-28T14:21:19.566062",
     "status": "completed"
    },
    "tags": []
   },
   "outputs": [
    {
     "data": {
      "text/plain": [
       "(9610, 19)"
      ]
     },
     "execution_count": 44,
     "metadata": {},
     "output_type": "execute_result"
    }
   ],
   "source": [
    "X.shape"
   ]
  },
  {
   "cell_type": "code",
   "execution_count": 45,
   "id": "5e0e36bb",
   "metadata": {
    "execution": {
     "iopub.execute_input": "2023-05-28T14:21:19.661617Z",
     "iopub.status.busy": "2023-05-28T14:21:19.661268Z",
     "iopub.status.idle": "2023-05-28T14:21:19.668088Z",
     "shell.execute_reply": "2023-05-28T14:21:19.667061Z"
    },
    "papermill": {
     "duration": 0.037803,
     "end_time": "2023-05-28T14:21:19.669889",
     "exception": false,
     "start_time": "2023-05-28T14:21:19.632086",
     "status": "completed"
    },
    "tags": []
   },
   "outputs": [
    {
     "data": {
      "text/plain": [
       "(9610,)"
      ]
     },
     "execution_count": 45,
     "metadata": {},
     "output_type": "execute_result"
    }
   ],
   "source": [
    "Y.shape"
   ]
  },
  {
   "cell_type": "code",
   "execution_count": 46,
   "id": "48fb19ed",
   "metadata": {
    "execution": {
     "iopub.execute_input": "2023-05-28T14:21:19.727436Z",
     "iopub.status.busy": "2023-05-28T14:21:19.726680Z",
     "iopub.status.idle": "2023-05-28T14:21:19.734515Z",
     "shell.execute_reply": "2023-05-28T14:21:19.733661Z"
    },
    "papermill": {
     "duration": 0.038448,
     "end_time": "2023-05-28T14:21:19.736300",
     "exception": false,
     "start_time": "2023-05-28T14:21:19.697852",
     "status": "completed"
    },
    "tags": []
   },
   "outputs": [
    {
     "data": {
      "text/plain": [
       "0    4805\n",
       "1    4805\n",
       "Name: Churn, dtype: int64"
      ]
     },
     "execution_count": 46,
     "metadata": {},
     "output_type": "execute_result"
    }
   ],
   "source": [
    "Y.value_counts() # after sampling"
   ]
  },
  {
   "cell_type": "markdown",
   "id": "8ea7dde7",
   "metadata": {
    "papermill": {
     "duration": 0.027659,
     "end_time": "2023-05-28T14:21:19.792357",
     "exception": false,
     "start_time": "2023-05-28T14:21:19.764698",
     "status": "completed"
    },
    "tags": []
   },
   "source": [
    "## Near Miss for Under_sampling"
   ]
  },
  {
   "cell_type": "code",
   "execution_count": 47,
   "id": "0c1b6848",
   "metadata": {
    "execution": {
     "iopub.execute_input": "2023-05-28T14:21:19.851404Z",
     "iopub.status.busy": "2023-05-28T14:21:19.850492Z",
     "iopub.status.idle": "2023-05-28T14:21:19.855082Z",
     "shell.execute_reply": "2023-05-28T14:21:19.854444Z"
    },
    "papermill": {
     "duration": 0.035826,
     "end_time": "2023-05-28T14:21:19.856704",
     "exception": false,
     "start_time": "2023-05-28T14:21:19.820878",
     "status": "completed"
    },
    "tags": []
   },
   "outputs": [],
   "source": [
    "from imblearn.under_sampling import NearMiss"
   ]
  },
  {
   "cell_type": "code",
   "execution_count": 48,
   "id": "fed9444f",
   "metadata": {
    "execution": {
     "iopub.execute_input": "2023-05-28T14:21:19.914805Z",
     "iopub.status.busy": "2023-05-28T14:21:19.914268Z",
     "iopub.status.idle": "2023-05-28T14:21:19.952354Z",
     "shell.execute_reply": "2023-05-28T14:21:19.950952Z"
    },
    "papermill": {
     "duration": 0.069728,
     "end_time": "2023-05-28T14:21:19.954835",
     "exception": false,
     "start_time": "2023-05-28T14:21:19.885107",
     "status": "completed"
    },
    "tags": []
   },
   "outputs": [],
   "source": [
    "NearMiss_obj = NearMiss()\n",
    "new_x, new_y = NearMiss_obj.fit_resample(x,y)"
   ]
  },
  {
   "cell_type": "code",
   "execution_count": 49,
   "id": "49f21917",
   "metadata": {
    "execution": {
     "iopub.execute_input": "2023-05-28T14:21:20.014205Z",
     "iopub.status.busy": "2023-05-28T14:21:20.013779Z",
     "iopub.status.idle": "2023-05-28T14:21:20.034289Z",
     "shell.execute_reply": "2023-05-28T14:21:20.033620Z"
    },
    "papermill": {
     "duration": 0.053235,
     "end_time": "2023-05-28T14:21:20.036529",
     "exception": false,
     "start_time": "2023-05-28T14:21:19.983294",
     "status": "completed"
    },
    "tags": []
   },
   "outputs": [
    {
     "data": {
      "text/html": [
       "<div>\n",
       "<style scoped>\n",
       "    .dataframe tbody tr th:only-of-type {\n",
       "        vertical-align: middle;\n",
       "    }\n",
       "\n",
       "    .dataframe tbody tr th {\n",
       "        vertical-align: top;\n",
       "    }\n",
       "\n",
       "    .dataframe thead th {\n",
       "        text-align: right;\n",
       "    }\n",
       "</style>\n",
       "<table border=\"1\" class=\"dataframe\">\n",
       "  <thead>\n",
       "    <tr style=\"text-align: right;\">\n",
       "      <th></th>\n",
       "      <th>gender</th>\n",
       "      <th>SeniorCitizen</th>\n",
       "      <th>Partner</th>\n",
       "      <th>Dependents</th>\n",
       "      <th>tenure</th>\n",
       "      <th>PhoneService</th>\n",
       "      <th>MultipleLines</th>\n",
       "      <th>InternetService</th>\n",
       "      <th>OnlineSecurity</th>\n",
       "      <th>OnlineBackup</th>\n",
       "      <th>DeviceProtection</th>\n",
       "      <th>TechSupport</th>\n",
       "      <th>StreamingTV</th>\n",
       "      <th>StreamingMovies</th>\n",
       "      <th>Contract</th>\n",
       "      <th>PaperlessBilling</th>\n",
       "      <th>PaymentMethod</th>\n",
       "      <th>MonthlyCharges</th>\n",
       "      <th>TotalCharges</th>\n",
       "    </tr>\n",
       "  </thead>\n",
       "  <tbody>\n",
       "    <tr>\n",
       "      <th>0</th>\n",
       "      <td>0</td>\n",
       "      <td>0</td>\n",
       "      <td>0</td>\n",
       "      <td>0</td>\n",
       "      <td>1</td>\n",
       "      <td>1</td>\n",
       "      <td>0</td>\n",
       "      <td>2</td>\n",
       "      <td>1</td>\n",
       "      <td>1</td>\n",
       "      <td>1</td>\n",
       "      <td>1</td>\n",
       "      <td>1</td>\n",
       "      <td>1</td>\n",
       "      <td>0</td>\n",
       "      <td>0</td>\n",
       "      <td>3</td>\n",
       "      <td>20.90</td>\n",
       "      <td>1624</td>\n",
       "    </tr>\n",
       "    <tr>\n",
       "      <th>1</th>\n",
       "      <td>1</td>\n",
       "      <td>0</td>\n",
       "      <td>0</td>\n",
       "      <td>0</td>\n",
       "      <td>1</td>\n",
       "      <td>1</td>\n",
       "      <td>0</td>\n",
       "      <td>1</td>\n",
       "      <td>0</td>\n",
       "      <td>0</td>\n",
       "      <td>0</td>\n",
       "      <td>0</td>\n",
       "      <td>0</td>\n",
       "      <td>0</td>\n",
       "      <td>0</td>\n",
       "      <td>1</td>\n",
       "      <td>2</td>\n",
       "      <td>69.90</td>\n",
       "      <td>5454</td>\n",
       "    </tr>\n",
       "    <tr>\n",
       "      <th>2</th>\n",
       "      <td>1</td>\n",
       "      <td>0</td>\n",
       "      <td>0</td>\n",
       "      <td>0</td>\n",
       "      <td>1</td>\n",
       "      <td>1</td>\n",
       "      <td>0</td>\n",
       "      <td>2</td>\n",
       "      <td>1</td>\n",
       "      <td>1</td>\n",
       "      <td>1</td>\n",
       "      <td>1</td>\n",
       "      <td>1</td>\n",
       "      <td>1</td>\n",
       "      <td>0</td>\n",
       "      <td>0</td>\n",
       "      <td>3</td>\n",
       "      <td>20.20</td>\n",
       "      <td>1610</td>\n",
       "    </tr>\n",
       "    <tr>\n",
       "      <th>3</th>\n",
       "      <td>1</td>\n",
       "      <td>0</td>\n",
       "      <td>0</td>\n",
       "      <td>0</td>\n",
       "      <td>1</td>\n",
       "      <td>1</td>\n",
       "      <td>0</td>\n",
       "      <td>2</td>\n",
       "      <td>1</td>\n",
       "      <td>1</td>\n",
       "      <td>1</td>\n",
       "      <td>1</td>\n",
       "      <td>1</td>\n",
       "      <td>1</td>\n",
       "      <td>0</td>\n",
       "      <td>0</td>\n",
       "      <td>3</td>\n",
       "      <td>20.20</td>\n",
       "      <td>1610</td>\n",
       "    </tr>\n",
       "    <tr>\n",
       "      <th>4</th>\n",
       "      <td>1</td>\n",
       "      <td>0</td>\n",
       "      <td>0</td>\n",
       "      <td>0</td>\n",
       "      <td>1</td>\n",
       "      <td>1</td>\n",
       "      <td>0</td>\n",
       "      <td>2</td>\n",
       "      <td>1</td>\n",
       "      <td>1</td>\n",
       "      <td>1</td>\n",
       "      <td>1</td>\n",
       "      <td>1</td>\n",
       "      <td>1</td>\n",
       "      <td>0</td>\n",
       "      <td>0</td>\n",
       "      <td>3</td>\n",
       "      <td>20.20</td>\n",
       "      <td>1610</td>\n",
       "    </tr>\n",
       "    <tr>\n",
       "      <th>...</th>\n",
       "      <td>...</td>\n",
       "      <td>...</td>\n",
       "      <td>...</td>\n",
       "      <td>...</td>\n",
       "      <td>...</td>\n",
       "      <td>...</td>\n",
       "      <td>...</td>\n",
       "      <td>...</td>\n",
       "      <td>...</td>\n",
       "      <td>...</td>\n",
       "      <td>...</td>\n",
       "      <td>...</td>\n",
       "      <td>...</td>\n",
       "      <td>...</td>\n",
       "      <td>...</td>\n",
       "      <td>...</td>\n",
       "      <td>...</td>\n",
       "      <td>...</td>\n",
       "      <td>...</td>\n",
       "    </tr>\n",
       "    <tr>\n",
       "      <th>3733</th>\n",
       "      <td>1</td>\n",
       "      <td>0</td>\n",
       "      <td>0</td>\n",
       "      <td>0</td>\n",
       "      <td>12</td>\n",
       "      <td>1</td>\n",
       "      <td>0</td>\n",
       "      <td>0</td>\n",
       "      <td>0</td>\n",
       "      <td>0</td>\n",
       "      <td>0</td>\n",
       "      <td>2</td>\n",
       "      <td>2</td>\n",
       "      <td>0</td>\n",
       "      <td>1</td>\n",
       "      <td>1</td>\n",
       "      <td>2</td>\n",
       "      <td>59.80</td>\n",
       "      <td>5651</td>\n",
       "    </tr>\n",
       "    <tr>\n",
       "      <th>3734</th>\n",
       "      <td>0</td>\n",
       "      <td>0</td>\n",
       "      <td>0</td>\n",
       "      <td>0</td>\n",
       "      <td>9</td>\n",
       "      <td>1</td>\n",
       "      <td>0</td>\n",
       "      <td>0</td>\n",
       "      <td>0</td>\n",
       "      <td>0</td>\n",
       "      <td>0</td>\n",
       "      <td>0</td>\n",
       "      <td>0</td>\n",
       "      <td>0</td>\n",
       "      <td>0</td>\n",
       "      <td>1</td>\n",
       "      <td>0</td>\n",
       "      <td>44.20</td>\n",
       "      <td>3448</td>\n",
       "    </tr>\n",
       "    <tr>\n",
       "      <th>3735</th>\n",
       "      <td>1</td>\n",
       "      <td>1</td>\n",
       "      <td>0</td>\n",
       "      <td>0</td>\n",
       "      <td>1</td>\n",
       "      <td>1</td>\n",
       "      <td>2</td>\n",
       "      <td>1</td>\n",
       "      <td>0</td>\n",
       "      <td>0</td>\n",
       "      <td>0</td>\n",
       "      <td>0</td>\n",
       "      <td>0</td>\n",
       "      <td>0</td>\n",
       "      <td>0</td>\n",
       "      <td>1</td>\n",
       "      <td>2</td>\n",
       "      <td>75.75</td>\n",
       "      <td>5776</td>\n",
       "    </tr>\n",
       "    <tr>\n",
       "      <th>3736</th>\n",
       "      <td>0</td>\n",
       "      <td>0</td>\n",
       "      <td>0</td>\n",
       "      <td>0</td>\n",
       "      <td>67</td>\n",
       "      <td>1</td>\n",
       "      <td>2</td>\n",
       "      <td>1</td>\n",
       "      <td>2</td>\n",
       "      <td>2</td>\n",
       "      <td>2</td>\n",
       "      <td>0</td>\n",
       "      <td>2</td>\n",
       "      <td>0</td>\n",
       "      <td>0</td>\n",
       "      <td>1</td>\n",
       "      <td>1</td>\n",
       "      <td>102.95</td>\n",
       "      <td>5431</td>\n",
       "    </tr>\n",
       "    <tr>\n",
       "      <th>3737</th>\n",
       "      <td>1</td>\n",
       "      <td>1</td>\n",
       "      <td>1</td>\n",
       "      <td>0</td>\n",
       "      <td>4</td>\n",
       "      <td>1</td>\n",
       "      <td>2</td>\n",
       "      <td>1</td>\n",
       "      <td>0</td>\n",
       "      <td>0</td>\n",
       "      <td>0</td>\n",
       "      <td>0</td>\n",
       "      <td>0</td>\n",
       "      <td>0</td>\n",
       "      <td>0</td>\n",
       "      <td>1</td>\n",
       "      <td>3</td>\n",
       "      <td>74.40</td>\n",
       "      <td>2660</td>\n",
       "    </tr>\n",
       "  </tbody>\n",
       "</table>\n",
       "<p>3738 rows × 19 columns</p>\n",
       "</div>"
      ],
      "text/plain": [
       "      gender  SeniorCitizen  Partner  Dependents  tenure  PhoneService  \\\n",
       "0          0              0        0           0       1             1   \n",
       "1          1              0        0           0       1             1   \n",
       "2          1              0        0           0       1             1   \n",
       "3          1              0        0           0       1             1   \n",
       "4          1              0        0           0       1             1   \n",
       "...      ...            ...      ...         ...     ...           ...   \n",
       "3733       1              0        0           0      12             1   \n",
       "3734       0              0        0           0       9             1   \n",
       "3735       1              1        0           0       1             1   \n",
       "3736       0              0        0           0      67             1   \n",
       "3737       1              1        1           0       4             1   \n",
       "\n",
       "      MultipleLines  InternetService  OnlineSecurity  OnlineBackup  \\\n",
       "0                 0                2               1             1   \n",
       "1                 0                1               0             0   \n",
       "2                 0                2               1             1   \n",
       "3                 0                2               1             1   \n",
       "4                 0                2               1             1   \n",
       "...             ...              ...             ...           ...   \n",
       "3733              0                0               0             0   \n",
       "3734              0                0               0             0   \n",
       "3735              2                1               0             0   \n",
       "3736              2                1               2             2   \n",
       "3737              2                1               0             0   \n",
       "\n",
       "      DeviceProtection  TechSupport  StreamingTV  StreamingMovies  Contract  \\\n",
       "0                    1            1            1                1         0   \n",
       "1                    0            0            0                0         0   \n",
       "2                    1            1            1                1         0   \n",
       "3                    1            1            1                1         0   \n",
       "4                    1            1            1                1         0   \n",
       "...                ...          ...          ...              ...       ...   \n",
       "3733                 0            2            2                0         1   \n",
       "3734                 0            0            0                0         0   \n",
       "3735                 0            0            0                0         0   \n",
       "3736                 2            0            2                0         0   \n",
       "3737                 0            0            0                0         0   \n",
       "\n",
       "      PaperlessBilling  PaymentMethod  MonthlyCharges  TotalCharges  \n",
       "0                    0              3           20.90          1624  \n",
       "1                    1              2           69.90          5454  \n",
       "2                    0              3           20.20          1610  \n",
       "3                    0              3           20.20          1610  \n",
       "4                    0              3           20.20          1610  \n",
       "...                ...            ...             ...           ...  \n",
       "3733                 1              2           59.80          5651  \n",
       "3734                 1              0           44.20          3448  \n",
       "3735                 1              2           75.75          5776  \n",
       "3736                 1              1          102.95          5431  \n",
       "3737                 1              3           74.40          2660  \n",
       "\n",
       "[3738 rows x 19 columns]"
      ]
     },
     "execution_count": 49,
     "metadata": {},
     "output_type": "execute_result"
    }
   ],
   "source": [
    "new_x"
   ]
  },
  {
   "cell_type": "code",
   "execution_count": 50,
   "id": "163c9473",
   "metadata": {
    "execution": {
     "iopub.execute_input": "2023-05-28T14:21:20.097332Z",
     "iopub.status.busy": "2023-05-28T14:21:20.096280Z",
     "iopub.status.idle": "2023-05-28T14:21:20.103483Z",
     "shell.execute_reply": "2023-05-28T14:21:20.102219Z"
    },
    "papermill": {
     "duration": 0.040326,
     "end_time": "2023-05-28T14:21:20.105703",
     "exception": false,
     "start_time": "2023-05-28T14:21:20.065377",
     "status": "completed"
    },
    "tags": []
   },
   "outputs": [
    {
     "data": {
      "text/plain": [
       "(3738, 19)"
      ]
     },
     "execution_count": 50,
     "metadata": {},
     "output_type": "execute_result"
    }
   ],
   "source": [
    "new_x.shape"
   ]
  },
  {
   "cell_type": "code",
   "execution_count": 51,
   "id": "9573022c",
   "metadata": {
    "execution": {
     "iopub.execute_input": "2023-05-28T14:21:20.165590Z",
     "iopub.status.busy": "2023-05-28T14:21:20.165231Z",
     "iopub.status.idle": "2023-05-28T14:21:20.171736Z",
     "shell.execute_reply": "2023-05-28T14:21:20.170755Z"
    },
    "papermill": {
     "duration": 0.038201,
     "end_time": "2023-05-28T14:21:20.173641",
     "exception": false,
     "start_time": "2023-05-28T14:21:20.135440",
     "status": "completed"
    },
    "tags": []
   },
   "outputs": [
    {
     "data": {
      "text/plain": [
       "1869.0"
      ]
     },
     "execution_count": 51,
     "metadata": {},
     "output_type": "execute_result"
    }
   ],
   "source": [
    "3738/2"
   ]
  },
  {
   "cell_type": "code",
   "execution_count": 52,
   "id": "11f27684",
   "metadata": {
    "execution": {
     "iopub.execute_input": "2023-05-28T14:21:20.232841Z",
     "iopub.status.busy": "2023-05-28T14:21:20.232220Z",
     "iopub.status.idle": "2023-05-28T14:21:20.240006Z",
     "shell.execute_reply": "2023-05-28T14:21:20.238668Z"
    },
    "papermill": {
     "duration": 0.039588,
     "end_time": "2023-05-28T14:21:20.241927",
     "exception": false,
     "start_time": "2023-05-28T14:21:20.202339",
     "status": "completed"
    },
    "tags": []
   },
   "outputs": [
    {
     "data": {
      "text/plain": [
       "0       0\n",
       "1       0\n",
       "2       0\n",
       "3       0\n",
       "4       0\n",
       "       ..\n",
       "3733    1\n",
       "3734    1\n",
       "3735    1\n",
       "3736    1\n",
       "3737    1\n",
       "Name: Churn, Length: 3738, dtype: int64"
      ]
     },
     "execution_count": 52,
     "metadata": {},
     "output_type": "execute_result"
    }
   ],
   "source": [
    "new_y"
   ]
  },
  {
   "cell_type": "code",
   "execution_count": 53,
   "id": "b991da13",
   "metadata": {
    "execution": {
     "iopub.execute_input": "2023-05-28T14:21:20.302188Z",
     "iopub.status.busy": "2023-05-28T14:21:20.301822Z",
     "iopub.status.idle": "2023-05-28T14:21:20.309323Z",
     "shell.execute_reply": "2023-05-28T14:21:20.308596Z"
    },
    "papermill": {
     "duration": 0.039528,
     "end_time": "2023-05-28T14:21:20.310974",
     "exception": false,
     "start_time": "2023-05-28T14:21:20.271446",
     "status": "completed"
    },
    "tags": []
   },
   "outputs": [
    {
     "data": {
      "text/plain": [
       "0    1869\n",
       "1    1869\n",
       "Name: Churn, dtype: int64"
      ]
     },
     "execution_count": 53,
     "metadata": {},
     "output_type": "execute_result"
    }
   ],
   "source": [
    "new_y.value_counts()"
   ]
  },
  {
   "cell_type": "markdown",
   "id": "d489b0e9",
   "metadata": {
    "papermill": {
     "duration": 0.028279,
     "end_time": "2023-05-28T14:21:20.425262",
     "exception": false,
     "start_time": "2023-05-28T14:21:20.396983",
     "status": "completed"
    },
    "tags": []
   },
   "source": [
    "## Oversampling"
   ]
  },
  {
   "cell_type": "code",
   "execution_count": 54,
   "id": "df99d017",
   "metadata": {
    "execution": {
     "iopub.execute_input": "2023-05-28T14:21:20.484302Z",
     "iopub.status.busy": "2023-05-28T14:21:20.483532Z",
     "iopub.status.idle": "2023-05-28T14:21:20.501748Z",
     "shell.execute_reply": "2023-05-28T14:21:20.501155Z"
    },
    "papermill": {
     "duration": 0.049861,
     "end_time": "2023-05-28T14:21:20.503329",
     "exception": false,
     "start_time": "2023-05-28T14:21:20.453468",
     "status": "completed"
    },
    "tags": []
   },
   "outputs": [
    {
     "data": {
      "text/html": [
       "<div>\n",
       "<style scoped>\n",
       "    .dataframe tbody tr th:only-of-type {\n",
       "        vertical-align: middle;\n",
       "    }\n",
       "\n",
       "    .dataframe tbody tr th {\n",
       "        vertical-align: top;\n",
       "    }\n",
       "\n",
       "    .dataframe thead th {\n",
       "        text-align: right;\n",
       "    }\n",
       "</style>\n",
       "<table border=\"1\" class=\"dataframe\">\n",
       "  <thead>\n",
       "    <tr style=\"text-align: right;\">\n",
       "      <th></th>\n",
       "      <th>customerID</th>\n",
       "      <th>gender</th>\n",
       "      <th>SeniorCitizen</th>\n",
       "      <th>Partner</th>\n",
       "      <th>Dependents</th>\n",
       "      <th>tenure</th>\n",
       "      <th>PhoneService</th>\n",
       "      <th>MultipleLines</th>\n",
       "      <th>InternetService</th>\n",
       "      <th>OnlineSecurity</th>\n",
       "      <th>...</th>\n",
       "      <th>DeviceProtection</th>\n",
       "      <th>TechSupport</th>\n",
       "      <th>StreamingTV</th>\n",
       "      <th>StreamingMovies</th>\n",
       "      <th>Contract</th>\n",
       "      <th>PaperlessBilling</th>\n",
       "      <th>PaymentMethod</th>\n",
       "      <th>MonthlyCharges</th>\n",
       "      <th>TotalCharges</th>\n",
       "      <th>Churn</th>\n",
       "    </tr>\n",
       "  </thead>\n",
       "  <tbody>\n",
       "    <tr>\n",
       "      <th>0</th>\n",
       "      <td>7590-VHVEG</td>\n",
       "      <td>Female</td>\n",
       "      <td>0</td>\n",
       "      <td>Yes</td>\n",
       "      <td>No</td>\n",
       "      <td>1</td>\n",
       "      <td>No</td>\n",
       "      <td>No phone service</td>\n",
       "      <td>DSL</td>\n",
       "      <td>No</td>\n",
       "      <td>...</td>\n",
       "      <td>No</td>\n",
       "      <td>No</td>\n",
       "      <td>No</td>\n",
       "      <td>No</td>\n",
       "      <td>Month-to-month</td>\n",
       "      <td>Yes</td>\n",
       "      <td>Electronic check</td>\n",
       "      <td>29.85</td>\n",
       "      <td>29.85</td>\n",
       "      <td>No</td>\n",
       "    </tr>\n",
       "    <tr>\n",
       "      <th>1</th>\n",
       "      <td>5575-GNVDE</td>\n",
       "      <td>Male</td>\n",
       "      <td>0</td>\n",
       "      <td>No</td>\n",
       "      <td>No</td>\n",
       "      <td>34</td>\n",
       "      <td>Yes</td>\n",
       "      <td>No</td>\n",
       "      <td>DSL</td>\n",
       "      <td>Yes</td>\n",
       "      <td>...</td>\n",
       "      <td>Yes</td>\n",
       "      <td>No</td>\n",
       "      <td>No</td>\n",
       "      <td>No</td>\n",
       "      <td>One year</td>\n",
       "      <td>No</td>\n",
       "      <td>Mailed check</td>\n",
       "      <td>56.95</td>\n",
       "      <td>1889.5</td>\n",
       "      <td>No</td>\n",
       "    </tr>\n",
       "    <tr>\n",
       "      <th>2</th>\n",
       "      <td>3668-QPYBK</td>\n",
       "      <td>Male</td>\n",
       "      <td>0</td>\n",
       "      <td>No</td>\n",
       "      <td>No</td>\n",
       "      <td>2</td>\n",
       "      <td>Yes</td>\n",
       "      <td>No</td>\n",
       "      <td>DSL</td>\n",
       "      <td>Yes</td>\n",
       "      <td>...</td>\n",
       "      <td>No</td>\n",
       "      <td>No</td>\n",
       "      <td>No</td>\n",
       "      <td>No</td>\n",
       "      <td>Month-to-month</td>\n",
       "      <td>Yes</td>\n",
       "      <td>Mailed check</td>\n",
       "      <td>53.85</td>\n",
       "      <td>108.15</td>\n",
       "      <td>Yes</td>\n",
       "    </tr>\n",
       "    <tr>\n",
       "      <th>3</th>\n",
       "      <td>7795-CFOCW</td>\n",
       "      <td>Male</td>\n",
       "      <td>0</td>\n",
       "      <td>No</td>\n",
       "      <td>No</td>\n",
       "      <td>45</td>\n",
       "      <td>No</td>\n",
       "      <td>No phone service</td>\n",
       "      <td>DSL</td>\n",
       "      <td>Yes</td>\n",
       "      <td>...</td>\n",
       "      <td>Yes</td>\n",
       "      <td>Yes</td>\n",
       "      <td>No</td>\n",
       "      <td>No</td>\n",
       "      <td>One year</td>\n",
       "      <td>No</td>\n",
       "      <td>Bank transfer (automatic)</td>\n",
       "      <td>42.30</td>\n",
       "      <td>1840.75</td>\n",
       "      <td>No</td>\n",
       "    </tr>\n",
       "    <tr>\n",
       "      <th>4</th>\n",
       "      <td>9237-HQITU</td>\n",
       "      <td>Female</td>\n",
       "      <td>0</td>\n",
       "      <td>No</td>\n",
       "      <td>No</td>\n",
       "      <td>2</td>\n",
       "      <td>Yes</td>\n",
       "      <td>No</td>\n",
       "      <td>Fiber optic</td>\n",
       "      <td>No</td>\n",
       "      <td>...</td>\n",
       "      <td>No</td>\n",
       "      <td>No</td>\n",
       "      <td>No</td>\n",
       "      <td>No</td>\n",
       "      <td>Month-to-month</td>\n",
       "      <td>Yes</td>\n",
       "      <td>Electronic check</td>\n",
       "      <td>70.70</td>\n",
       "      <td>151.65</td>\n",
       "      <td>Yes</td>\n",
       "    </tr>\n",
       "  </tbody>\n",
       "</table>\n",
       "<p>5 rows × 21 columns</p>\n",
       "</div>"
      ],
      "text/plain": [
       "   customerID  gender  SeniorCitizen Partner Dependents  tenure PhoneService  \\\n",
       "0  7590-VHVEG  Female              0     Yes         No       1           No   \n",
       "1  5575-GNVDE    Male              0      No         No      34          Yes   \n",
       "2  3668-QPYBK    Male              0      No         No       2          Yes   \n",
       "3  7795-CFOCW    Male              0      No         No      45           No   \n",
       "4  9237-HQITU  Female              0      No         No       2          Yes   \n",
       "\n",
       "      MultipleLines InternetService OnlineSecurity  ... DeviceProtection  \\\n",
       "0  No phone service             DSL             No  ...               No   \n",
       "1                No             DSL            Yes  ...              Yes   \n",
       "2                No             DSL            Yes  ...               No   \n",
       "3  No phone service             DSL            Yes  ...              Yes   \n",
       "4                No     Fiber optic             No  ...               No   \n",
       "\n",
       "  TechSupport StreamingTV StreamingMovies        Contract PaperlessBilling  \\\n",
       "0          No          No              No  Month-to-month              Yes   \n",
       "1          No          No              No        One year               No   \n",
       "2          No          No              No  Month-to-month              Yes   \n",
       "3         Yes          No              No        One year               No   \n",
       "4          No          No              No  Month-to-month              Yes   \n",
       "\n",
       "               PaymentMethod MonthlyCharges  TotalCharges Churn  \n",
       "0           Electronic check          29.85         29.85    No  \n",
       "1               Mailed check          56.95        1889.5    No  \n",
       "2               Mailed check          53.85        108.15   Yes  \n",
       "3  Bank transfer (automatic)          42.30       1840.75    No  \n",
       "4           Electronic check          70.70        151.65   Yes  \n",
       "\n",
       "[5 rows x 21 columns]"
      ]
     },
     "execution_count": 54,
     "metadata": {},
     "output_type": "execute_result"
    }
   ],
   "source": [
    "df2.head()"
   ]
  },
  {
   "cell_type": "code",
   "execution_count": 55,
   "id": "5d12d111",
   "metadata": {
    "execution": {
     "iopub.execute_input": "2023-05-28T14:21:20.563051Z",
     "iopub.status.busy": "2023-05-28T14:21:20.562467Z",
     "iopub.status.idle": "2023-05-28T14:21:20.569193Z",
     "shell.execute_reply": "2023-05-28T14:21:20.568408Z"
    },
    "papermill": {
     "duration": 0.038424,
     "end_time": "2023-05-28T14:21:20.570756",
     "exception": false,
     "start_time": "2023-05-28T14:21:20.532332",
     "status": "completed"
    },
    "tags": []
   },
   "outputs": [
    {
     "data": {
      "text/plain": [
       "No     5174\n",
       "Yes    1869\n",
       "Name: Churn, dtype: int64"
      ]
     },
     "execution_count": 55,
     "metadata": {},
     "output_type": "execute_result"
    }
   ],
   "source": [
    "df2.Churn.value_counts()"
   ]
  },
  {
   "cell_type": "code",
   "execution_count": 56,
   "id": "7b846e56",
   "metadata": {
    "execution": {
     "iopub.execute_input": "2023-05-28T14:21:20.630783Z",
     "iopub.status.busy": "2023-05-28T14:21:20.630272Z",
     "iopub.status.idle": "2023-05-28T14:21:20.633706Z",
     "shell.execute_reply": "2023-05-28T14:21:20.633132Z"
    },
    "papermill": {
     "duration": 0.035847,
     "end_time": "2023-05-28T14:21:20.635536",
     "exception": false,
     "start_time": "2023-05-28T14:21:20.599689",
     "status": "completed"
    },
    "tags": []
   },
   "outputs": [],
   "source": [
    "from imblearn.over_sampling import RandomOverSampler"
   ]
  },
  {
   "cell_type": "code",
   "execution_count": 57,
   "id": "6ac10f7b",
   "metadata": {
    "execution": {
     "iopub.execute_input": "2023-05-28T14:21:20.697257Z",
     "iopub.status.busy": "2023-05-28T14:21:20.696688Z",
     "iopub.status.idle": "2023-05-28T14:21:20.700279Z",
     "shell.execute_reply": "2023-05-28T14:21:20.699635Z"
    },
    "papermill": {
     "duration": 0.036662,
     "end_time": "2023-05-28T14:21:20.702103",
     "exception": false,
     "start_time": "2023-05-28T14:21:20.665441",
     "status": "completed"
    },
    "tags": []
   },
   "outputs": [],
   "source": [
    "over = RandomOverSampler(random_state=100)"
   ]
  },
  {
   "cell_type": "code",
   "execution_count": 58,
   "id": "ba848c30",
   "metadata": {
    "execution": {
     "iopub.execute_input": "2023-05-28T14:21:20.762450Z",
     "iopub.status.busy": "2023-05-28T14:21:20.761600Z",
     "iopub.status.idle": "2023-05-28T14:21:20.774929Z",
     "shell.execute_reply": "2023-05-28T14:21:20.774311Z"
    },
    "papermill": {
     "duration": 0.045406,
     "end_time": "2023-05-28T14:21:20.776774",
     "exception": false,
     "start_time": "2023-05-28T14:21:20.731368",
     "status": "completed"
    },
    "tags": []
   },
   "outputs": [],
   "source": [
    "x_new, y_new = over.fit_resample(x,y)"
   ]
  },
  {
   "cell_type": "code",
   "execution_count": 59,
   "id": "577d451f",
   "metadata": {
    "execution": {
     "iopub.execute_input": "2023-05-28T14:21:20.837705Z",
     "iopub.status.busy": "2023-05-28T14:21:20.837350Z",
     "iopub.status.idle": "2023-05-28T14:21:20.842986Z",
     "shell.execute_reply": "2023-05-28T14:21:20.842290Z"
    },
    "papermill": {
     "duration": 0.03872,
     "end_time": "2023-05-28T14:21:20.844677",
     "exception": false,
     "start_time": "2023-05-28T14:21:20.805957",
     "status": "completed"
    },
    "tags": []
   },
   "outputs": [
    {
     "data": {
      "text/plain": [
       "(10348, 19)"
      ]
     },
     "execution_count": 59,
     "metadata": {},
     "output_type": "execute_result"
    }
   ],
   "source": [
    "x_new.shape"
   ]
  },
  {
   "cell_type": "code",
   "execution_count": 60,
   "id": "60a7ee79",
   "metadata": {
    "execution": {
     "iopub.execute_input": "2023-05-28T14:21:20.907145Z",
     "iopub.status.busy": "2023-05-28T14:21:20.906584Z",
     "iopub.status.idle": "2023-05-28T14:21:20.911151Z",
     "shell.execute_reply": "2023-05-28T14:21:20.910581Z"
    },
    "papermill": {
     "duration": 0.037859,
     "end_time": "2023-05-28T14:21:20.912675",
     "exception": false,
     "start_time": "2023-05-28T14:21:20.874816",
     "status": "completed"
    },
    "tags": []
   },
   "outputs": [
    {
     "data": {
      "text/plain": [
       "(10348,)"
      ]
     },
     "execution_count": 60,
     "metadata": {},
     "output_type": "execute_result"
    }
   ],
   "source": [
    "y_new.shape"
   ]
  },
  {
   "cell_type": "code",
   "execution_count": 61,
   "id": "dca030fb",
   "metadata": {
    "execution": {
     "iopub.execute_input": "2023-05-28T14:21:20.972931Z",
     "iopub.status.busy": "2023-05-28T14:21:20.972334Z",
     "iopub.status.idle": "2023-05-28T14:21:20.979438Z",
     "shell.execute_reply": "2023-05-28T14:21:20.978491Z"
    },
    "papermill": {
     "duration": 0.039161,
     "end_time": "2023-05-28T14:21:20.981058",
     "exception": false,
     "start_time": "2023-05-28T14:21:20.941897",
     "status": "completed"
    },
    "tags": []
   },
   "outputs": [
    {
     "data": {
      "text/plain": [
       "0    5174\n",
       "1    5174\n",
       "Name: Churn, dtype: int64"
      ]
     },
     "execution_count": 61,
     "metadata": {},
     "output_type": "execute_result"
    }
   ],
   "source": [
    "y_new .value_counts()"
   ]
  },
  {
   "cell_type": "markdown",
   "id": "ba21792b",
   "metadata": {
    "papermill": {
     "duration": 0.029241,
     "end_time": "2023-05-28T14:21:21.039524",
     "exception": false,
     "start_time": "2023-05-28T14:21:21.010283",
     "status": "completed"
    },
    "tags": []
   },
   "source": [
    "## Cross Validation"
   ]
  },
  {
   "cell_type": "markdown",
   "id": "ed041594",
   "metadata": {
    "papermill": {
     "duration": 0.031168,
     "end_time": "2023-05-28T14:21:21.100113",
     "exception": false,
     "start_time": "2023-05-28T14:21:21.068945",
     "status": "completed"
    },
    "tags": []
   },
   "source": [
    "### Hold Out Cross Validation"
   ]
  },
  {
   "cell_type": "code",
   "execution_count": 62,
   "id": "a0a612d8",
   "metadata": {
    "execution": {
     "iopub.execute_input": "2023-05-28T14:21:21.161402Z",
     "iopub.status.busy": "2023-05-28T14:21:21.160831Z",
     "iopub.status.idle": "2023-05-28T14:21:21.164566Z",
     "shell.execute_reply": "2023-05-28T14:21:21.163996Z"
    },
    "papermill": {
     "duration": 0.037074,
     "end_time": "2023-05-28T14:21:21.166638",
     "exception": false,
     "start_time": "2023-05-28T14:21:21.129564",
     "status": "completed"
    },
    "tags": []
   },
   "outputs": [],
   "source": [
    "from sklearn.model_selection import train_test_split"
   ]
  },
  {
   "cell_type": "code",
   "execution_count": 63,
   "id": "bf6ededf",
   "metadata": {
    "execution": {
     "iopub.execute_input": "2023-05-28T14:21:21.228049Z",
     "iopub.status.busy": "2023-05-28T14:21:21.227539Z",
     "iopub.status.idle": "2023-05-28T14:21:21.235483Z",
     "shell.execute_reply": "2023-05-28T14:21:21.234250Z"
    },
    "papermill": {
     "duration": 0.041171,
     "end_time": "2023-05-28T14:21:21.237622",
     "exception": false,
     "start_time": "2023-05-28T14:21:21.196451",
     "status": "completed"
    },
    "tags": []
   },
   "outputs": [],
   "source": [
    "xtrain, xtest, ytrain, ytest = train_test_split(x_new,y_new,train_size=75,random_state=42)"
   ]
  },
  {
   "cell_type": "code",
   "execution_count": 64,
   "id": "8d674a5c",
   "metadata": {
    "execution": {
     "iopub.execute_input": "2023-05-28T14:21:21.299193Z",
     "iopub.status.busy": "2023-05-28T14:21:21.298858Z",
     "iopub.status.idle": "2023-05-28T14:21:21.316100Z",
     "shell.execute_reply": "2023-05-28T14:21:21.315455Z"
    },
    "papermill": {
     "duration": 0.050504,
     "end_time": "2023-05-28T14:21:21.318498",
     "exception": false,
     "start_time": "2023-05-28T14:21:21.267994",
     "status": "completed"
    },
    "tags": []
   },
   "outputs": [
    {
     "data": {
      "text/html": [
       "<div>\n",
       "<style scoped>\n",
       "    .dataframe tbody tr th:only-of-type {\n",
       "        vertical-align: middle;\n",
       "    }\n",
       "\n",
       "    .dataframe tbody tr th {\n",
       "        vertical-align: top;\n",
       "    }\n",
       "\n",
       "    .dataframe thead th {\n",
       "        text-align: right;\n",
       "    }\n",
       "</style>\n",
       "<table border=\"1\" class=\"dataframe\">\n",
       "  <thead>\n",
       "    <tr style=\"text-align: right;\">\n",
       "      <th></th>\n",
       "      <th>gender</th>\n",
       "      <th>SeniorCitizen</th>\n",
       "      <th>Partner</th>\n",
       "      <th>Dependents</th>\n",
       "      <th>tenure</th>\n",
       "      <th>PhoneService</th>\n",
       "      <th>MultipleLines</th>\n",
       "      <th>InternetService</th>\n",
       "      <th>OnlineSecurity</th>\n",
       "      <th>OnlineBackup</th>\n",
       "      <th>DeviceProtection</th>\n",
       "      <th>TechSupport</th>\n",
       "      <th>StreamingTV</th>\n",
       "      <th>StreamingMovies</th>\n",
       "      <th>Contract</th>\n",
       "      <th>PaperlessBilling</th>\n",
       "      <th>PaymentMethod</th>\n",
       "      <th>MonthlyCharges</th>\n",
       "      <th>TotalCharges</th>\n",
       "    </tr>\n",
       "  </thead>\n",
       "  <tbody>\n",
       "    <tr>\n",
       "      <th>7869</th>\n",
       "      <td>1</td>\n",
       "      <td>0</td>\n",
       "      <td>0</td>\n",
       "      <td>0</td>\n",
       "      <td>1</td>\n",
       "      <td>0</td>\n",
       "      <td>1</td>\n",
       "      <td>0</td>\n",
       "      <td>0</td>\n",
       "      <td>0</td>\n",
       "      <td>0</td>\n",
       "      <td>0</td>\n",
       "      <td>0</td>\n",
       "      <td>0</td>\n",
       "      <td>0</td>\n",
       "      <td>1</td>\n",
       "      <td>2</td>\n",
       "      <td>24.25</td>\n",
       "      <td>2038</td>\n",
       "    </tr>\n",
       "    <tr>\n",
       "      <th>1016</th>\n",
       "      <td>1</td>\n",
       "      <td>0</td>\n",
       "      <td>1</td>\n",
       "      <td>0</td>\n",
       "      <td>71</td>\n",
       "      <td>1</td>\n",
       "      <td>2</td>\n",
       "      <td>0</td>\n",
       "      <td>2</td>\n",
       "      <td>2</td>\n",
       "      <td>2</td>\n",
       "      <td>2</td>\n",
       "      <td>0</td>\n",
       "      <td>2</td>\n",
       "      <td>2</td>\n",
       "      <td>1</td>\n",
       "      <td>3</td>\n",
       "      <td>80.10</td>\n",
       "      <td>4623</td>\n",
       "    </tr>\n",
       "    <tr>\n",
       "      <th>9467</th>\n",
       "      <td>0</td>\n",
       "      <td>1</td>\n",
       "      <td>1</td>\n",
       "      <td>0</td>\n",
       "      <td>66</td>\n",
       "      <td>1</td>\n",
       "      <td>2</td>\n",
       "      <td>0</td>\n",
       "      <td>0</td>\n",
       "      <td>2</td>\n",
       "      <td>2</td>\n",
       "      <td>0</td>\n",
       "      <td>2</td>\n",
       "      <td>2</td>\n",
       "      <td>2</td>\n",
       "      <td>1</td>\n",
       "      <td>0</td>\n",
       "      <td>80.55</td>\n",
       "      <td>4405</td>\n",
       "    </tr>\n",
       "    <tr>\n",
       "      <th>7629</th>\n",
       "      <td>1</td>\n",
       "      <td>0</td>\n",
       "      <td>0</td>\n",
       "      <td>0</td>\n",
       "      <td>36</td>\n",
       "      <td>1</td>\n",
       "      <td>2</td>\n",
       "      <td>1</td>\n",
       "      <td>0</td>\n",
       "      <td>0</td>\n",
       "      <td>0</td>\n",
       "      <td>0</td>\n",
       "      <td>0</td>\n",
       "      <td>2</td>\n",
       "      <td>0</td>\n",
       "      <td>1</td>\n",
       "      <td>2</td>\n",
       "      <td>84.75</td>\n",
       "      <td>2653</td>\n",
       "    </tr>\n",
       "    <tr>\n",
       "      <th>995</th>\n",
       "      <td>0</td>\n",
       "      <td>0</td>\n",
       "      <td>0</td>\n",
       "      <td>0</td>\n",
       "      <td>35</td>\n",
       "      <td>1</td>\n",
       "      <td>2</td>\n",
       "      <td>1</td>\n",
       "      <td>0</td>\n",
       "      <td>2</td>\n",
       "      <td>0</td>\n",
       "      <td>2</td>\n",
       "      <td>0</td>\n",
       "      <td>0</td>\n",
       "      <td>0</td>\n",
       "      <td>0</td>\n",
       "      <td>1</td>\n",
       "      <td>85.30</td>\n",
       "      <td>2520</td>\n",
       "    </tr>\n",
       "  </tbody>\n",
       "</table>\n",
       "</div>"
      ],
      "text/plain": [
       "      gender  SeniorCitizen  Partner  Dependents  tenure  PhoneService  \\\n",
       "7869       1              0        0           0       1             0   \n",
       "1016       1              0        1           0      71             1   \n",
       "9467       0              1        1           0      66             1   \n",
       "7629       1              0        0           0      36             1   \n",
       "995        0              0        0           0      35             1   \n",
       "\n",
       "      MultipleLines  InternetService  OnlineSecurity  OnlineBackup  \\\n",
       "7869              1                0               0             0   \n",
       "1016              2                0               2             2   \n",
       "9467              2                0               0             2   \n",
       "7629              2                1               0             0   \n",
       "995               2                1               0             2   \n",
       "\n",
       "      DeviceProtection  TechSupport  StreamingTV  StreamingMovies  Contract  \\\n",
       "7869                 0            0            0                0         0   \n",
       "1016                 2            2            0                2         2   \n",
       "9467                 2            0            2                2         2   \n",
       "7629                 0            0            0                2         0   \n",
       "995                  0            2            0                0         0   \n",
       "\n",
       "      PaperlessBilling  PaymentMethod  MonthlyCharges  TotalCharges  \n",
       "7869                 1              2           24.25          2038  \n",
       "1016                 1              3           80.10          4623  \n",
       "9467                 1              0           80.55          4405  \n",
       "7629                 1              2           84.75          2653  \n",
       "995                  0              1           85.30          2520  "
      ]
     },
     "execution_count": 64,
     "metadata": {},
     "output_type": "execute_result"
    }
   ],
   "source": [
    "xtrain.head()"
   ]
  },
  {
   "cell_type": "code",
   "execution_count": 65,
   "id": "2b6f2dc8",
   "metadata": {
    "execution": {
     "iopub.execute_input": "2023-05-28T14:21:21.382350Z",
     "iopub.status.busy": "2023-05-28T14:21:21.381992Z",
     "iopub.status.idle": "2023-05-28T14:21:21.389890Z",
     "shell.execute_reply": "2023-05-28T14:21:21.388574Z"
    },
    "papermill": {
     "duration": 0.042608,
     "end_time": "2023-05-28T14:21:21.392108",
     "exception": false,
     "start_time": "2023-05-28T14:21:21.349500",
     "status": "completed"
    },
    "tags": []
   },
   "outputs": [],
   "source": [
    "train, test = train_test_split(df,train_size=80,random_state=42)"
   ]
  },
  {
   "cell_type": "code",
   "execution_count": 66,
   "id": "91f93056",
   "metadata": {
    "execution": {
     "iopub.execute_input": "2023-05-28T14:21:21.452860Z",
     "iopub.status.busy": "2023-05-28T14:21:21.452540Z",
     "iopub.status.idle": "2023-05-28T14:21:21.461496Z",
     "shell.execute_reply": "2023-05-28T14:21:21.460793Z"
    },
    "papermill": {
     "duration": 0.041465,
     "end_time": "2023-05-28T14:21:21.463624",
     "exception": false,
     "start_time": "2023-05-28T14:21:21.422159",
     "status": "completed"
    },
    "tags": []
   },
   "outputs": [],
   "source": [
    "train.to_csv('total 80.csv')"
   ]
  },
  {
   "cell_type": "code",
   "execution_count": 67,
   "id": "e825e888",
   "metadata": {
    "execution": {
     "iopub.execute_input": "2023-05-28T14:21:21.525975Z",
     "iopub.status.busy": "2023-05-28T14:21:21.524676Z",
     "iopub.status.idle": "2023-05-28T14:21:21.531807Z",
     "shell.execute_reply": "2023-05-28T14:21:21.531186Z"
    },
    "papermill": {
     "duration": 0.040335,
     "end_time": "2023-05-28T14:21:21.534017",
     "exception": false,
     "start_time": "2023-05-28T14:21:21.493682",
     "status": "completed"
    },
    "tags": []
   },
   "outputs": [],
   "source": [
    "df6 = pd.read_csv('total 80.csv')"
   ]
  },
  {
   "cell_type": "code",
   "execution_count": 68,
   "id": "3ba51d30",
   "metadata": {
    "execution": {
     "iopub.execute_input": "2023-05-28T14:21:21.598019Z",
     "iopub.status.busy": "2023-05-28T14:21:21.597422Z",
     "iopub.status.idle": "2023-05-28T14:21:21.602697Z",
     "shell.execute_reply": "2023-05-28T14:21:21.601712Z"
    },
    "papermill": {
     "duration": 0.039528,
     "end_time": "2023-05-28T14:21:21.604922",
     "exception": false,
     "start_time": "2023-05-28T14:21:21.565394",
     "status": "completed"
    },
    "tags": []
   },
   "outputs": [
    {
     "data": {
      "text/plain": [
       "(80, 21)"
      ]
     },
     "execution_count": 68,
     "metadata": {},
     "output_type": "execute_result"
    }
   ],
   "source": [
    "df6.shape"
   ]
  },
  {
   "cell_type": "code",
   "execution_count": 69,
   "id": "1dee0a40",
   "metadata": {
    "execution": {
     "iopub.execute_input": "2023-05-28T14:21:21.668147Z",
     "iopub.status.busy": "2023-05-28T14:21:21.667784Z",
     "iopub.status.idle": "2023-05-28T14:21:21.683691Z",
     "shell.execute_reply": "2023-05-28T14:21:21.683052Z"
    },
    "papermill": {
     "duration": 0.049633,
     "end_time": "2023-05-28T14:21:21.685389",
     "exception": false,
     "start_time": "2023-05-28T14:21:21.635756",
     "status": "completed"
    },
    "tags": []
   },
   "outputs": [
    {
     "data": {
      "text/html": [
       "<div>\n",
       "<style scoped>\n",
       "    .dataframe tbody tr th:only-of-type {\n",
       "        vertical-align: middle;\n",
       "    }\n",
       "\n",
       "    .dataframe tbody tr th {\n",
       "        vertical-align: top;\n",
       "    }\n",
       "\n",
       "    .dataframe thead th {\n",
       "        text-align: right;\n",
       "    }\n",
       "</style>\n",
       "<table border=\"1\" class=\"dataframe\">\n",
       "  <thead>\n",
       "    <tr style=\"text-align: right;\">\n",
       "      <th></th>\n",
       "      <th>Unnamed: 0</th>\n",
       "      <th>gender</th>\n",
       "      <th>SeniorCitizen</th>\n",
       "      <th>Partner</th>\n",
       "      <th>Dependents</th>\n",
       "      <th>tenure</th>\n",
       "      <th>PhoneService</th>\n",
       "      <th>MultipleLines</th>\n",
       "      <th>InternetService</th>\n",
       "      <th>OnlineSecurity</th>\n",
       "      <th>...</th>\n",
       "      <th>DeviceProtection</th>\n",
       "      <th>TechSupport</th>\n",
       "      <th>StreamingTV</th>\n",
       "      <th>StreamingMovies</th>\n",
       "      <th>Contract</th>\n",
       "      <th>PaperlessBilling</th>\n",
       "      <th>PaymentMethod</th>\n",
       "      <th>MonthlyCharges</th>\n",
       "      <th>TotalCharges</th>\n",
       "      <th>Churn</th>\n",
       "    </tr>\n",
       "  </thead>\n",
       "  <tbody>\n",
       "    <tr>\n",
       "      <th>0</th>\n",
       "      <td>3461</td>\n",
       "      <td>0</td>\n",
       "      <td>0</td>\n",
       "      <td>1</td>\n",
       "      <td>1</td>\n",
       "      <td>55</td>\n",
       "      <td>1</td>\n",
       "      <td>0</td>\n",
       "      <td>0</td>\n",
       "      <td>2</td>\n",
       "      <td>...</td>\n",
       "      <td>0</td>\n",
       "      <td>0</td>\n",
       "      <td>0</td>\n",
       "      <td>0</td>\n",
       "      <td>0</td>\n",
       "      <td>0</td>\n",
       "      <td>2</td>\n",
       "      <td>55.70</td>\n",
       "      <td>2724</td>\n",
       "      <td>0</td>\n",
       "    </tr>\n",
       "    <tr>\n",
       "      <th>1</th>\n",
       "      <td>1021</td>\n",
       "      <td>1</td>\n",
       "      <td>0</td>\n",
       "      <td>1</td>\n",
       "      <td>0</td>\n",
       "      <td>28</td>\n",
       "      <td>1</td>\n",
       "      <td>0</td>\n",
       "      <td>0</td>\n",
       "      <td>2</td>\n",
       "      <td>...</td>\n",
       "      <td>0</td>\n",
       "      <td>2</td>\n",
       "      <td>0</td>\n",
       "      <td>0</td>\n",
       "      <td>1</td>\n",
       "      <td>0</td>\n",
       "      <td>3</td>\n",
       "      <td>54.35</td>\n",
       "      <td>790</td>\n",
       "      <td>0</td>\n",
       "    </tr>\n",
       "    <tr>\n",
       "      <th>2</th>\n",
       "      <td>3073</td>\n",
       "      <td>0</td>\n",
       "      <td>0</td>\n",
       "      <td>0</td>\n",
       "      <td>0</td>\n",
       "      <td>52</td>\n",
       "      <td>0</td>\n",
       "      <td>1</td>\n",
       "      <td>0</td>\n",
       "      <td>2</td>\n",
       "      <td>...</td>\n",
       "      <td>2</td>\n",
       "      <td>0</td>\n",
       "      <td>2</td>\n",
       "      <td>2</td>\n",
       "      <td>2</td>\n",
       "      <td>1</td>\n",
       "      <td>0</td>\n",
       "      <td>58.75</td>\n",
       "      <td>2640</td>\n",
       "      <td>0</td>\n",
       "    </tr>\n",
       "    <tr>\n",
       "      <th>3</th>\n",
       "      <td>3943</td>\n",
       "      <td>1</td>\n",
       "      <td>1</td>\n",
       "      <td>0</td>\n",
       "      <td>0</td>\n",
       "      <td>1</td>\n",
       "      <td>1</td>\n",
       "      <td>0</td>\n",
       "      <td>0</td>\n",
       "      <td>0</td>\n",
       "      <td>...</td>\n",
       "      <td>0</td>\n",
       "      <td>0</td>\n",
       "      <td>0</td>\n",
       "      <td>0</td>\n",
       "      <td>0</td>\n",
       "      <td>0</td>\n",
       "      <td>2</td>\n",
       "      <td>44.00</td>\n",
       "      <td>3734</td>\n",
       "      <td>0</td>\n",
       "    </tr>\n",
       "    <tr>\n",
       "      <th>4</th>\n",
       "      <td>1585</td>\n",
       "      <td>1</td>\n",
       "      <td>0</td>\n",
       "      <td>1</td>\n",
       "      <td>0</td>\n",
       "      <td>42</td>\n",
       "      <td>1</td>\n",
       "      <td>2</td>\n",
       "      <td>0</td>\n",
       "      <td>2</td>\n",
       "      <td>...</td>\n",
       "      <td>0</td>\n",
       "      <td>2</td>\n",
       "      <td>2</td>\n",
       "      <td>2</td>\n",
       "      <td>1</td>\n",
       "      <td>0</td>\n",
       "      <td>1</td>\n",
       "      <td>80.45</td>\n",
       "      <td>2930</td>\n",
       "      <td>0</td>\n",
       "    </tr>\n",
       "  </tbody>\n",
       "</table>\n",
       "<p>5 rows × 21 columns</p>\n",
       "</div>"
      ],
      "text/plain": [
       "   Unnamed: 0  gender  SeniorCitizen  Partner  Dependents  tenure  \\\n",
       "0        3461       0              0        1           1      55   \n",
       "1        1021       1              0        1           0      28   \n",
       "2        3073       0              0        0           0      52   \n",
       "3        3943       1              1        0           0       1   \n",
       "4        1585       1              0        1           0      42   \n",
       "\n",
       "   PhoneService  MultipleLines  InternetService  OnlineSecurity  ...  \\\n",
       "0             1              0                0               2  ...   \n",
       "1             1              0                0               2  ...   \n",
       "2             0              1                0               2  ...   \n",
       "3             1              0                0               0  ...   \n",
       "4             1              2                0               2  ...   \n",
       "\n",
       "   DeviceProtection  TechSupport  StreamingTV  StreamingMovies  Contract  \\\n",
       "0                 0            0            0                0         0   \n",
       "1                 0            2            0                0         1   \n",
       "2                 2            0            2                2         2   \n",
       "3                 0            0            0                0         0   \n",
       "4                 0            2            2                2         1   \n",
       "\n",
       "   PaperlessBilling  PaymentMethod  MonthlyCharges  TotalCharges  Churn  \n",
       "0                 0              2           55.70          2724      0  \n",
       "1                 0              3           54.35           790      0  \n",
       "2                 1              0           58.75          2640      0  \n",
       "3                 0              2           44.00          3734      0  \n",
       "4                 0              1           80.45          2930      0  \n",
       "\n",
       "[5 rows x 21 columns]"
      ]
     },
     "execution_count": 69,
     "metadata": {},
     "output_type": "execute_result"
    }
   ],
   "source": [
    "df6.head()"
   ]
  },
  {
   "cell_type": "code",
   "execution_count": 70,
   "id": "83d796cc",
   "metadata": {
    "execution": {
     "iopub.execute_input": "2023-05-28T14:21:21.750101Z",
     "iopub.status.busy": "2023-05-28T14:21:21.749214Z",
     "iopub.status.idle": "2023-05-28T14:21:21.755160Z",
     "shell.execute_reply": "2023-05-28T14:21:21.754548Z"
    },
    "papermill": {
     "duration": 0.042099,
     "end_time": "2023-05-28T14:21:21.757525",
     "exception": false,
     "start_time": "2023-05-28T14:21:21.715426",
     "status": "completed"
    },
    "tags": []
   },
   "outputs": [],
   "source": [
    "train1, teat1 = train_test_split(df,train_size=75,random_state=42)"
   ]
  },
  {
   "cell_type": "code",
   "execution_count": 71,
   "id": "a26f3314",
   "metadata": {
    "execution": {
     "iopub.execute_input": "2023-05-28T14:21:21.821829Z",
     "iopub.status.busy": "2023-05-28T14:21:21.821289Z",
     "iopub.status.idle": "2023-05-28T14:21:21.826162Z",
     "shell.execute_reply": "2023-05-28T14:21:21.825587Z"
    },
    "papermill": {
     "duration": 0.039639,
     "end_time": "2023-05-28T14:21:21.828269",
     "exception": false,
     "start_time": "2023-05-28T14:21:21.788630",
     "status": "completed"
    },
    "tags": []
   },
   "outputs": [],
   "source": [
    "train1.to_csv('train_data.csv')"
   ]
  },
  {
   "cell_type": "code",
   "execution_count": 72,
   "id": "aad13831",
   "metadata": {
    "execution": {
     "iopub.execute_input": "2023-05-28T14:21:21.891072Z",
     "iopub.status.busy": "2023-05-28T14:21:21.890485Z",
     "iopub.status.idle": "2023-05-28T14:21:21.903694Z",
     "shell.execute_reply": "2023-05-28T14:21:21.902574Z"
    },
    "papermill": {
     "duration": 0.047185,
     "end_time": "2023-05-28T14:21:21.905523",
     "exception": false,
     "start_time": "2023-05-28T14:21:21.858338",
     "status": "completed"
    },
    "tags": []
   },
   "outputs": [
    {
     "data": {
      "text/html": [
       "<div>\n",
       "<style scoped>\n",
       "    .dataframe tbody tr th:only-of-type {\n",
       "        vertical-align: middle;\n",
       "    }\n",
       "\n",
       "    .dataframe tbody tr th {\n",
       "        vertical-align: top;\n",
       "    }\n",
       "\n",
       "    .dataframe thead th {\n",
       "        text-align: right;\n",
       "    }\n",
       "</style>\n",
       "<table border=\"1\" class=\"dataframe\">\n",
       "  <thead>\n",
       "    <tr style=\"text-align: right;\">\n",
       "      <th></th>\n",
       "      <th>gender</th>\n",
       "      <th>SeniorCitizen</th>\n",
       "      <th>Partner</th>\n",
       "      <th>Dependents</th>\n",
       "      <th>tenure</th>\n",
       "      <th>PhoneService</th>\n",
       "      <th>MultipleLines</th>\n",
       "      <th>InternetService</th>\n",
       "      <th>OnlineSecurity</th>\n",
       "      <th>OnlineBackup</th>\n",
       "      <th>DeviceProtection</th>\n",
       "      <th>TechSupport</th>\n",
       "      <th>StreamingTV</th>\n",
       "      <th>StreamingMovies</th>\n",
       "      <th>Contract</th>\n",
       "      <th>PaperlessBilling</th>\n",
       "      <th>PaymentMethod</th>\n",
       "      <th>MonthlyCharges</th>\n",
       "      <th>TotalCharges</th>\n",
       "    </tr>\n",
       "  </thead>\n",
       "  <tbody>\n",
       "    <tr>\n",
       "      <th>9428</th>\n",
       "      <td>0</td>\n",
       "      <td>0</td>\n",
       "      <td>0</td>\n",
       "      <td>0</td>\n",
       "      <td>54</td>\n",
       "      <td>1</td>\n",
       "      <td>2</td>\n",
       "      <td>1</td>\n",
       "      <td>0</td>\n",
       "      <td>0</td>\n",
       "      <td>0</td>\n",
       "      <td>2</td>\n",
       "      <td>2</td>\n",
       "      <td>2</td>\n",
       "      <td>0</td>\n",
       "      <td>1</td>\n",
       "      <td>2</td>\n",
       "      <td>100.10</td>\n",
       "      <td>4523</td>\n",
       "    </tr>\n",
       "    <tr>\n",
       "      <th>4593</th>\n",
       "      <td>0</td>\n",
       "      <td>0</td>\n",
       "      <td>0</td>\n",
       "      <td>0</td>\n",
       "      <td>11</td>\n",
       "      <td>1</td>\n",
       "      <td>0</td>\n",
       "      <td>2</td>\n",
       "      <td>1</td>\n",
       "      <td>1</td>\n",
       "      <td>1</td>\n",
       "      <td>1</td>\n",
       "      <td>1</td>\n",
       "      <td>1</td>\n",
       "      <td>0</td>\n",
       "      <td>0</td>\n",
       "      <td>0</td>\n",
       "      <td>20.30</td>\n",
       "      <td>2108</td>\n",
       "    </tr>\n",
       "    <tr>\n",
       "      <th>5379</th>\n",
       "      <td>0</td>\n",
       "      <td>0</td>\n",
       "      <td>1</td>\n",
       "      <td>0</td>\n",
       "      <td>56</td>\n",
       "      <td>1</td>\n",
       "      <td>2</td>\n",
       "      <td>1</td>\n",
       "      <td>2</td>\n",
       "      <td>0</td>\n",
       "      <td>0</td>\n",
       "      <td>0</td>\n",
       "      <td>2</td>\n",
       "      <td>2</td>\n",
       "      <td>1</td>\n",
       "      <td>1</td>\n",
       "      <td>2</td>\n",
       "      <td>98.00</td>\n",
       "      <td>4412</td>\n",
       "    </tr>\n",
       "    <tr>\n",
       "      <th>8918</th>\n",
       "      <td>0</td>\n",
       "      <td>1</td>\n",
       "      <td>0</td>\n",
       "      <td>0</td>\n",
       "      <td>2</td>\n",
       "      <td>1</td>\n",
       "      <td>0</td>\n",
       "      <td>1</td>\n",
       "      <td>0</td>\n",
       "      <td>0</td>\n",
       "      <td>0</td>\n",
       "      <td>0</td>\n",
       "      <td>0</td>\n",
       "      <td>2</td>\n",
       "      <td>0</td>\n",
       "      <td>1</td>\n",
       "      <td>2</td>\n",
       "      <td>79.60</td>\n",
       "      <td>1551</td>\n",
       "    </tr>\n",
       "    <tr>\n",
       "      <th>6448</th>\n",
       "      <td>1</td>\n",
       "      <td>0</td>\n",
       "      <td>0</td>\n",
       "      <td>0</td>\n",
       "      <td>58</td>\n",
       "      <td>1</td>\n",
       "      <td>2</td>\n",
       "      <td>1</td>\n",
       "      <td>0</td>\n",
       "      <td>0</td>\n",
       "      <td>2</td>\n",
       "      <td>2</td>\n",
       "      <td>2</td>\n",
       "      <td>2</td>\n",
       "      <td>1</td>\n",
       "      <td>1</td>\n",
       "      <td>2</td>\n",
       "      <td>104.65</td>\n",
       "      <td>5051</td>\n",
       "    </tr>\n",
       "  </tbody>\n",
       "</table>\n",
       "</div>"
      ],
      "text/plain": [
       "      gender  SeniorCitizen  Partner  Dependents  tenure  PhoneService  \\\n",
       "9428       0              0        0           0      54             1   \n",
       "4593       0              0        0           0      11             1   \n",
       "5379       0              0        1           0      56             1   \n",
       "8918       0              1        0           0       2             1   \n",
       "6448       1              0        0           0      58             1   \n",
       "\n",
       "      MultipleLines  InternetService  OnlineSecurity  OnlineBackup  \\\n",
       "9428              2                1               0             0   \n",
       "4593              0                2               1             1   \n",
       "5379              2                1               2             0   \n",
       "8918              0                1               0             0   \n",
       "6448              2                1               0             0   \n",
       "\n",
       "      DeviceProtection  TechSupport  StreamingTV  StreamingMovies  Contract  \\\n",
       "9428                 0            2            2                2         0   \n",
       "4593                 1            1            1                1         0   \n",
       "5379                 0            0            2                2         1   \n",
       "8918                 0            0            0                2         0   \n",
       "6448                 2            2            2                2         1   \n",
       "\n",
       "      PaperlessBilling  PaymentMethod  MonthlyCharges  TotalCharges  \n",
       "9428                 1              2          100.10          4523  \n",
       "4593                 0              0           20.30          2108  \n",
       "5379                 1              2           98.00          4412  \n",
       "8918                 1              2           79.60          1551  \n",
       "6448                 1              2          104.65          5051  "
      ]
     },
     "execution_count": 72,
     "metadata": {},
     "output_type": "execute_result"
    }
   ],
   "source": [
    "xtest.head()"
   ]
  },
  {
   "cell_type": "code",
   "execution_count": 73,
   "id": "5b214b6b",
   "metadata": {
    "execution": {
     "iopub.execute_input": "2023-05-28T14:21:21.974437Z",
     "iopub.status.busy": "2023-05-28T14:21:21.973578Z",
     "iopub.status.idle": "2023-05-28T14:21:21.979327Z",
     "shell.execute_reply": "2023-05-28T14:21:21.978719Z"
    },
    "papermill": {
     "duration": 0.04403,
     "end_time": "2023-05-28T14:21:21.981164",
     "exception": false,
     "start_time": "2023-05-28T14:21:21.937134",
     "status": "completed"
    },
    "tags": []
   },
   "outputs": [
    {
     "data": {
      "text/plain": [
       "(10273, 19)"
      ]
     },
     "execution_count": 73,
     "metadata": {},
     "output_type": "execute_result"
    }
   ],
   "source": [
    "xtest.shape"
   ]
  },
  {
   "cell_type": "code",
   "execution_count": 74,
   "id": "a06d9140",
   "metadata": {
    "execution": {
     "iopub.execute_input": "2023-05-28T14:21:22.046162Z",
     "iopub.status.busy": "2023-05-28T14:21:22.045340Z",
     "iopub.status.idle": "2023-05-28T14:21:22.049519Z",
     "shell.execute_reply": "2023-05-28T14:21:22.048600Z"
    },
    "papermill": {
     "duration": 0.038424,
     "end_time": "2023-05-28T14:21:22.051483",
     "exception": false,
     "start_time": "2023-05-28T14:21:22.013059",
     "status": "completed"
    },
    "tags": []
   },
   "outputs": [],
   "source": [
    "from sklearn.tree import DecisionTreeClassifier"
   ]
  },
  {
   "cell_type": "code",
   "execution_count": 75,
   "id": "6ebefd00",
   "metadata": {
    "execution": {
     "iopub.execute_input": "2023-05-28T14:21:22.121352Z",
     "iopub.status.busy": "2023-05-28T14:21:22.120702Z",
     "iopub.status.idle": "2023-05-28T14:21:22.124501Z",
     "shell.execute_reply": "2023-05-28T14:21:22.123676Z"
    },
    "papermill": {
     "duration": 0.03842,
     "end_time": "2023-05-28T14:21:22.126442",
     "exception": false,
     "start_time": "2023-05-28T14:21:22.088022",
     "status": "completed"
    },
    "tags": []
   },
   "outputs": [],
   "source": [
    "Clf = DecisionTreeClassifier()"
   ]
  },
  {
   "cell_type": "code",
   "execution_count": 76,
   "id": "679866c0",
   "metadata": {
    "execution": {
     "iopub.execute_input": "2023-05-28T14:21:22.188856Z",
     "iopub.status.busy": "2023-05-28T14:21:22.188323Z",
     "iopub.status.idle": "2023-05-28T14:21:22.202387Z",
     "shell.execute_reply": "2023-05-28T14:21:22.201408Z"
    },
    "papermill": {
     "duration": 0.047002,
     "end_time": "2023-05-28T14:21:22.204162",
     "exception": false,
     "start_time": "2023-05-28T14:21:22.157160",
     "status": "completed"
    },
    "tags": []
   },
   "outputs": [
    {
     "data": {
      "text/html": [
       "<style>#sk-container-id-1 {color: black;background-color: white;}#sk-container-id-1 pre{padding: 0;}#sk-container-id-1 div.sk-toggleable {background-color: white;}#sk-container-id-1 label.sk-toggleable__label {cursor: pointer;display: block;width: 100%;margin-bottom: 0;padding: 0.3em;box-sizing: border-box;text-align: center;}#sk-container-id-1 label.sk-toggleable__label-arrow:before {content: \"▸\";float: left;margin-right: 0.25em;color: #696969;}#sk-container-id-1 label.sk-toggleable__label-arrow:hover:before {color: black;}#sk-container-id-1 div.sk-estimator:hover label.sk-toggleable__label-arrow:before {color: black;}#sk-container-id-1 div.sk-toggleable__content {max-height: 0;max-width: 0;overflow: hidden;text-align: left;background-color: #f0f8ff;}#sk-container-id-1 div.sk-toggleable__content pre {margin: 0.2em;color: black;border-radius: 0.25em;background-color: #f0f8ff;}#sk-container-id-1 input.sk-toggleable__control:checked~div.sk-toggleable__content {max-height: 200px;max-width: 100%;overflow: auto;}#sk-container-id-1 input.sk-toggleable__control:checked~label.sk-toggleable__label-arrow:before {content: \"▾\";}#sk-container-id-1 div.sk-estimator input.sk-toggleable__control:checked~label.sk-toggleable__label {background-color: #d4ebff;}#sk-container-id-1 div.sk-label input.sk-toggleable__control:checked~label.sk-toggleable__label {background-color: #d4ebff;}#sk-container-id-1 input.sk-hidden--visually {border: 0;clip: rect(1px 1px 1px 1px);clip: rect(1px, 1px, 1px, 1px);height: 1px;margin: -1px;overflow: hidden;padding: 0;position: absolute;width: 1px;}#sk-container-id-1 div.sk-estimator {font-family: monospace;background-color: #f0f8ff;border: 1px dotted black;border-radius: 0.25em;box-sizing: border-box;margin-bottom: 0.5em;}#sk-container-id-1 div.sk-estimator:hover {background-color: #d4ebff;}#sk-container-id-1 div.sk-parallel-item::after {content: \"\";width: 100%;border-bottom: 1px solid gray;flex-grow: 1;}#sk-container-id-1 div.sk-label:hover label.sk-toggleable__label {background-color: #d4ebff;}#sk-container-id-1 div.sk-serial::before {content: \"\";position: absolute;border-left: 1px solid gray;box-sizing: border-box;top: 0;bottom: 0;left: 50%;z-index: 0;}#sk-container-id-1 div.sk-serial {display: flex;flex-direction: column;align-items: center;background-color: white;padding-right: 0.2em;padding-left: 0.2em;position: relative;}#sk-container-id-1 div.sk-item {position: relative;z-index: 1;}#sk-container-id-1 div.sk-parallel {display: flex;align-items: stretch;justify-content: center;background-color: white;position: relative;}#sk-container-id-1 div.sk-item::before, #sk-container-id-1 div.sk-parallel-item::before {content: \"\";position: absolute;border-left: 1px solid gray;box-sizing: border-box;top: 0;bottom: 0;left: 50%;z-index: -1;}#sk-container-id-1 div.sk-parallel-item {display: flex;flex-direction: column;z-index: 1;position: relative;background-color: white;}#sk-container-id-1 div.sk-parallel-item:first-child::after {align-self: flex-end;width: 50%;}#sk-container-id-1 div.sk-parallel-item:last-child::after {align-self: flex-start;width: 50%;}#sk-container-id-1 div.sk-parallel-item:only-child::after {width: 0;}#sk-container-id-1 div.sk-dashed-wrapped {border: 1px dashed gray;margin: 0 0.4em 0.5em 0.4em;box-sizing: border-box;padding-bottom: 0.4em;background-color: white;}#sk-container-id-1 div.sk-label label {font-family: monospace;font-weight: bold;display: inline-block;line-height: 1.2em;}#sk-container-id-1 div.sk-label-container {text-align: center;}#sk-container-id-1 div.sk-container {/* jupyter's `normalize.less` sets `[hidden] { display: none; }` but bootstrap.min.css set `[hidden] { display: none !important; }` so we also need the `!important` here to be able to override the default hidden behavior on the sphinx rendered scikit-learn.org. See: https://github.com/scikit-learn/scikit-learn/issues/21755 */display: inline-block !important;position: relative;}#sk-container-id-1 div.sk-text-repr-fallback {display: none;}</style><div id=\"sk-container-id-1\" class=\"sk-top-container\"><div class=\"sk-text-repr-fallback\"><pre>DecisionTreeClassifier()</pre><b>In a Jupyter environment, please rerun this cell to show the HTML representation or trust the notebook. <br />On GitHub, the HTML representation is unable to render, please try loading this page with nbviewer.org.</b></div><div class=\"sk-container\" hidden><div class=\"sk-item\"><div class=\"sk-estimator sk-toggleable\"><input class=\"sk-toggleable__control sk-hidden--visually\" id=\"sk-estimator-id-1\" type=\"checkbox\" checked><label for=\"sk-estimator-id-1\" class=\"sk-toggleable__label sk-toggleable__label-arrow\">DecisionTreeClassifier</label><div class=\"sk-toggleable__content\"><pre>DecisionTreeClassifier()</pre></div></div></div></div></div>"
      ],
      "text/plain": [
       "DecisionTreeClassifier()"
      ]
     },
     "execution_count": 76,
     "metadata": {},
     "output_type": "execute_result"
    }
   ],
   "source": [
    "Clf.fit(xtrain,ytrain)"
   ]
  },
  {
   "cell_type": "code",
   "execution_count": 77,
   "id": "d53f2427",
   "metadata": {
    "execution": {
     "iopub.execute_input": "2023-05-28T14:21:22.267878Z",
     "iopub.status.busy": "2023-05-28T14:21:22.267309Z",
     "iopub.status.idle": "2023-05-28T14:21:22.277093Z",
     "shell.execute_reply": "2023-05-28T14:21:22.276439Z"
    },
    "papermill": {
     "duration": 0.043755,
     "end_time": "2023-05-28T14:21:22.278747",
     "exception": false,
     "start_time": "2023-05-28T14:21:22.234992",
     "status": "completed"
    },
    "tags": []
   },
   "outputs": [
    {
     "data": {
      "text/plain": [
       "0.6726370096369123"
      ]
     },
     "execution_count": 77,
     "metadata": {},
     "output_type": "execute_result"
    }
   ],
   "source": [
    "Clf.score(xtest,ytest)"
   ]
  },
  {
   "cell_type": "markdown",
   "id": "46c31763",
   "metadata": {
    "papermill": {
     "duration": 0.031211,
     "end_time": "2023-05-28T14:21:22.341256",
     "exception": false,
     "start_time": "2023-05-28T14:21:22.310045",
     "status": "completed"
    },
    "tags": []
   },
   "source": [
    "## Without Sampling"
   ]
  },
  {
   "cell_type": "code",
   "execution_count": 78,
   "id": "64aa48e4",
   "metadata": {
    "execution": {
     "iopub.execute_input": "2023-05-28T14:21:22.404935Z",
     "iopub.status.busy": "2023-05-28T14:21:22.404367Z",
     "iopub.status.idle": "2023-05-28T14:21:22.409772Z",
     "shell.execute_reply": "2023-05-28T14:21:22.408513Z"
    },
    "papermill": {
     "duration": 0.039395,
     "end_time": "2023-05-28T14:21:22.411510",
     "exception": false,
     "start_time": "2023-05-28T14:21:22.372115",
     "status": "completed"
    },
    "tags": []
   },
   "outputs": [
    {
     "data": {
      "text/plain": [
       "(7043, 19)"
      ]
     },
     "execution_count": 78,
     "metadata": {},
     "output_type": "execute_result"
    }
   ],
   "source": [
    "x.shape"
   ]
  },
  {
   "cell_type": "code",
   "execution_count": 79,
   "id": "ac766fec",
   "metadata": {
    "execution": {
     "iopub.execute_input": "2023-05-28T14:21:22.474253Z",
     "iopub.status.busy": "2023-05-28T14:21:22.473707Z",
     "iopub.status.idle": "2023-05-28T14:21:22.480105Z",
     "shell.execute_reply": "2023-05-28T14:21:22.479144Z"
    },
    "papermill": {
     "duration": 0.03987,
     "end_time": "2023-05-28T14:21:22.481750",
     "exception": false,
     "start_time": "2023-05-28T14:21:22.441880",
     "status": "completed"
    },
    "tags": []
   },
   "outputs": [],
   "source": [
    "xtrain1, xtest1,ytrain1,ytest1 = train_test_split(x,y,train_size=75,random_state=42)"
   ]
  },
  {
   "cell_type": "code",
   "execution_count": 80,
   "id": "18e4bcc7",
   "metadata": {
    "execution": {
     "iopub.execute_input": "2023-05-28T14:21:22.545079Z",
     "iopub.status.busy": "2023-05-28T14:21:22.544718Z",
     "iopub.status.idle": "2023-05-28T14:21:22.553226Z",
     "shell.execute_reply": "2023-05-28T14:21:22.552671Z"
    },
    "papermill": {
     "duration": 0.042129,
     "end_time": "2023-05-28T14:21:22.554719",
     "exception": false,
     "start_time": "2023-05-28T14:21:22.512590",
     "status": "completed"
    },
    "tags": []
   },
   "outputs": [
    {
     "data": {
      "text/html": [
       "<style>#sk-container-id-2 {color: black;background-color: white;}#sk-container-id-2 pre{padding: 0;}#sk-container-id-2 div.sk-toggleable {background-color: white;}#sk-container-id-2 label.sk-toggleable__label {cursor: pointer;display: block;width: 100%;margin-bottom: 0;padding: 0.3em;box-sizing: border-box;text-align: center;}#sk-container-id-2 label.sk-toggleable__label-arrow:before {content: \"▸\";float: left;margin-right: 0.25em;color: #696969;}#sk-container-id-2 label.sk-toggleable__label-arrow:hover:before {color: black;}#sk-container-id-2 div.sk-estimator:hover label.sk-toggleable__label-arrow:before {color: black;}#sk-container-id-2 div.sk-toggleable__content {max-height: 0;max-width: 0;overflow: hidden;text-align: left;background-color: #f0f8ff;}#sk-container-id-2 div.sk-toggleable__content pre {margin: 0.2em;color: black;border-radius: 0.25em;background-color: #f0f8ff;}#sk-container-id-2 input.sk-toggleable__control:checked~div.sk-toggleable__content {max-height: 200px;max-width: 100%;overflow: auto;}#sk-container-id-2 input.sk-toggleable__control:checked~label.sk-toggleable__label-arrow:before {content: \"▾\";}#sk-container-id-2 div.sk-estimator input.sk-toggleable__control:checked~label.sk-toggleable__label {background-color: #d4ebff;}#sk-container-id-2 div.sk-label input.sk-toggleable__control:checked~label.sk-toggleable__label {background-color: #d4ebff;}#sk-container-id-2 input.sk-hidden--visually {border: 0;clip: rect(1px 1px 1px 1px);clip: rect(1px, 1px, 1px, 1px);height: 1px;margin: -1px;overflow: hidden;padding: 0;position: absolute;width: 1px;}#sk-container-id-2 div.sk-estimator {font-family: monospace;background-color: #f0f8ff;border: 1px dotted black;border-radius: 0.25em;box-sizing: border-box;margin-bottom: 0.5em;}#sk-container-id-2 div.sk-estimator:hover {background-color: #d4ebff;}#sk-container-id-2 div.sk-parallel-item::after {content: \"\";width: 100%;border-bottom: 1px solid gray;flex-grow: 1;}#sk-container-id-2 div.sk-label:hover label.sk-toggleable__label {background-color: #d4ebff;}#sk-container-id-2 div.sk-serial::before {content: \"\";position: absolute;border-left: 1px solid gray;box-sizing: border-box;top: 0;bottom: 0;left: 50%;z-index: 0;}#sk-container-id-2 div.sk-serial {display: flex;flex-direction: column;align-items: center;background-color: white;padding-right: 0.2em;padding-left: 0.2em;position: relative;}#sk-container-id-2 div.sk-item {position: relative;z-index: 1;}#sk-container-id-2 div.sk-parallel {display: flex;align-items: stretch;justify-content: center;background-color: white;position: relative;}#sk-container-id-2 div.sk-item::before, #sk-container-id-2 div.sk-parallel-item::before {content: \"\";position: absolute;border-left: 1px solid gray;box-sizing: border-box;top: 0;bottom: 0;left: 50%;z-index: -1;}#sk-container-id-2 div.sk-parallel-item {display: flex;flex-direction: column;z-index: 1;position: relative;background-color: white;}#sk-container-id-2 div.sk-parallel-item:first-child::after {align-self: flex-end;width: 50%;}#sk-container-id-2 div.sk-parallel-item:last-child::after {align-self: flex-start;width: 50%;}#sk-container-id-2 div.sk-parallel-item:only-child::after {width: 0;}#sk-container-id-2 div.sk-dashed-wrapped {border: 1px dashed gray;margin: 0 0.4em 0.5em 0.4em;box-sizing: border-box;padding-bottom: 0.4em;background-color: white;}#sk-container-id-2 div.sk-label label {font-family: monospace;font-weight: bold;display: inline-block;line-height: 1.2em;}#sk-container-id-2 div.sk-label-container {text-align: center;}#sk-container-id-2 div.sk-container {/* jupyter's `normalize.less` sets `[hidden] { display: none; }` but bootstrap.min.css set `[hidden] { display: none !important; }` so we also need the `!important` here to be able to override the default hidden behavior on the sphinx rendered scikit-learn.org. See: https://github.com/scikit-learn/scikit-learn/issues/21755 */display: inline-block !important;position: relative;}#sk-container-id-2 div.sk-text-repr-fallback {display: none;}</style><div id=\"sk-container-id-2\" class=\"sk-top-container\"><div class=\"sk-text-repr-fallback\"><pre>DecisionTreeClassifier()</pre><b>In a Jupyter environment, please rerun this cell to show the HTML representation or trust the notebook. <br />On GitHub, the HTML representation is unable to render, please try loading this page with nbviewer.org.</b></div><div class=\"sk-container\" hidden><div class=\"sk-item\"><div class=\"sk-estimator sk-toggleable\"><input class=\"sk-toggleable__control sk-hidden--visually\" id=\"sk-estimator-id-2\" type=\"checkbox\" checked><label for=\"sk-estimator-id-2\" class=\"sk-toggleable__label sk-toggleable__label-arrow\">DecisionTreeClassifier</label><div class=\"sk-toggleable__content\"><pre>DecisionTreeClassifier()</pre></div></div></div></div></div>"
      ],
      "text/plain": [
       "DecisionTreeClassifier()"
      ]
     },
     "execution_count": 80,
     "metadata": {},
     "output_type": "execute_result"
    }
   ],
   "source": [
    "Clf.fit(xtrain1,ytrain1)"
   ]
  },
  {
   "cell_type": "code",
   "execution_count": 81,
   "id": "1e76bbb6",
   "metadata": {
    "execution": {
     "iopub.execute_input": "2023-05-28T14:21:22.619683Z",
     "iopub.status.busy": "2023-05-28T14:21:22.618505Z",
     "iopub.status.idle": "2023-05-28T14:21:22.629741Z",
     "shell.execute_reply": "2023-05-28T14:21:22.629115Z"
    },
    "papermill": {
     "duration": 0.045466,
     "end_time": "2023-05-28T14:21:22.631464",
     "exception": false,
     "start_time": "2023-05-28T14:21:22.585998",
     "status": "completed"
    },
    "tags": []
   },
   "outputs": [
    {
     "data": {
      "text/plain": [
       "0.6029397449625231"
      ]
     },
     "execution_count": 81,
     "metadata": {},
     "output_type": "execute_result"
    }
   ],
   "source": [
    "Clf.score(xtest,ytest)"
   ]
  },
  {
   "cell_type": "markdown",
   "id": "1dad0339",
   "metadata": {
    "papermill": {
     "duration": 0.030322,
     "end_time": "2023-05-28T14:21:22.693794",
     "exception": false,
     "start_time": "2023-05-28T14:21:22.663472",
     "status": "completed"
    },
    "tags": []
   },
   "source": [
    "## Xgboost"
   ]
  },
  {
   "cell_type": "code",
   "execution_count": 82,
   "id": "d85cda53",
   "metadata": {
    "execution": {
     "iopub.execute_input": "2023-05-28T14:21:22.761916Z",
     "iopub.status.busy": "2023-05-28T14:21:22.761584Z",
     "iopub.status.idle": "2023-05-28T14:21:22.943575Z",
     "shell.execute_reply": "2023-05-28T14:21:22.942557Z"
    },
    "papermill": {
     "duration": 0.21811,
     "end_time": "2023-05-28T14:21:22.945920",
     "exception": false,
     "start_time": "2023-05-28T14:21:22.727810",
     "status": "completed"
    },
    "tags": []
   },
   "outputs": [],
   "source": [
    "import xgboost\n",
    "from xgboost import XGBClassifier"
   ]
  },
  {
   "cell_type": "code",
   "execution_count": 83,
   "id": "f37daf00",
   "metadata": {
    "execution": {
     "iopub.execute_input": "2023-05-28T14:21:23.011256Z",
     "iopub.status.busy": "2023-05-28T14:21:23.010886Z",
     "iopub.status.idle": "2023-05-28T14:21:23.015969Z",
     "shell.execute_reply": "2023-05-28T14:21:23.014576Z"
    },
    "papermill": {
     "duration": 0.039634,
     "end_time": "2023-05-28T14:21:23.017881",
     "exception": false,
     "start_time": "2023-05-28T14:21:22.978247",
     "status": "completed"
    },
    "tags": []
   },
   "outputs": [],
   "source": [
    "xgb = XGBClassifier()"
   ]
  },
  {
   "cell_type": "code",
   "execution_count": 84,
   "id": "45bbccc8",
   "metadata": {
    "execution": {
     "iopub.execute_input": "2023-05-28T14:21:23.084438Z",
     "iopub.status.busy": "2023-05-28T14:21:23.083409Z",
     "iopub.status.idle": "2023-05-28T14:21:23.156092Z",
     "shell.execute_reply": "2023-05-28T14:21:23.155093Z"
    },
    "papermill": {
     "duration": 0.107864,
     "end_time": "2023-05-28T14:21:23.157852",
     "exception": false,
     "start_time": "2023-05-28T14:21:23.049988",
     "status": "completed"
    },
    "tags": []
   },
   "outputs": [
    {
     "data": {
      "text/html": [
       "<style>#sk-container-id-3 {color: black;background-color: white;}#sk-container-id-3 pre{padding: 0;}#sk-container-id-3 div.sk-toggleable {background-color: white;}#sk-container-id-3 label.sk-toggleable__label {cursor: pointer;display: block;width: 100%;margin-bottom: 0;padding: 0.3em;box-sizing: border-box;text-align: center;}#sk-container-id-3 label.sk-toggleable__label-arrow:before {content: \"▸\";float: left;margin-right: 0.25em;color: #696969;}#sk-container-id-3 label.sk-toggleable__label-arrow:hover:before {color: black;}#sk-container-id-3 div.sk-estimator:hover label.sk-toggleable__label-arrow:before {color: black;}#sk-container-id-3 div.sk-toggleable__content {max-height: 0;max-width: 0;overflow: hidden;text-align: left;background-color: #f0f8ff;}#sk-container-id-3 div.sk-toggleable__content pre {margin: 0.2em;color: black;border-radius: 0.25em;background-color: #f0f8ff;}#sk-container-id-3 input.sk-toggleable__control:checked~div.sk-toggleable__content {max-height: 200px;max-width: 100%;overflow: auto;}#sk-container-id-3 input.sk-toggleable__control:checked~label.sk-toggleable__label-arrow:before {content: \"▾\";}#sk-container-id-3 div.sk-estimator input.sk-toggleable__control:checked~label.sk-toggleable__label {background-color: #d4ebff;}#sk-container-id-3 div.sk-label input.sk-toggleable__control:checked~label.sk-toggleable__label {background-color: #d4ebff;}#sk-container-id-3 input.sk-hidden--visually {border: 0;clip: rect(1px 1px 1px 1px);clip: rect(1px, 1px, 1px, 1px);height: 1px;margin: -1px;overflow: hidden;padding: 0;position: absolute;width: 1px;}#sk-container-id-3 div.sk-estimator {font-family: monospace;background-color: #f0f8ff;border: 1px dotted black;border-radius: 0.25em;box-sizing: border-box;margin-bottom: 0.5em;}#sk-container-id-3 div.sk-estimator:hover {background-color: #d4ebff;}#sk-container-id-3 div.sk-parallel-item::after {content: \"\";width: 100%;border-bottom: 1px solid gray;flex-grow: 1;}#sk-container-id-3 div.sk-label:hover label.sk-toggleable__label {background-color: #d4ebff;}#sk-container-id-3 div.sk-serial::before {content: \"\";position: absolute;border-left: 1px solid gray;box-sizing: border-box;top: 0;bottom: 0;left: 50%;z-index: 0;}#sk-container-id-3 div.sk-serial {display: flex;flex-direction: column;align-items: center;background-color: white;padding-right: 0.2em;padding-left: 0.2em;position: relative;}#sk-container-id-3 div.sk-item {position: relative;z-index: 1;}#sk-container-id-3 div.sk-parallel {display: flex;align-items: stretch;justify-content: center;background-color: white;position: relative;}#sk-container-id-3 div.sk-item::before, #sk-container-id-3 div.sk-parallel-item::before {content: \"\";position: absolute;border-left: 1px solid gray;box-sizing: border-box;top: 0;bottom: 0;left: 50%;z-index: -1;}#sk-container-id-3 div.sk-parallel-item {display: flex;flex-direction: column;z-index: 1;position: relative;background-color: white;}#sk-container-id-3 div.sk-parallel-item:first-child::after {align-self: flex-end;width: 50%;}#sk-container-id-3 div.sk-parallel-item:last-child::after {align-self: flex-start;width: 50%;}#sk-container-id-3 div.sk-parallel-item:only-child::after {width: 0;}#sk-container-id-3 div.sk-dashed-wrapped {border: 1px dashed gray;margin: 0 0.4em 0.5em 0.4em;box-sizing: border-box;padding-bottom: 0.4em;background-color: white;}#sk-container-id-3 div.sk-label label {font-family: monospace;font-weight: bold;display: inline-block;line-height: 1.2em;}#sk-container-id-3 div.sk-label-container {text-align: center;}#sk-container-id-3 div.sk-container {/* jupyter's `normalize.less` sets `[hidden] { display: none; }` but bootstrap.min.css set `[hidden] { display: none !important; }` so we also need the `!important` here to be able to override the default hidden behavior on the sphinx rendered scikit-learn.org. See: https://github.com/scikit-learn/scikit-learn/issues/21755 */display: inline-block !important;position: relative;}#sk-container-id-3 div.sk-text-repr-fallback {display: none;}</style><div id=\"sk-container-id-3\" class=\"sk-top-container\"><div class=\"sk-text-repr-fallback\"><pre>XGBClassifier(base_score=None, booster=None, callbacks=None,\n",
       "              colsample_bylevel=None, colsample_bynode=None,\n",
       "              colsample_bytree=None, early_stopping_rounds=None,\n",
       "              enable_categorical=False, eval_metric=None, feature_types=None,\n",
       "              gamma=None, gpu_id=None, grow_policy=None, importance_type=None,\n",
       "              interaction_constraints=None, learning_rate=None, max_bin=None,\n",
       "              max_cat_threshold=None, max_cat_to_onehot=None,\n",
       "              max_delta_step=None, max_depth=None, max_leaves=None,\n",
       "              min_child_weight=None, missing=nan, monotone_constraints=None,\n",
       "              n_estimators=100, n_jobs=None, num_parallel_tree=None,\n",
       "              predictor=None, random_state=None, ...)</pre><b>In a Jupyter environment, please rerun this cell to show the HTML representation or trust the notebook. <br />On GitHub, the HTML representation is unable to render, please try loading this page with nbviewer.org.</b></div><div class=\"sk-container\" hidden><div class=\"sk-item\"><div class=\"sk-estimator sk-toggleable\"><input class=\"sk-toggleable__control sk-hidden--visually\" id=\"sk-estimator-id-3\" type=\"checkbox\" checked><label for=\"sk-estimator-id-3\" class=\"sk-toggleable__label sk-toggleable__label-arrow\">XGBClassifier</label><div class=\"sk-toggleable__content\"><pre>XGBClassifier(base_score=None, booster=None, callbacks=None,\n",
       "              colsample_bylevel=None, colsample_bynode=None,\n",
       "              colsample_bytree=None, early_stopping_rounds=None,\n",
       "              enable_categorical=False, eval_metric=None, feature_types=None,\n",
       "              gamma=None, gpu_id=None, grow_policy=None, importance_type=None,\n",
       "              interaction_constraints=None, learning_rate=None, max_bin=None,\n",
       "              max_cat_threshold=None, max_cat_to_onehot=None,\n",
       "              max_delta_step=None, max_depth=None, max_leaves=None,\n",
       "              min_child_weight=None, missing=nan, monotone_constraints=None,\n",
       "              n_estimators=100, n_jobs=None, num_parallel_tree=None,\n",
       "              predictor=None, random_state=None, ...)</pre></div></div></div></div></div>"
      ],
      "text/plain": [
       "XGBClassifier(base_score=None, booster=None, callbacks=None,\n",
       "              colsample_bylevel=None, colsample_bynode=None,\n",
       "              colsample_bytree=None, early_stopping_rounds=None,\n",
       "              enable_categorical=False, eval_metric=None, feature_types=None,\n",
       "              gamma=None, gpu_id=None, grow_policy=None, importance_type=None,\n",
       "              interaction_constraints=None, learning_rate=None, max_bin=None,\n",
       "              max_cat_threshold=None, max_cat_to_onehot=None,\n",
       "              max_delta_step=None, max_depth=None, max_leaves=None,\n",
       "              min_child_weight=None, missing=nan, monotone_constraints=None,\n",
       "              n_estimators=100, n_jobs=None, num_parallel_tree=None,\n",
       "              predictor=None, random_state=None, ...)"
      ]
     },
     "execution_count": 84,
     "metadata": {},
     "output_type": "execute_result"
    }
   ],
   "source": [
    "xgb.fit(xtrain,ytrain)"
   ]
  },
  {
   "cell_type": "code",
   "execution_count": 85,
   "id": "ee94ed84",
   "metadata": {
    "execution": {
     "iopub.execute_input": "2023-05-28T14:21:23.225405Z",
     "iopub.status.busy": "2023-05-28T14:21:23.224644Z",
     "iopub.status.idle": "2023-05-28T14:21:23.240863Z",
     "shell.execute_reply": "2023-05-28T14:21:23.240143Z"
    },
    "papermill": {
     "duration": 0.051438,
     "end_time": "2023-05-28T14:21:23.242707",
     "exception": false,
     "start_time": "2023-05-28T14:21:23.191269",
     "status": "completed"
    },
    "tags": []
   },
   "outputs": [
    {
     "data": {
      "text/plain": [
       "0.7181933223011778"
      ]
     },
     "execution_count": 85,
     "metadata": {},
     "output_type": "execute_result"
    }
   ],
   "source": [
    "xgb.score(xtest,ytest)"
   ]
  },
  {
   "cell_type": "code",
   "execution_count": 86,
   "id": "f2bac353",
   "metadata": {
    "execution": {
     "iopub.execute_input": "2023-05-28T14:21:23.309561Z",
     "iopub.status.busy": "2023-05-28T14:21:23.308682Z",
     "iopub.status.idle": "2023-05-28T14:21:23.352494Z",
     "shell.execute_reply": "2023-05-28T14:21:23.351432Z"
    },
    "papermill": {
     "duration": 0.079954,
     "end_time": "2023-05-28T14:21:23.354924",
     "exception": false,
     "start_time": "2023-05-28T14:21:23.274970",
     "status": "completed"
    },
    "tags": []
   },
   "outputs": [
    {
     "data": {
      "text/html": [
       "<style>#sk-container-id-4 {color: black;background-color: white;}#sk-container-id-4 pre{padding: 0;}#sk-container-id-4 div.sk-toggleable {background-color: white;}#sk-container-id-4 label.sk-toggleable__label {cursor: pointer;display: block;width: 100%;margin-bottom: 0;padding: 0.3em;box-sizing: border-box;text-align: center;}#sk-container-id-4 label.sk-toggleable__label-arrow:before {content: \"▸\";float: left;margin-right: 0.25em;color: #696969;}#sk-container-id-4 label.sk-toggleable__label-arrow:hover:before {color: black;}#sk-container-id-4 div.sk-estimator:hover label.sk-toggleable__label-arrow:before {color: black;}#sk-container-id-4 div.sk-toggleable__content {max-height: 0;max-width: 0;overflow: hidden;text-align: left;background-color: #f0f8ff;}#sk-container-id-4 div.sk-toggleable__content pre {margin: 0.2em;color: black;border-radius: 0.25em;background-color: #f0f8ff;}#sk-container-id-4 input.sk-toggleable__control:checked~div.sk-toggleable__content {max-height: 200px;max-width: 100%;overflow: auto;}#sk-container-id-4 input.sk-toggleable__control:checked~label.sk-toggleable__label-arrow:before {content: \"▾\";}#sk-container-id-4 div.sk-estimator input.sk-toggleable__control:checked~label.sk-toggleable__label {background-color: #d4ebff;}#sk-container-id-4 div.sk-label input.sk-toggleable__control:checked~label.sk-toggleable__label {background-color: #d4ebff;}#sk-container-id-4 input.sk-hidden--visually {border: 0;clip: rect(1px 1px 1px 1px);clip: rect(1px, 1px, 1px, 1px);height: 1px;margin: -1px;overflow: hidden;padding: 0;position: absolute;width: 1px;}#sk-container-id-4 div.sk-estimator {font-family: monospace;background-color: #f0f8ff;border: 1px dotted black;border-radius: 0.25em;box-sizing: border-box;margin-bottom: 0.5em;}#sk-container-id-4 div.sk-estimator:hover {background-color: #d4ebff;}#sk-container-id-4 div.sk-parallel-item::after {content: \"\";width: 100%;border-bottom: 1px solid gray;flex-grow: 1;}#sk-container-id-4 div.sk-label:hover label.sk-toggleable__label {background-color: #d4ebff;}#sk-container-id-4 div.sk-serial::before {content: \"\";position: absolute;border-left: 1px solid gray;box-sizing: border-box;top: 0;bottom: 0;left: 50%;z-index: 0;}#sk-container-id-4 div.sk-serial {display: flex;flex-direction: column;align-items: center;background-color: white;padding-right: 0.2em;padding-left: 0.2em;position: relative;}#sk-container-id-4 div.sk-item {position: relative;z-index: 1;}#sk-container-id-4 div.sk-parallel {display: flex;align-items: stretch;justify-content: center;background-color: white;position: relative;}#sk-container-id-4 div.sk-item::before, #sk-container-id-4 div.sk-parallel-item::before {content: \"\";position: absolute;border-left: 1px solid gray;box-sizing: border-box;top: 0;bottom: 0;left: 50%;z-index: -1;}#sk-container-id-4 div.sk-parallel-item {display: flex;flex-direction: column;z-index: 1;position: relative;background-color: white;}#sk-container-id-4 div.sk-parallel-item:first-child::after {align-self: flex-end;width: 50%;}#sk-container-id-4 div.sk-parallel-item:last-child::after {align-self: flex-start;width: 50%;}#sk-container-id-4 div.sk-parallel-item:only-child::after {width: 0;}#sk-container-id-4 div.sk-dashed-wrapped {border: 1px dashed gray;margin: 0 0.4em 0.5em 0.4em;box-sizing: border-box;padding-bottom: 0.4em;background-color: white;}#sk-container-id-4 div.sk-label label {font-family: monospace;font-weight: bold;display: inline-block;line-height: 1.2em;}#sk-container-id-4 div.sk-label-container {text-align: center;}#sk-container-id-4 div.sk-container {/* jupyter's `normalize.less` sets `[hidden] { display: none; }` but bootstrap.min.css set `[hidden] { display: none !important; }` so we also need the `!important` here to be able to override the default hidden behavior on the sphinx rendered scikit-learn.org. See: https://github.com/scikit-learn/scikit-learn/issues/21755 */display: inline-block !important;position: relative;}#sk-container-id-4 div.sk-text-repr-fallback {display: none;}</style><div id=\"sk-container-id-4\" class=\"sk-top-container\"><div class=\"sk-text-repr-fallback\"><pre>XGBClassifier(base_score=None, booster=None, callbacks=None,\n",
       "              colsample_bylevel=None, colsample_bynode=None,\n",
       "              colsample_bytree=None, early_stopping_rounds=None,\n",
       "              enable_categorical=False, eval_metric=None, feature_types=None,\n",
       "              gamma=None, gpu_id=None, grow_policy=None, importance_type=None,\n",
       "              interaction_constraints=None, learning_rate=None, max_bin=None,\n",
       "              max_cat_threshold=None, max_cat_to_onehot=None,\n",
       "              max_delta_step=None, max_depth=None, max_leaves=None,\n",
       "              min_child_weight=None, missing=nan, monotone_constraints=None,\n",
       "              n_estimators=100, n_jobs=None, num_parallel_tree=None,\n",
       "              predictor=None, random_state=None, ...)</pre><b>In a Jupyter environment, please rerun this cell to show the HTML representation or trust the notebook. <br />On GitHub, the HTML representation is unable to render, please try loading this page with nbviewer.org.</b></div><div class=\"sk-container\" hidden><div class=\"sk-item\"><div class=\"sk-estimator sk-toggleable\"><input class=\"sk-toggleable__control sk-hidden--visually\" id=\"sk-estimator-id-4\" type=\"checkbox\" checked><label for=\"sk-estimator-id-4\" class=\"sk-toggleable__label sk-toggleable__label-arrow\">XGBClassifier</label><div class=\"sk-toggleable__content\"><pre>XGBClassifier(base_score=None, booster=None, callbacks=None,\n",
       "              colsample_bylevel=None, colsample_bynode=None,\n",
       "              colsample_bytree=None, early_stopping_rounds=None,\n",
       "              enable_categorical=False, eval_metric=None, feature_types=None,\n",
       "              gamma=None, gpu_id=None, grow_policy=None, importance_type=None,\n",
       "              interaction_constraints=None, learning_rate=None, max_bin=None,\n",
       "              max_cat_threshold=None, max_cat_to_onehot=None,\n",
       "              max_delta_step=None, max_depth=None, max_leaves=None,\n",
       "              min_child_weight=None, missing=nan, monotone_constraints=None,\n",
       "              n_estimators=100, n_jobs=None, num_parallel_tree=None,\n",
       "              predictor=None, random_state=None, ...)</pre></div></div></div></div></div>"
      ],
      "text/plain": [
       "XGBClassifier(base_score=None, booster=None, callbacks=None,\n",
       "              colsample_bylevel=None, colsample_bynode=None,\n",
       "              colsample_bytree=None, early_stopping_rounds=None,\n",
       "              enable_categorical=False, eval_metric=None, feature_types=None,\n",
       "              gamma=None, gpu_id=None, grow_policy=None, importance_type=None,\n",
       "              interaction_constraints=None, learning_rate=None, max_bin=None,\n",
       "              max_cat_threshold=None, max_cat_to_onehot=None,\n",
       "              max_delta_step=None, max_depth=None, max_leaves=None,\n",
       "              min_child_weight=None, missing=nan, monotone_constraints=None,\n",
       "              n_estimators=100, n_jobs=None, num_parallel_tree=None,\n",
       "              predictor=None, random_state=None, ...)"
      ]
     },
     "execution_count": 86,
     "metadata": {},
     "output_type": "execute_result"
    }
   ],
   "source": [
    "## Before sampling\n",
    "xgb.fit(xtrain1,ytrain1)"
   ]
  },
  {
   "cell_type": "code",
   "execution_count": 87,
   "id": "bd5a6b4b",
   "metadata": {
    "execution": {
     "iopub.execute_input": "2023-05-28T14:21:23.421823Z",
     "iopub.status.busy": "2023-05-28T14:21:23.421469Z",
     "iopub.status.idle": "2023-05-28T14:21:23.440508Z",
     "shell.execute_reply": "2023-05-28T14:21:23.439368Z"
    },
    "papermill": {
     "duration": 0.055553,
     "end_time": "2023-05-28T14:21:23.443012",
     "exception": false,
     "start_time": "2023-05-28T14:21:23.387459",
     "status": "completed"
    },
    "tags": []
   },
   "outputs": [
    {
     "data": {
      "text/plain": [
       "0.7590413318025259"
      ]
     },
     "execution_count": 87,
     "metadata": {},
     "output_type": "execute_result"
    }
   ],
   "source": [
    "xgb.score(xtest1,ytest1)"
   ]
  },
  {
   "cell_type": "markdown",
   "id": "eecb1685",
   "metadata": {
    "papermill": {
     "duration": 0.031882,
     "end_time": "2023-05-28T14:21:23.507057",
     "exception": false,
     "start_time": "2023-05-28T14:21:23.475175",
     "status": "completed"
    },
    "tags": []
   },
   "source": [
    "## ADA Boost"
   ]
  },
  {
   "cell_type": "code",
   "execution_count": 88,
   "id": "87863621",
   "metadata": {
    "execution": {
     "iopub.execute_input": "2023-05-28T14:21:23.572151Z",
     "iopub.status.busy": "2023-05-28T14:21:23.571805Z",
     "iopub.status.idle": "2023-05-28T14:21:23.576261Z",
     "shell.execute_reply": "2023-05-28T14:21:23.575206Z"
    },
    "papermill": {
     "duration": 0.039994,
     "end_time": "2023-05-28T14:21:23.578696",
     "exception": false,
     "start_time": "2023-05-28T14:21:23.538702",
     "status": "completed"
    },
    "tags": []
   },
   "outputs": [],
   "source": [
    "from sklearn.ensemble import AdaBoostClassifier"
   ]
  },
  {
   "cell_type": "code",
   "execution_count": 89,
   "id": "fb832d7b",
   "metadata": {
    "execution": {
     "iopub.execute_input": "2023-05-28T14:21:23.646295Z",
     "iopub.status.busy": "2023-05-28T14:21:23.645898Z",
     "iopub.status.idle": "2023-05-28T14:21:23.649955Z",
     "shell.execute_reply": "2023-05-28T14:21:23.648926Z"
    },
    "papermill": {
     "duration": 0.041097,
     "end_time": "2023-05-28T14:21:23.652270",
     "exception": false,
     "start_time": "2023-05-28T14:21:23.611173",
     "status": "completed"
    },
    "tags": []
   },
   "outputs": [],
   "source": [
    "ada = AdaBoostClassifier()"
   ]
  },
  {
   "cell_type": "code",
   "execution_count": 90,
   "id": "8d3ba4c8",
   "metadata": {
    "execution": {
     "iopub.execute_input": "2023-05-28T14:21:23.720612Z",
     "iopub.status.busy": "2023-05-28T14:21:23.720053Z",
     "iopub.status.idle": "2023-05-28T14:21:23.800950Z",
     "shell.execute_reply": "2023-05-28T14:21:23.800283Z"
    },
    "papermill": {
     "duration": 0.117415,
     "end_time": "2023-05-28T14:21:23.803402",
     "exception": false,
     "start_time": "2023-05-28T14:21:23.685987",
     "status": "completed"
    },
    "tags": []
   },
   "outputs": [
    {
     "data": {
      "text/html": [
       "<style>#sk-container-id-5 {color: black;background-color: white;}#sk-container-id-5 pre{padding: 0;}#sk-container-id-5 div.sk-toggleable {background-color: white;}#sk-container-id-5 label.sk-toggleable__label {cursor: pointer;display: block;width: 100%;margin-bottom: 0;padding: 0.3em;box-sizing: border-box;text-align: center;}#sk-container-id-5 label.sk-toggleable__label-arrow:before {content: \"▸\";float: left;margin-right: 0.25em;color: #696969;}#sk-container-id-5 label.sk-toggleable__label-arrow:hover:before {color: black;}#sk-container-id-5 div.sk-estimator:hover label.sk-toggleable__label-arrow:before {color: black;}#sk-container-id-5 div.sk-toggleable__content {max-height: 0;max-width: 0;overflow: hidden;text-align: left;background-color: #f0f8ff;}#sk-container-id-5 div.sk-toggleable__content pre {margin: 0.2em;color: black;border-radius: 0.25em;background-color: #f0f8ff;}#sk-container-id-5 input.sk-toggleable__control:checked~div.sk-toggleable__content {max-height: 200px;max-width: 100%;overflow: auto;}#sk-container-id-5 input.sk-toggleable__control:checked~label.sk-toggleable__label-arrow:before {content: \"▾\";}#sk-container-id-5 div.sk-estimator input.sk-toggleable__control:checked~label.sk-toggleable__label {background-color: #d4ebff;}#sk-container-id-5 div.sk-label input.sk-toggleable__control:checked~label.sk-toggleable__label {background-color: #d4ebff;}#sk-container-id-5 input.sk-hidden--visually {border: 0;clip: rect(1px 1px 1px 1px);clip: rect(1px, 1px, 1px, 1px);height: 1px;margin: -1px;overflow: hidden;padding: 0;position: absolute;width: 1px;}#sk-container-id-5 div.sk-estimator {font-family: monospace;background-color: #f0f8ff;border: 1px dotted black;border-radius: 0.25em;box-sizing: border-box;margin-bottom: 0.5em;}#sk-container-id-5 div.sk-estimator:hover {background-color: #d4ebff;}#sk-container-id-5 div.sk-parallel-item::after {content: \"\";width: 100%;border-bottom: 1px solid gray;flex-grow: 1;}#sk-container-id-5 div.sk-label:hover label.sk-toggleable__label {background-color: #d4ebff;}#sk-container-id-5 div.sk-serial::before {content: \"\";position: absolute;border-left: 1px solid gray;box-sizing: border-box;top: 0;bottom: 0;left: 50%;z-index: 0;}#sk-container-id-5 div.sk-serial {display: flex;flex-direction: column;align-items: center;background-color: white;padding-right: 0.2em;padding-left: 0.2em;position: relative;}#sk-container-id-5 div.sk-item {position: relative;z-index: 1;}#sk-container-id-5 div.sk-parallel {display: flex;align-items: stretch;justify-content: center;background-color: white;position: relative;}#sk-container-id-5 div.sk-item::before, #sk-container-id-5 div.sk-parallel-item::before {content: \"\";position: absolute;border-left: 1px solid gray;box-sizing: border-box;top: 0;bottom: 0;left: 50%;z-index: -1;}#sk-container-id-5 div.sk-parallel-item {display: flex;flex-direction: column;z-index: 1;position: relative;background-color: white;}#sk-container-id-5 div.sk-parallel-item:first-child::after {align-self: flex-end;width: 50%;}#sk-container-id-5 div.sk-parallel-item:last-child::after {align-self: flex-start;width: 50%;}#sk-container-id-5 div.sk-parallel-item:only-child::after {width: 0;}#sk-container-id-5 div.sk-dashed-wrapped {border: 1px dashed gray;margin: 0 0.4em 0.5em 0.4em;box-sizing: border-box;padding-bottom: 0.4em;background-color: white;}#sk-container-id-5 div.sk-label label {font-family: monospace;font-weight: bold;display: inline-block;line-height: 1.2em;}#sk-container-id-5 div.sk-label-container {text-align: center;}#sk-container-id-5 div.sk-container {/* jupyter's `normalize.less` sets `[hidden] { display: none; }` but bootstrap.min.css set `[hidden] { display: none !important; }` so we also need the `!important` here to be able to override the default hidden behavior on the sphinx rendered scikit-learn.org. See: https://github.com/scikit-learn/scikit-learn/issues/21755 */display: inline-block !important;position: relative;}#sk-container-id-5 div.sk-text-repr-fallback {display: none;}</style><div id=\"sk-container-id-5\" class=\"sk-top-container\"><div class=\"sk-text-repr-fallback\"><pre>AdaBoostClassifier()</pre><b>In a Jupyter environment, please rerun this cell to show the HTML representation or trust the notebook. <br />On GitHub, the HTML representation is unable to render, please try loading this page with nbviewer.org.</b></div><div class=\"sk-container\" hidden><div class=\"sk-item\"><div class=\"sk-estimator sk-toggleable\"><input class=\"sk-toggleable__control sk-hidden--visually\" id=\"sk-estimator-id-5\" type=\"checkbox\" checked><label for=\"sk-estimator-id-5\" class=\"sk-toggleable__label sk-toggleable__label-arrow\">AdaBoostClassifier</label><div class=\"sk-toggleable__content\"><pre>AdaBoostClassifier()</pre></div></div></div></div></div>"
      ],
      "text/plain": [
       "AdaBoostClassifier()"
      ]
     },
     "execution_count": 90,
     "metadata": {},
     "output_type": "execute_result"
    }
   ],
   "source": [
    "##Before Sampling\n",
    "ada.fit(xtrain1,ytrain1)"
   ]
  },
  {
   "cell_type": "code",
   "execution_count": 91,
   "id": "7e17aa1f",
   "metadata": {
    "execution": {
     "iopub.execute_input": "2023-05-28T14:21:23.870563Z",
     "iopub.status.busy": "2023-05-28T14:21:23.870223Z",
     "iopub.status.idle": "2023-05-28T14:21:23.923639Z",
     "shell.execute_reply": "2023-05-28T14:21:23.922397Z"
    },
    "papermill": {
     "duration": 0.089483,
     "end_time": "2023-05-28T14:21:23.925689",
     "exception": false,
     "start_time": "2023-05-28T14:21:23.836206",
     "status": "completed"
    },
    "tags": []
   },
   "outputs": [
    {
     "data": {
      "text/plain": [
       "0.7659299655568312"
      ]
     },
     "execution_count": 91,
     "metadata": {},
     "output_type": "execute_result"
    }
   ],
   "source": [
    "ada.score(xtest1,ytest1)"
   ]
  },
  {
   "cell_type": "code",
   "execution_count": 92,
   "id": "a6ba0cef",
   "metadata": {
    "execution": {
     "iopub.execute_input": "2023-05-28T14:21:23.994635Z",
     "iopub.status.busy": "2023-05-28T14:21:23.994245Z",
     "iopub.status.idle": "2023-05-28T14:21:24.073027Z",
     "shell.execute_reply": "2023-05-28T14:21:24.071777Z"
    },
    "papermill": {
     "duration": 0.115641,
     "end_time": "2023-05-28T14:21:24.075099",
     "exception": false,
     "start_time": "2023-05-28T14:21:23.959458",
     "status": "completed"
    },
    "tags": []
   },
   "outputs": [
    {
     "data": {
      "text/html": [
       "<style>#sk-container-id-6 {color: black;background-color: white;}#sk-container-id-6 pre{padding: 0;}#sk-container-id-6 div.sk-toggleable {background-color: white;}#sk-container-id-6 label.sk-toggleable__label {cursor: pointer;display: block;width: 100%;margin-bottom: 0;padding: 0.3em;box-sizing: border-box;text-align: center;}#sk-container-id-6 label.sk-toggleable__label-arrow:before {content: \"▸\";float: left;margin-right: 0.25em;color: #696969;}#sk-container-id-6 label.sk-toggleable__label-arrow:hover:before {color: black;}#sk-container-id-6 div.sk-estimator:hover label.sk-toggleable__label-arrow:before {color: black;}#sk-container-id-6 div.sk-toggleable__content {max-height: 0;max-width: 0;overflow: hidden;text-align: left;background-color: #f0f8ff;}#sk-container-id-6 div.sk-toggleable__content pre {margin: 0.2em;color: black;border-radius: 0.25em;background-color: #f0f8ff;}#sk-container-id-6 input.sk-toggleable__control:checked~div.sk-toggleable__content {max-height: 200px;max-width: 100%;overflow: auto;}#sk-container-id-6 input.sk-toggleable__control:checked~label.sk-toggleable__label-arrow:before {content: \"▾\";}#sk-container-id-6 div.sk-estimator input.sk-toggleable__control:checked~label.sk-toggleable__label {background-color: #d4ebff;}#sk-container-id-6 div.sk-label input.sk-toggleable__control:checked~label.sk-toggleable__label {background-color: #d4ebff;}#sk-container-id-6 input.sk-hidden--visually {border: 0;clip: rect(1px 1px 1px 1px);clip: rect(1px, 1px, 1px, 1px);height: 1px;margin: -1px;overflow: hidden;padding: 0;position: absolute;width: 1px;}#sk-container-id-6 div.sk-estimator {font-family: monospace;background-color: #f0f8ff;border: 1px dotted black;border-radius: 0.25em;box-sizing: border-box;margin-bottom: 0.5em;}#sk-container-id-6 div.sk-estimator:hover {background-color: #d4ebff;}#sk-container-id-6 div.sk-parallel-item::after {content: \"\";width: 100%;border-bottom: 1px solid gray;flex-grow: 1;}#sk-container-id-6 div.sk-label:hover label.sk-toggleable__label {background-color: #d4ebff;}#sk-container-id-6 div.sk-serial::before {content: \"\";position: absolute;border-left: 1px solid gray;box-sizing: border-box;top: 0;bottom: 0;left: 50%;z-index: 0;}#sk-container-id-6 div.sk-serial {display: flex;flex-direction: column;align-items: center;background-color: white;padding-right: 0.2em;padding-left: 0.2em;position: relative;}#sk-container-id-6 div.sk-item {position: relative;z-index: 1;}#sk-container-id-6 div.sk-parallel {display: flex;align-items: stretch;justify-content: center;background-color: white;position: relative;}#sk-container-id-6 div.sk-item::before, #sk-container-id-6 div.sk-parallel-item::before {content: \"\";position: absolute;border-left: 1px solid gray;box-sizing: border-box;top: 0;bottom: 0;left: 50%;z-index: -1;}#sk-container-id-6 div.sk-parallel-item {display: flex;flex-direction: column;z-index: 1;position: relative;background-color: white;}#sk-container-id-6 div.sk-parallel-item:first-child::after {align-self: flex-end;width: 50%;}#sk-container-id-6 div.sk-parallel-item:last-child::after {align-self: flex-start;width: 50%;}#sk-container-id-6 div.sk-parallel-item:only-child::after {width: 0;}#sk-container-id-6 div.sk-dashed-wrapped {border: 1px dashed gray;margin: 0 0.4em 0.5em 0.4em;box-sizing: border-box;padding-bottom: 0.4em;background-color: white;}#sk-container-id-6 div.sk-label label {font-family: monospace;font-weight: bold;display: inline-block;line-height: 1.2em;}#sk-container-id-6 div.sk-label-container {text-align: center;}#sk-container-id-6 div.sk-container {/* jupyter's `normalize.less` sets `[hidden] { display: none; }` but bootstrap.min.css set `[hidden] { display: none !important; }` so we also need the `!important` here to be able to override the default hidden behavior on the sphinx rendered scikit-learn.org. See: https://github.com/scikit-learn/scikit-learn/issues/21755 */display: inline-block !important;position: relative;}#sk-container-id-6 div.sk-text-repr-fallback {display: none;}</style><div id=\"sk-container-id-6\" class=\"sk-top-container\"><div class=\"sk-text-repr-fallback\"><pre>AdaBoostClassifier()</pre><b>In a Jupyter environment, please rerun this cell to show the HTML representation or trust the notebook. <br />On GitHub, the HTML representation is unable to render, please try loading this page with nbviewer.org.</b></div><div class=\"sk-container\" hidden><div class=\"sk-item\"><div class=\"sk-estimator sk-toggleable\"><input class=\"sk-toggleable__control sk-hidden--visually\" id=\"sk-estimator-id-6\" type=\"checkbox\" checked><label for=\"sk-estimator-id-6\" class=\"sk-toggleable__label sk-toggleable__label-arrow\">AdaBoostClassifier</label><div class=\"sk-toggleable__content\"><pre>AdaBoostClassifier()</pre></div></div></div></div></div>"
      ],
      "text/plain": [
       "AdaBoostClassifier()"
      ]
     },
     "execution_count": 92,
     "metadata": {},
     "output_type": "execute_result"
    }
   ],
   "source": [
    "##After Sampling\n",
    "ada.fit(xtrain,ytrain)"
   ]
  },
  {
   "cell_type": "code",
   "execution_count": 93,
   "id": "acc3a1ba",
   "metadata": {
    "execution": {
     "iopub.execute_input": "2023-05-28T14:21:24.141255Z",
     "iopub.status.busy": "2023-05-28T14:21:24.140881Z",
     "iopub.status.idle": "2023-05-28T14:21:24.210576Z",
     "shell.execute_reply": "2023-05-28T14:21:24.209349Z"
    },
    "papermill": {
     "duration": 0.105492,
     "end_time": "2023-05-28T14:21:24.212945",
     "exception": false,
     "start_time": "2023-05-28T14:21:24.107453",
     "status": "completed"
    },
    "tags": []
   },
   "outputs": [
    {
     "data": {
      "text/plain": [
       "0.6831500048671274"
      ]
     },
     "execution_count": 93,
     "metadata": {},
     "output_type": "execute_result"
    }
   ],
   "source": [
    "ada.score(xtest,ytest)"
   ]
  },
  {
   "cell_type": "markdown",
   "id": "837345ed",
   "metadata": {
    "papermill": {
     "duration": 0.032217,
     "end_time": "2023-05-28T14:21:24.278237",
     "exception": false,
     "start_time": "2023-05-28T14:21:24.246020",
     "status": "completed"
    },
    "tags": []
   },
   "source": [
    "## K Fold Cross Validation"
   ]
  },
  {
   "cell_type": "code",
   "execution_count": 94,
   "id": "09cbbebe",
   "metadata": {
    "execution": {
     "iopub.execute_input": "2023-05-28T14:21:24.346527Z",
     "iopub.status.busy": "2023-05-28T14:21:24.346191Z",
     "iopub.status.idle": "2023-05-28T14:21:24.350746Z",
     "shell.execute_reply": "2023-05-28T14:21:24.349676Z"
    },
    "papermill": {
     "duration": 0.041379,
     "end_time": "2023-05-28T14:21:24.352987",
     "exception": false,
     "start_time": "2023-05-28T14:21:24.311608",
     "status": "completed"
    },
    "tags": []
   },
   "outputs": [],
   "source": [
    "from sklearn.model_selection import KFold, cross_val_score, cross_validate"
   ]
  },
  {
   "cell_type": "code",
   "execution_count": 95,
   "id": "8d05c35d",
   "metadata": {
    "execution": {
     "iopub.execute_input": "2023-05-28T14:21:24.420940Z",
     "iopub.status.busy": "2023-05-28T14:21:24.420622Z",
     "iopub.status.idle": "2023-05-28T14:21:24.424574Z",
     "shell.execute_reply": "2023-05-28T14:21:24.423572Z"
    },
    "papermill": {
     "duration": 0.040259,
     "end_time": "2023-05-28T14:21:24.426226",
     "exception": false,
     "start_time": "2023-05-28T14:21:24.385967",
     "status": "completed"
    },
    "tags": []
   },
   "outputs": [],
   "source": [
    "kfold = KFold(n_splits=4) #each fold contains 25% data"
   ]
  },
  {
   "cell_type": "code",
   "execution_count": 96,
   "id": "66c0fad7",
   "metadata": {
    "execution": {
     "iopub.execute_input": "2023-05-28T14:21:24.494498Z",
     "iopub.status.busy": "2023-05-28T14:21:24.493896Z",
     "iopub.status.idle": "2023-05-28T14:21:26.769451Z",
     "shell.execute_reply": "2023-05-28T14:21:26.768697Z"
    },
    "papermill": {
     "duration": 2.312318,
     "end_time": "2023-05-28T14:21:26.771587",
     "exception": false,
     "start_time": "2023-05-28T14:21:24.459269",
     "status": "completed"
    },
    "tags": []
   },
   "outputs": [],
   "source": [
    "result = cross_val_score(xgb, x_new, y_new, cv=kfold)"
   ]
  },
  {
   "cell_type": "code",
   "execution_count": 97,
   "id": "14708582",
   "metadata": {
    "execution": {
     "iopub.execute_input": "2023-05-28T14:21:26.840510Z",
     "iopub.status.busy": "2023-05-28T14:21:26.839604Z",
     "iopub.status.idle": "2023-05-28T14:21:26.845746Z",
     "shell.execute_reply": "2023-05-28T14:21:26.844836Z"
    },
    "papermill": {
     "duration": 0.043125,
     "end_time": "2023-05-28T14:21:26.848217",
     "exception": false,
     "start_time": "2023-05-28T14:21:26.805092",
     "status": "completed"
    },
    "tags": []
   },
   "outputs": [
    {
     "data": {
      "text/plain": [
       "array([0.79628914, 0.77966757, 0.86084267, 0.87398531])"
      ]
     },
     "execution_count": 97,
     "metadata": {},
     "output_type": "execute_result"
    }
   ],
   "source": [
    "result"
   ]
  },
  {
   "cell_type": "code",
   "execution_count": 98,
   "id": "88aba1d3",
   "metadata": {
    "execution": {
     "iopub.execute_input": "2023-05-28T14:21:26.917389Z",
     "iopub.status.busy": "2023-05-28T14:21:26.916775Z",
     "iopub.status.idle": "2023-05-28T14:21:26.923038Z",
     "shell.execute_reply": "2023-05-28T14:21:26.921922Z"
    },
    "papermill": {
     "duration": 0.043627,
     "end_time": "2023-05-28T14:21:26.925485",
     "exception": false,
     "start_time": "2023-05-28T14:21:26.881858",
     "status": "completed"
    },
    "tags": []
   },
   "outputs": [
    {
     "data": {
      "text/plain": [
       "0.8276961731735601"
      ]
     },
     "execution_count": 98,
     "metadata": {},
     "output_type": "execute_result"
    }
   ],
   "source": [
    "result.mean()"
   ]
  },
  {
   "cell_type": "code",
   "execution_count": 99,
   "id": "d143a8b5",
   "metadata": {
    "execution": {
     "iopub.execute_input": "2023-05-28T14:21:26.994943Z",
     "iopub.status.busy": "2023-05-28T14:21:26.994288Z",
     "iopub.status.idle": "2023-05-28T14:21:27.001458Z",
     "shell.execute_reply": "2023-05-28T14:21:27.000465Z"
    },
    "papermill": {
     "duration": 0.043493,
     "end_time": "2023-05-28T14:21:27.003101",
     "exception": false,
     "start_time": "2023-05-28T14:21:26.959608",
     "status": "completed"
    },
    "tags": []
   },
   "outputs": [
    {
     "data": {
      "text/plain": [
       "0.8739853111712408"
      ]
     },
     "execution_count": 99,
     "metadata": {},
     "output_type": "execute_result"
    }
   ],
   "source": [
    "result.max()"
   ]
  },
  {
   "cell_type": "markdown",
   "id": "4c4ce2c9",
   "metadata": {
    "papermill": {
     "duration": 0.032445,
     "end_time": "2023-05-28T14:21:27.068790",
     "exception": false,
     "start_time": "2023-05-28T14:21:27.036345",
     "status": "completed"
    },
    "tags": []
   },
   "source": [
    "## Stratified K Fold Cross Validation"
   ]
  },
  {
   "cell_type": "code",
   "execution_count": 100,
   "id": "94cd39ee",
   "metadata": {
    "execution": {
     "iopub.execute_input": "2023-05-28T14:21:27.136262Z",
     "iopub.status.busy": "2023-05-28T14:21:27.135654Z",
     "iopub.status.idle": "2023-05-28T14:21:27.139276Z",
     "shell.execute_reply": "2023-05-28T14:21:27.138646Z"
    },
    "papermill": {
     "duration": 0.038804,
     "end_time": "2023-05-28T14:21:27.140846",
     "exception": false,
     "start_time": "2023-05-28T14:21:27.102042",
     "status": "completed"
    },
    "tags": []
   },
   "outputs": [],
   "source": [
    "from sklearn.model_selection import StratifiedKFold"
   ]
  },
  {
   "cell_type": "code",
   "execution_count": 101,
   "id": "ae1783e6",
   "metadata": {
    "execution": {
     "iopub.execute_input": "2023-05-28T14:21:27.206949Z",
     "iopub.status.busy": "2023-05-28T14:21:27.206367Z",
     "iopub.status.idle": "2023-05-28T14:21:27.209951Z",
     "shell.execute_reply": "2023-05-28T14:21:27.209339Z"
    },
    "papermill": {
     "duration": 0.038415,
     "end_time": "2023-05-28T14:21:27.211561",
     "exception": false,
     "start_time": "2023-05-28T14:21:27.173146",
     "status": "completed"
    },
    "tags": []
   },
   "outputs": [],
   "source": [
    "st = StratifiedKFold(n_splits=4)"
   ]
  },
  {
   "cell_type": "code",
   "execution_count": 102,
   "id": "cc6959db",
   "metadata": {
    "execution": {
     "iopub.execute_input": "2023-05-28T14:21:27.281205Z",
     "iopub.status.busy": "2023-05-28T14:21:27.280621Z",
     "iopub.status.idle": "2023-05-28T14:21:29.485561Z",
     "shell.execute_reply": "2023-05-28T14:21:29.484793Z"
    },
    "papermill": {
     "duration": 2.243943,
     "end_time": "2023-05-28T14:21:29.487850",
     "exception": false,
     "start_time": "2023-05-28T14:21:27.243907",
     "status": "completed"
    },
    "tags": []
   },
   "outputs": [],
   "source": [
    "score2 = cross_val_score(xgb,x_new,y_new,cv=st)"
   ]
  },
  {
   "cell_type": "code",
   "execution_count": 103,
   "id": "f2ad4cde",
   "metadata": {
    "execution": {
     "iopub.execute_input": "2023-05-28T14:21:29.555727Z",
     "iopub.status.busy": "2023-05-28T14:21:29.555169Z",
     "iopub.status.idle": "2023-05-28T14:21:29.560539Z",
     "shell.execute_reply": "2023-05-28T14:21:29.559517Z"
    },
    "papermill": {
     "duration": 0.041754,
     "end_time": "2023-05-28T14:21:29.562249",
     "exception": false,
     "start_time": "2023-05-28T14:21:29.520495",
     "status": "completed"
    },
    "tags": []
   },
   "outputs": [
    {
     "data": {
      "text/plain": [
       "array([0.84808659, 0.8562041 , 0.85890993, 0.8867414 ])"
      ]
     },
     "execution_count": 103,
     "metadata": {},
     "output_type": "execute_result"
    }
   ],
   "source": [
    "score2"
   ]
  },
  {
   "cell_type": "code",
   "execution_count": 104,
   "id": "1cc3c064",
   "metadata": {
    "execution": {
     "iopub.execute_input": "2023-05-28T14:21:29.628873Z",
     "iopub.status.busy": "2023-05-28T14:21:29.628311Z",
     "iopub.status.idle": "2023-05-28T14:21:29.633541Z",
     "shell.execute_reply": "2023-05-28T14:21:29.632542Z"
    },
    "papermill": {
     "duration": 0.040839,
     "end_time": "2023-05-28T14:21:29.635541",
     "exception": false,
     "start_time": "2023-05-28T14:21:29.594702",
     "status": "completed"
    },
    "tags": []
   },
   "outputs": [
    {
     "data": {
      "text/plain": [
       "0.8867413993042134"
      ]
     },
     "execution_count": 104,
     "metadata": {},
     "output_type": "execute_result"
    }
   ],
   "source": [
    "score2.max()"
   ]
  },
  {
   "cell_type": "code",
   "execution_count": 105,
   "id": "2d692c3e",
   "metadata": {
    "execution": {
     "iopub.execute_input": "2023-05-28T14:21:29.705533Z",
     "iopub.status.busy": "2023-05-28T14:21:29.705174Z",
     "iopub.status.idle": "2023-05-28T14:21:29.711488Z",
     "shell.execute_reply": "2023-05-28T14:21:29.710598Z"
    },
    "papermill": {
     "duration": 0.044157,
     "end_time": "2023-05-28T14:21:29.713246",
     "exception": false,
     "start_time": "2023-05-28T14:21:29.669089",
     "status": "completed"
    },
    "tags": []
   },
   "outputs": [
    {
     "data": {
      "text/plain": [
       "0.8480865867800541"
      ]
     },
     "execution_count": 105,
     "metadata": {},
     "output_type": "execute_result"
    }
   ],
   "source": [
    "score2.min()"
   ]
  },
  {
   "cell_type": "code",
   "execution_count": 106,
   "id": "7dfe66af",
   "metadata": {
    "execution": {
     "iopub.execute_input": "2023-05-28T14:21:29.780565Z",
     "iopub.status.busy": "2023-05-28T14:21:29.780209Z",
     "iopub.status.idle": "2023-05-28T14:21:29.786079Z",
     "shell.execute_reply": "2023-05-28T14:21:29.785051Z"
    },
    "papermill": {
     "duration": 0.041389,
     "end_time": "2023-05-28T14:21:29.787787",
     "exception": false,
     "start_time": "2023-05-28T14:21:29.746398",
     "status": "completed"
    },
    "tags": []
   },
   "outputs": [
    {
     "data": {
      "text/plain": [
       "0.8624855044453035"
      ]
     },
     "execution_count": 106,
     "metadata": {},
     "output_type": "execute_result"
    }
   ],
   "source": [
    "score2.mean()"
   ]
  },
  {
   "cell_type": "markdown",
   "id": "4bc214fe",
   "metadata": {
    "papermill": {
     "duration": 0.032269,
     "end_time": "2023-05-28T14:21:29.852065",
     "exception": false,
     "start_time": "2023-05-28T14:21:29.819796",
     "status": "completed"
    },
    "tags": []
   },
   "source": [
    "## Leave One Out Cross Validation"
   ]
  },
  {
   "cell_type": "code",
   "execution_count": 107,
   "id": "8ae6ed4b",
   "metadata": {
    "execution": {
     "iopub.execute_input": "2023-05-28T14:21:29.918295Z",
     "iopub.status.busy": "2023-05-28T14:21:29.917909Z",
     "iopub.status.idle": "2023-05-28T14:21:29.922087Z",
     "shell.execute_reply": "2023-05-28T14:21:29.921182Z"
    },
    "papermill": {
     "duration": 0.039686,
     "end_time": "2023-05-28T14:21:29.923944",
     "exception": false,
     "start_time": "2023-05-28T14:21:29.884258",
     "status": "completed"
    },
    "tags": []
   },
   "outputs": [],
   "source": [
    "from sklearn.model_selection import LeaveOneOut"
   ]
  },
  {
   "cell_type": "code",
   "execution_count": 108,
   "id": "3a15b7ed",
   "metadata": {
    "execution": {
     "iopub.execute_input": "2023-05-28T14:21:29.993403Z",
     "iopub.status.busy": "2023-05-28T14:21:29.991703Z",
     "iopub.status.idle": "2023-05-28T14:21:29.996678Z",
     "shell.execute_reply": "2023-05-28T14:21:29.996064Z"
    },
    "papermill": {
     "duration": 0.041379,
     "end_time": "2023-05-28T14:21:29.998443",
     "exception": false,
     "start_time": "2023-05-28T14:21:29.957064",
     "status": "completed"
    },
    "tags": []
   },
   "outputs": [],
   "source": [
    "le = LeaveOneOut()"
   ]
  },
  {
   "cell_type": "code",
   "execution_count": 109,
   "id": "50416006",
   "metadata": {
    "execution": {
     "iopub.execute_input": "2023-05-28T14:21:30.067929Z",
     "iopub.status.busy": "2023-05-28T14:21:30.067226Z",
     "iopub.status.idle": "2023-05-28T14:21:30.072079Z",
     "shell.execute_reply": "2023-05-28T14:21:30.071369Z"
    },
    "papermill": {
     "duration": 0.041873,
     "end_time": "2023-05-28T14:21:30.073893",
     "exception": false,
     "start_time": "2023-05-28T14:21:30.032020",
     "status": "completed"
    },
    "tags": []
   },
   "outputs": [],
   "source": [
    "#result3 = cross_val_score(xgb,x_new,y_new,cv=le)"
   ]
  },
  {
   "cell_type": "code",
   "execution_count": 110,
   "id": "6d0052a8",
   "metadata": {
    "execution": {
     "iopub.execute_input": "2023-05-28T14:21:30.144075Z",
     "iopub.status.busy": "2023-05-28T14:21:30.143728Z",
     "iopub.status.idle": "2023-05-28T14:21:30.147769Z",
     "shell.execute_reply": "2023-05-28T14:21:30.146529Z"
    },
    "papermill": {
     "duration": 0.041766,
     "end_time": "2023-05-28T14:21:30.150214",
     "exception": false,
     "start_time": "2023-05-28T14:21:30.108448",
     "status": "completed"
    },
    "tags": []
   },
   "outputs": [],
   "source": [
    "#result3"
   ]
  },
  {
   "cell_type": "code",
   "execution_count": 111,
   "id": "0f7c8a08",
   "metadata": {
    "execution": {
     "iopub.execute_input": "2023-05-28T14:21:30.220689Z",
     "iopub.status.busy": "2023-05-28T14:21:30.219940Z",
     "iopub.status.idle": "2023-05-28T14:21:30.223611Z",
     "shell.execute_reply": "2023-05-28T14:21:30.222965Z"
    },
    "papermill": {
     "duration": 0.041215,
     "end_time": "2023-05-28T14:21:30.225615",
     "exception": false,
     "start_time": "2023-05-28T14:21:30.184400",
     "status": "completed"
    },
    "tags": []
   },
   "outputs": [],
   "source": [
    "#result3.mean()"
   ]
  }
 ],
 "metadata": {
  "kernelspec": {
   "display_name": "Python 3",
   "language": "python",
   "name": "python3"
  },
  "language_info": {
   "codemirror_mode": {
    "name": "ipython",
    "version": 3
   },
   "file_extension": ".py",
   "mimetype": "text/x-python",
   "name": "python",
   "nbconvert_exporter": "python",
   "pygments_lexer": "ipython3",
   "version": "3.10.10"
  },
  "papermill": {
   "default_parameters": {},
   "duration": 28.642719,
   "end_time": "2023-05-28T14:21:31.281878",
   "environment_variables": {},
   "exception": null,
   "input_path": "__notebook__.ipynb",
   "output_path": "__notebook__.ipynb",
   "parameters": {},
   "start_time": "2023-05-28T14:21:02.639159",
   "version": "2.4.0"
  }
 },
 "nbformat": 4,
 "nbformat_minor": 5
}
